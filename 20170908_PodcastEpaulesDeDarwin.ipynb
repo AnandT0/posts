{
 "cells": [
  {
   "cell_type": "markdown",
   "metadata": {},
   "source": [
    "Dans ce billet, nous allons [comme il y a quelques semaines](http://flothesof.github.io/podcast-rendez-vous-avec-X-fr.html), construire un flux RSS pour mon émission radio préférée : *Sur les épaules de Darwin*, animée par l'extraordinaire Jean Claude Ameisen.\n",
    "\n",
    "Afin de faire ceci, nous allons partir du [travail de Clément Grimal](http://clementgrimal.fr/darwin/), qui maintient une liste à jour des émissions avec des liens de téléchargement. \n",
    "\n",
    "Une question, avant de commencer. Pourquoi faire ce travail, alors que le site de Clément permet déjà d'écouter à volonté ces émissions ? Parce que son site ne permet pas de faire une recherche plein texte sur le contenu des émissions et également parce que j'aime écouter les émissions dans un logiciel de podcast afin de garder un historique de mes écoutes (j'utilise [Podcast Addict](https://play.google.com/store/apps/details?id=com.bambuna.podcastaddict&hl=en)).\n",
    "\n",
    "\n",
    "**TL;DR**\n",
    "Le lien vers le flux RSS généré à partir du présent notebook est ici : *https://raw.githubusercontent.com/flothesof/posts/master/files/podcast_Sur_les_epaules_de_Darwin.xml*"
   ]
  },
  {
   "cell_type": "markdown",
   "metadata": {},
   "source": [
    "Date de dernière mise à jour : *avril 2020*."
   ]
  },
  {
   "cell_type": "markdown",
   "metadata": {},
   "source": [
    "# Récupération des liens vers les émissions"
   ]
  },
  {
   "cell_type": "markdown",
   "metadata": {},
   "source": [
    "Comme je le disais, notre point de départ est le site de Clément Grimal. Nous analysons sa source avec `beautifulsoup4` pour en extraire les éléments qui nous intéressent :\n",
    "\n",
    "\n",
    "- titre de l'émission\n",
    "- date de diffusion\n",
    "- lien de téléchargement\n",
    "- lien vers la page du site France Inter"
   ]
  },
  {
   "cell_type": "code",
   "execution_count": 1,
   "metadata": {},
   "outputs": [],
   "source": [
    "import requests\n",
    "from bs4 import BeautifulSoup\n",
    "\n",
    "\n",
    "base_url = \"http://clementgrimal.fr/darwin/\"\n",
    "\n",
    "r = requests.get(base_url)\n",
    "r.encoding = 'utf-8'\n",
    "\n",
    "soup = BeautifulSoup(r.text, 'html.parser')"
   ]
  },
  {
   "cell_type": "markdown",
   "metadata": {},
   "source": [
    "L'objet `soup` nous permet d'extraire les différents éléments de la page web, de manière structurée. On obtient la liste de toutes les émissions de cette manière :"
   ]
  },
  {
   "cell_type": "code",
   "execution_count": 2,
   "metadata": {},
   "outputs": [
    {
     "data": {
      "text/plain": [
       "516"
      ]
     },
     "execution_count": 2,
     "metadata": {},
     "output_type": "execute_result"
    }
   ],
   "source": [
    "all_shows = ([item for item in (li.find('table') for li in soup.findAll('li')) if item])\n",
    "\n",
    "len(all_shows)"
   ]
  },
  {
   "cell_type": "markdown",
   "metadata": {},
   "source": [
    "A partir du tag `li` (item de liste en HTML), on peut obtenir le lien vers le fichier mp3 ainsi que le site France Inter, de même que le titre et la date de diffusion.\n",
    "\n",
    "Par exemple avec le dernier épisode : "
   ]
  },
  {
   "cell_type": "code",
   "execution_count": 3,
   "metadata": {},
   "outputs": [
    {
     "data": {
      "text/plain": [
       "'./files/2020-04-11 - aux-origines-du-chocolat-8.mp3'"
      ]
     },
     "execution_count": 3,
     "metadata": {},
     "output_type": "execute_result"
    }
   ],
   "source": [
    "show = all_shows[-1]\n",
    "\n",
    "show.find('a', class_='download-link').attrs['href'].strip()"
   ]
  },
  {
   "cell_type": "code",
   "execution_count": 4,
   "metadata": {},
   "outputs": [
    {
     "data": {
      "text/plain": [
       "'https://www.franceinter.fr/emissions/sur-les-epaules-de-darwin/sur-les-epaules-de-darwin-11-avril-2020'"
      ]
     },
     "execution_count": 4,
     "metadata": {},
     "output_type": "execute_result"
    }
   ],
   "source": [
    "show.find('span').find('a').attrs['href']"
   ]
  },
  {
   "cell_type": "code",
   "execution_count": 5,
   "metadata": {},
   "outputs": [
    {
     "data": {
      "text/plain": [
       "'Aux Origines du Chocolat (8)'"
      ]
     },
     "execution_count": 5,
     "metadata": {},
     "output_type": "execute_result"
    }
   ],
   "source": [
    "show.find('span').find('a').text"
   ]
  },
  {
   "cell_type": "code",
   "execution_count": 6,
   "metadata": {},
   "outputs": [
    {
     "data": {
      "text/plain": [
       "'11 Avril 2020'"
      ]
     },
     "execution_count": 6,
     "metadata": {},
     "output_type": "execute_result"
    }
   ],
   "source": [
    "str(show.find('span').find('a').next_sibling)[14:]"
   ]
  },
  {
   "cell_type": "markdown",
   "metadata": {},
   "source": [
    "Ecrivons maintenant une boucle pour extraire ces informations pour l'intégralité des épisodes :"
   ]
  },
  {
   "cell_type": "code",
   "execution_count": 19,
   "metadata": {},
   "outputs": [
    {
     "name": "stdout",
     "output_type": "stream",
     "text": [
      "lien de téléchargement indisponible pour l'émission https://www.franceinter.fr/emissions/sur-les-epaules-de-darwin/sur-les-epaules-de-darwin-12-janvier-2013\n",
      "lien de téléchargement indisponible pour l'émission https://www.franceinter.fr/emissions/sur-les-epaules-de-darwin/sur-les-epaules-de-darwin-28-mars-2015\n",
      "lien de téléchargement indisponible pour l'émission https://www.franceinter.fr/emissions/sur-les-epaules-de-darwin/sur-les-epaules-de-darwin-04-avril-2015\n",
      "lien de téléchargement indisponible pour l'émission https://www.franceinter.fr/emissions/sur-les-epaules-de-darwin/sur-les-epaules-de-darwin-11-avril-2015\n",
      "lien de téléchargement indisponible pour l'émission https://www.franceinter.fr/emissions/sur-les-epaules-de-darwin/sur-les-epaules-de-darwin-02-juin-2019\n",
      "lien de téléchargement indisponible pour l'émission https://www.franceinter.fr/emissions/sur-les-epaules-de-darwin/sur-les-epaules-de-darwin-09-juin-2019\n",
      "lien de téléchargement indisponible pour l'émission https://www.franceinter.fr/emissions/sur-les-epaules-de-darwin/sur-les-epaules-de-darwin-29-juin-2019\n",
      "lien de téléchargement indisponible pour l'émission https://www.franceinter.fr/emissions/sur-les-epaules-de-darwin/sur-les-epaules-de-darwin-06-juillet-2019\n",
      "lien de téléchargement indisponible pour l'émission https://www.franceinter.fr/emissions/sur-les-epaules-de-darwin/sur-les-epaules-de-darwin-13-juillet-2019\n",
      "lien de téléchargement indisponible pour l'émission https://www.franceinter.fr/emissions/sur-les-epaules-de-darwin/sur-les-epaules-de-darwin-20-juillet-2019\n",
      "lien de téléchargement indisponible pour l'émission https://www.franceinter.fr/emissions/sur-les-epaules-de-darwin/sur-les-epaules-de-darwin-27-juillet-2019\n",
      "lien de téléchargement indisponible pour l'émission https://www.franceinter.fr/emissions/sur-les-epaules-de-darwin/sur-les-epaules-de-darwin-03-aout-2019\n",
      "lien de téléchargement indisponible pour l'émission https://www.franceinter.fr/emissions/sur-les-epaules-de-darwin/sur-les-epaules-de-darwin-10-aout-2019\n",
      "lien de téléchargement indisponible pour l'émission https://www.franceinter.fr/emissions/sur-les-epaules-de-darwin/sur-les-epaules-de-darwin-17-aout-2019\n",
      "lien de téléchargement indisponible pour l'émission https://www.franceinter.fr/emissions/sur-les-epaules-de-darwin/sur-les-epaules-de-darwin-24-aout-2019\n",
      "lien de téléchargement indisponible pour l'émission https://www.franceinter.fr/emissions/sur-les-epaules-de-darwin/sur-les-epaules-de-darwin-30-novembre-2019\n",
      "lien de téléchargement indisponible pour l'émission https://www.franceinter.fr/emissions/sur-les-epaules-de-darwin/sur-les-epaules-de-darwin-14-decembre-2019\n",
      "lien de téléchargement indisponible pour l'émission https://www.franceinter.fr/emissions/sur-les-epaules-de-darwin/sur-les-epaules-de-darwin-21-decembre-2019\n",
      "lien de téléchargement indisponible pour l'émission https://www.franceinter.fr/emissions/sur-les-epaules-de-darwin/sur-les-epaules-de-darwin-01-fevrier-2020\n"
     ]
    }
   ],
   "source": [
    "show_data = []\n",
    "for show in all_shows:\n",
    "    download_link = show.find('a', class_='download-link')\n",
    "    description_link = show.find('span').find('a').attrs['href']\n",
    "    title = show.find('span').find('a').text\n",
    "    date = str(show.find('span').find('a').next_sibling)[14:]\n",
    "    if download_link:\n",
    "        if download_link.attrs['href'].strip().startswith('.'):\n",
    "            download_link = \"http://clementgrimal.fr/darwin\" + download_link.attrs['href'].strip()[1:]\n",
    "        else:\n",
    "            download_link = download_link.attrs['href'].strip()\n",
    "        show_data.append([download_link, description_link, title, date])\n",
    "    else: \n",
    "        print(f\"lien de téléchargement indisponible pour l'émission {show.find('a').attrs['href']}\")"
   ]
  },
  {
   "cell_type": "markdown",
   "metadata": {},
   "source": [
    "Construisons une dataframe `pandas` avec ces données :"
   ]
  },
  {
   "cell_type": "code",
   "execution_count": 20,
   "metadata": {},
   "outputs": [
    {
     "data": {
      "text/html": [
       "<div>\n",
       "<style scoped>\n",
       "    .dataframe tbody tr th:only-of-type {\n",
       "        vertical-align: middle;\n",
       "    }\n",
       "\n",
       "    .dataframe tbody tr th {\n",
       "        vertical-align: top;\n",
       "    }\n",
       "\n",
       "    .dataframe thead th {\n",
       "        text-align: right;\n",
       "    }\n",
       "</style>\n",
       "<table border=\"1\" class=\"dataframe\">\n",
       "  <thead>\n",
       "    <tr style=\"text-align: right;\">\n",
       "      <th></th>\n",
       "      <th>lien mp3</th>\n",
       "      <th>lien description</th>\n",
       "      <th>titre</th>\n",
       "      <th>date</th>\n",
       "    </tr>\n",
       "  </thead>\n",
       "  <tbody>\n",
       "    <tr>\n",
       "      <th>0</th>\n",
       "      <td>http://prevost.pascal.free.fr/public/podcast/s...</td>\n",
       "      <td>http://www.franceinter.fr/em/sur-les-epaules-d...</td>\n",
       "      <td>La théorie de l'évolution de Charles Darwin</td>\n",
       "      <td>4 Septembre 2010</td>\n",
       "    </tr>\n",
       "    <tr>\n",
       "      <th>1</th>\n",
       "      <td>http://prevost.pascal.free.fr/public/podcast/s...</td>\n",
       "      <td>http://www.franceinter.fr/em/sur-les-epaules-d...</td>\n",
       "      <td>Le propre de l'homme?</td>\n",
       "      <td>11 Septembre 2010</td>\n",
       "    </tr>\n",
       "    <tr>\n",
       "      <th>2</th>\n",
       "      <td>http://prevost.pascal.free.fr/public/podcast/s...</td>\n",
       "      <td>http://www.franceinter.fr/em/sur-les-epaules-d...</td>\n",
       "      <td>Nos mémoires</td>\n",
       "      <td>18 Septembre 2010</td>\n",
       "    </tr>\n",
       "    <tr>\n",
       "      <th>3</th>\n",
       "      <td>http://prevost.pascal.free.fr/public/podcast/s...</td>\n",
       "      <td>http://www.franceinter.fr/em/sur-les-epaules-d...</td>\n",
       "      <td>Nos émotions</td>\n",
       "      <td>25 Septembre 2010</td>\n",
       "    </tr>\n",
       "    <tr>\n",
       "      <th>4</th>\n",
       "      <td>http://prevost.pascal.free.fr/public/podcast/s...</td>\n",
       "      <td>http://www.franceinter.fr/em/sur-les-epaules-d...</td>\n",
       "      <td>Longévité, jeunesse et vieillissement</td>\n",
       "      <td>2 Octobre 2010</td>\n",
       "    </tr>\n",
       "    <tr>\n",
       "      <th>5</th>\n",
       "      <td>http://prevost.pascal.free.fr/public/podcast/s...</td>\n",
       "      <td>http://www.franceinter.fr/em/sur-les-epaules-d...</td>\n",
       "      <td>MORT CELLULAIRE ET SCULPTURE DU VIVANT</td>\n",
       "      <td>9 Octobre 2010</td>\n",
       "    </tr>\n",
       "    <tr>\n",
       "      <th>6</th>\n",
       "      <td>http://prevost.pascal.free.fr/public/podcast/s...</td>\n",
       "      <td>http://www.franceinter.fr/em/sur-les-epaules-d...</td>\n",
       "      <td>NAISSANCES</td>\n",
       "      <td>16 Octobre 2010</td>\n",
       "    </tr>\n",
       "    <tr>\n",
       "      <th>7</th>\n",
       "      <td>http://prevost.pascal.free.fr/public/podcast/s...</td>\n",
       "      <td>http://www.franceinter.fr/em/sur-les-epaules-d...</td>\n",
       "      <td>Biodiversité</td>\n",
       "      <td>23 Octobre 2010</td>\n",
       "    </tr>\n",
       "    <tr>\n",
       "      <th>8</th>\n",
       "      <td>http://prevost.pascal.free.fr/public/podcast/s...</td>\n",
       "      <td>http://www.franceinter.fr/em/sur-les-epaules-d...</td>\n",
       "      <td>mort cellulaire et sculpture du vivant (2)</td>\n",
       "      <td>30 Octobre 2010</td>\n",
       "    </tr>\n",
       "    <tr>\n",
       "      <th>9</th>\n",
       "      <td>http://prevost.pascal.free.fr/public/podcast/s...</td>\n",
       "      <td>http://www.franceinter.fr/em/sur-les-epaules-d...</td>\n",
       "      <td>Un voyage avec Oliver Sacks         ( 1 )</td>\n",
       "      <td>6 Novembre 2010</td>\n",
       "    </tr>\n",
       "  </tbody>\n",
       "</table>\n",
       "</div>"
      ],
      "text/plain": [
       "                                            lien mp3  \\\n",
       "0  http://prevost.pascal.free.fr/public/podcast/s...   \n",
       "1  http://prevost.pascal.free.fr/public/podcast/s...   \n",
       "2  http://prevost.pascal.free.fr/public/podcast/s...   \n",
       "3  http://prevost.pascal.free.fr/public/podcast/s...   \n",
       "4  http://prevost.pascal.free.fr/public/podcast/s...   \n",
       "5  http://prevost.pascal.free.fr/public/podcast/s...   \n",
       "6  http://prevost.pascal.free.fr/public/podcast/s...   \n",
       "7  http://prevost.pascal.free.fr/public/podcast/s...   \n",
       "8  http://prevost.pascal.free.fr/public/podcast/s...   \n",
       "9  http://prevost.pascal.free.fr/public/podcast/s...   \n",
       "\n",
       "                                    lien description  \\\n",
       "0  http://www.franceinter.fr/em/sur-les-epaules-d...   \n",
       "1  http://www.franceinter.fr/em/sur-les-epaules-d...   \n",
       "2  http://www.franceinter.fr/em/sur-les-epaules-d...   \n",
       "3  http://www.franceinter.fr/em/sur-les-epaules-d...   \n",
       "4  http://www.franceinter.fr/em/sur-les-epaules-d...   \n",
       "5  http://www.franceinter.fr/em/sur-les-epaules-d...   \n",
       "6  http://www.franceinter.fr/em/sur-les-epaules-d...   \n",
       "7  http://www.franceinter.fr/em/sur-les-epaules-d...   \n",
       "8  http://www.franceinter.fr/em/sur-les-epaules-d...   \n",
       "9  http://www.franceinter.fr/em/sur-les-epaules-d...   \n",
       "\n",
       "                                         titre               date  \n",
       "0  La théorie de l'évolution de Charles Darwin   4 Septembre 2010  \n",
       "1                        Le propre de l'homme?  11 Septembre 2010  \n",
       "2                                 Nos mémoires  18 Septembre 2010  \n",
       "3                                 Nos émotions  25 Septembre 2010  \n",
       "4        Longévité, jeunesse et vieillissement     2 Octobre 2010  \n",
       "5       MORT CELLULAIRE ET SCULPTURE DU VIVANT     9 Octobre 2010  \n",
       "6                                   NAISSANCES    16 Octobre 2010  \n",
       "7                                 Biodiversité    23 Octobre 2010  \n",
       "8   mort cellulaire et sculpture du vivant (2)    30 Octobre 2010  \n",
       "9    Un voyage avec Oliver Sacks         ( 1 )    6 Novembre 2010  "
      ]
     },
     "execution_count": 20,
     "metadata": {},
     "output_type": "execute_result"
    }
   ],
   "source": [
    "import pandas as pd\n",
    "\n",
    "df = pd.DataFrame(show_data, columns=['lien mp3', 'lien description', 'titre', 'date'])\n",
    "df.head(10)"
   ]
  },
  {
   "cell_type": "code",
   "execution_count": 21,
   "metadata": {},
   "outputs": [
    {
     "data": {
      "text/html": [
       "<div>\n",
       "<style scoped>\n",
       "    .dataframe tbody tr th:only-of-type {\n",
       "        vertical-align: middle;\n",
       "    }\n",
       "\n",
       "    .dataframe tbody tr th {\n",
       "        vertical-align: top;\n",
       "    }\n",
       "\n",
       "    .dataframe thead th {\n",
       "        text-align: right;\n",
       "    }\n",
       "</style>\n",
       "<table border=\"1\" class=\"dataframe\">\n",
       "  <thead>\n",
       "    <tr style=\"text-align: right;\">\n",
       "      <th></th>\n",
       "      <th>lien mp3</th>\n",
       "      <th>lien description</th>\n",
       "      <th>titre</th>\n",
       "      <th>date</th>\n",
       "    </tr>\n",
       "  </thead>\n",
       "  <tbody>\n",
       "    <tr>\n",
       "      <th>count</th>\n",
       "      <td>497</td>\n",
       "      <td>497</td>\n",
       "      <td>497</td>\n",
       "      <td>497</td>\n",
       "    </tr>\n",
       "    <tr>\n",
       "      <th>unique</th>\n",
       "      <td>497</td>\n",
       "      <td>497</td>\n",
       "      <td>394</td>\n",
       "      <td>497</td>\n",
       "    </tr>\n",
       "    <tr>\n",
       "      <th>top</th>\n",
       "      <td>http://clementgrimal.fr/darwin/files/2011-04-2...</td>\n",
       "      <td>https://www.franceinter.fr/emissions/sur-les-e...</td>\n",
       "      <td>Le souci de l'autre</td>\n",
       "      <td>7 Mai 2016</td>\n",
       "    </tr>\n",
       "    <tr>\n",
       "      <th>freq</th>\n",
       "      <td>1</td>\n",
       "      <td>1</td>\n",
       "      <td>3</td>\n",
       "      <td>1</td>\n",
       "    </tr>\n",
       "  </tbody>\n",
       "</table>\n",
       "</div>"
      ],
      "text/plain": [
       "                                                 lien mp3  \\\n",
       "count                                                 497   \n",
       "unique                                                497   \n",
       "top     http://clementgrimal.fr/darwin/files/2011-04-2...   \n",
       "freq                                                    1   \n",
       "\n",
       "                                         lien description  \\\n",
       "count                                                 497   \n",
       "unique                                                497   \n",
       "top     https://www.franceinter.fr/emissions/sur-les-e...   \n",
       "freq                                                    1   \n",
       "\n",
       "                      titre        date  \n",
       "count                   497         497  \n",
       "unique                  394         497  \n",
       "top     Le souci de l'autre  7 Mai 2016  \n",
       "freq                      3           1  "
      ]
     },
     "execution_count": 21,
     "metadata": {},
     "output_type": "execute_result"
    }
   ],
   "source": [
    "df.describe()"
   ]
  },
  {
   "cell_type": "markdown",
   "metadata": {},
   "source": [
    "Nous voilà maintenant en possession des liens vers 497 épisodes publiés avec lien de téléchargement sur le site de Clément Grimal. On remarque que certaines d'entre elles sont des rediffusions (394 titres uniques sur 497). "
   ]
  },
  {
   "cell_type": "markdown",
   "metadata": {},
   "source": [
    "Téléchargeons maintenant les descriptions des émissions, afin de construire un fil RSS avec celles-ci."
   ]
  },
  {
   "cell_type": "markdown",
   "metadata": {},
   "source": [
    "# Téléchargement des descriptions à partir du site de France Inter "
   ]
  },
  {
   "cell_type": "markdown",
   "metadata": {},
   "source": [
    "Nous avons les liens vers la page de chaque émission : si on lit celle-ci, on peut en extraire le contenu que nous cherchons, c'est-à-dire la description de l'épisode.\n",
    "\n",
    "Essayons de faire cela avec le dernier épisode en date."
   ]
  },
  {
   "cell_type": "code",
   "execution_count": 47,
   "metadata": {},
   "outputs": [
    {
     "data": {
      "text/plain": [
       "'https://www.franceinter.fr/emissions/sur-les-epaules-de-darwin/sur-les-epaules-de-darwin-11-avril-2020'"
      ]
     },
     "execution_count": 47,
     "metadata": {},
     "output_type": "execute_result"
    }
   ],
   "source": [
    "link = df['lien description'].iloc[-1]\n",
    "link"
   ]
  },
  {
   "cell_type": "code",
   "execution_count": 59,
   "metadata": {},
   "outputs": [],
   "source": [
    "soup = BeautifulSoup(requests.get(link).text, 'html.parser')"
   ]
  },
  {
   "cell_type": "code",
   "execution_count": 60,
   "metadata": {
    "scrolled": false
   },
   "outputs": [
    {
     "data": {
      "text/plain": [
       "<article class=\"content-body\">\n",
       "<p class=\"chapo\">\n",
       "            Merci à vous, (un million six cent quatre vingt mille) auditeurs fidèles \n",
       "Portez-vous bien ainsi que tous les vôtres\n",
       "        </p>\n",
       "<figure class=\"rich-visual\"><picture><source class=\"dejavu\" data-dejavu-srcset=\"https://cdn.radiofrance.fr/s3/cruiser-production/2020/04/997ff263-9655-4a2d-9504-3b5ca104b734/640_gettyimages-960923834.webp\" srcset=\"data:image/jpeg;base64,/9j/2wBDACgcHiMeGSgjISMtKygwPGRBPDc3PHtYXUlkkYCZlo+AjIqgtObDoKrarYqMyP/L2u71////m8H////6/+b9//j/2wBDASstLTw1PHZBQXb4pYyl+Pj4+Pj4+Pj4+Pj4+Pj4+Pj4+Pj4+Pj4+Pj4+Pj4+Pj4+Pj4+Pj4+Pj4+Pj4+Pj4+Pj/wAARCAAZACoDASIAAhEBAxEB/8QAFwAAAwEAAAAAAAAAAAAAAAAAAQIEA//EACIQAAICAQMFAQEAAAAAAAAAAAECAAMREiExBBMyQWEiYv/EABYBAQEBAAAAAAAAAAAAAAAAAAECAP/EABYRAQEBAAAAAAAAAAAAAAAAAAARAf/aAAwDAQACEQMRAD8AddAq1MdoGdWrzXzJ7ASRv+B6ha5gAKk9ScxdO9zkDC4I5hXqRrwVyPklFli+XuapYrDGMZjBVidq3g7j1D21+SWrp7Es1hwZVq/mTpTilLEyTvMtFgfCrtN6+I45mpiV6W3A3P2ZIdJ0uCPsvMmt8o5ojddlGOCIhrOfIwjxWNAv/9k=\" type=\"image/webp\"/><img alt=\"le chocolat\" class=\"dejavu\" data-dejavu-src=\"https://cdn.radiofrance.fr/s3/cruiser-production/2020/04/997ff263-9655-4a2d-9504-3b5ca104b734/640_gettyimages-960923834.jpg\" height=\"391\" src=\"data:image/jpeg;base64, /9j/2wBDACgcHiMeGSgjISMtKygwPGRBPDc3PHtYXUlkkYCZlo+AjIqgtObDoKrarYqMyP/L2u71////m8H////6/+b9//j/2wBDASstLTw1PHZBQXb4pYyl+Pj4+Pj4+Pj4+Pj4+Pj4+Pj4+Pj4+Pj4+Pj4+Pj4+Pj4+Pj4+Pj4+Pj4+Pj4+Pj4+Pj/wAARCAAZACoDASIAAhEBAxEB/8QAFwAAAwEAAAAAAAAAAAAAAAAAAQIEA//EACIQAAICAQMFAQEAAAAAAAAAAAECAAMREiExBBMyQWEiYv/EABYBAQEBAAAAAAAAAAAAAAAAAAECAP/EABYRAQEBAAAAAAAAAAAAAAAAAAARAf/aAAwDAQACEQMRAD8AddAq1MdoGdWrzXzJ7ASRv+B6ha5gAKk9ScxdO9zkDC4I5hXqRrwVyPklFli+XuapYrDGMZjBVidq3g7j1D21+SWrp7Es1hwZVq/mTpTilLEyTvMtFgfCrtN6+I45mpiV6W3A3P2ZIdJ0uCPsvMmt8o5ojddlGOCIhrOfIwjxWNAv/9k=\" width=\"640\"/></picture><figcaption>le chocolat © Getty /  kolderal</figcaption></figure>\n",
       "<h2>Une rediffusion de l'émission du 19 janvier 2019</h2>\n",
       "<h2>Jean Claude Ameisen, en écoutant l'émission, nous signale qu'il a fait un lapsus à la fin de la deuxième partie. Il voulait dire \"3 siècles\" (et non \"3 ans\" !) avant le règne du grand roi Hammourabi\".</h2>\n",
       "<h2>Articles scientifiques :</h2>\n",
       "<ul>\n",
       "<li><em>Zarrillo S, Gaikwad N, Lanaud C, et coll.</em> _<strong>The use and domestication of Theobroma cacao during the mid-Holocene in the upper Amazon</strong>_<em>. Nature Ecology and Evolution 2018, 2:1879-88.</em></li>\n",
       "<li><em>Powis T, Cyphers A, Gaikwad N, et coll.</em> _<strong>Cacao use and the San Lorenzo Olmec</strong>_<em>. Proceedings of the National Academy of Sciences USA 2011, 108:8595-600. </em></li>\n",
       "<li><em>Powis T, Hurst J, del Carmen Rodríguez, et coll.</em> _<strong>Oldest chocolate in the New World</strong>_<em>. Antiquity 2007, 81:314.</em></li>\n",
       "<li><em>Valdez F, Guffroy J, de Saulieu G, et coll.</em> _<strong>Découverte d’un site cérémoniel formatif sur le versant oriental des Andes</strong>_<em>. Comptes Rendus Palevol 2005, 4:39-74.</em></li>\n",
       "</ul>\n",
       "<h2>Livres : </h2>\n",
       "<ul>\n",
       "<li>John Keats. <em><strong>Poèmes</strong></em><strong>.</strong>[Edition Bilingue]. Imprimerie Nationale Editions, 2000.</li>\n",
       "<li>John Keats. _<strong>Seul dans la splendeur</strong>_<em>.</em> [Edition Bilingue]<em>.</em> Points, 2009.</li>\n",
       "<li>César Itier. _<strong>Les Incas</strong>_<em>.</em> Guides Belles Lettres des Civilisations, Les Belles Lettres, 2010.</li>\n",
       "<li>John Hemming. _<strong>The conquest of the Incas</strong>_<em>.</em> Mariner Books, 2012.</li>\n",
       "<li>Walter Isaacson. _<strong>Leonardo da Vinci. The Biography</strong>_<em>.</em> Simon and Schuster, 2017.</li>\n",
       "<li>Tommy Orange. _<strong>There There</strong>_<em>.</em> Alfred A. Knopf, 2018.</li>\n",
       "<li>Federico Garcia Lorca. _<strong>Oeuvres complètes</strong>_<em>.</em> [Tome 1. Poésie]. Gallimard, Bibliothèque de la Pléiade, 1981.</li>\n",
       "<li>Emily Jungmin Yoon._<strong>A cruelty special to our species. Poems</strong>_<em>.</em> Ecco, 2018.</li>\n",
       "<li>Sophie Coe, Michael Coe. _<strong>The true history of chocolate</strong>_<em>.</em> Thames and Hudson Ltd, 2013.</li>\n",
       "</ul>\n",
       "<h2>Chansons diffusées :</h2>\n",
       "<ul>\n",
       "<li>Malik Djoudi - <em><strong>Tempérament</strong></em> - Cinq 7</li>\n",
       "<li>William Z Villain - <em><strong>Something beautiful</strong></em> - Miliani Editions</li>\n",
       "<li>Aldous Harding / John Parish / Enrico Gabrielli - <em><strong>Horizon</strong></em> - 4 AD</li>\n",
       "</ul>\n",
       "</article>"
      ]
     },
     "execution_count": 60,
     "metadata": {},
     "output_type": "execute_result"
    }
   ],
   "source": [
    "article_tag = soup.find('article')\n",
    "article_tag"
   ]
  },
  {
   "cell_type": "markdown",
   "metadata": {},
   "source": [
    "Il se trouve que des balises script sont contenues dans les épisodes (elles affichent de la publicité sur le site de France Inter)."
   ]
  },
  {
   "cell_type": "markdown",
   "metadata": {},
   "source": [
    "Si on reformate les tags HTML, on obtient le résultat suivant :"
   ]
  },
  {
   "cell_type": "code",
   "execution_count": 114,
   "metadata": {},
   "outputs": [
    {
     "data": {
      "text/plain": [
       "\"AccueilÉmissions\\n                                                                    Sur les épaules de Darwin\\n                                                            Aux Origines du Chocolat (8)                            Sur les épaules de Darwin\\n                        samedi 11 avril 2020\\n                                                            par\\n                                Jean Claude AmeisenAux Origines du Chocolat (8)\\n                                                        53 minutes\\n                        réécouters'abonnerPodcastRSSréagirContact\""
      ]
     },
     "execution_count": 114,
     "metadata": {},
     "output_type": "execute_result"
    }
   ],
   "source": [
    "soup.find_all('section')[0].text"
   ]
  },
  {
   "cell_type": "code",
   "execution_count": 74,
   "metadata": {},
   "outputs": [
    {
     "data": {
      "text/plain": [
       "<article class=\"content-body\">\n",
       "<p class=\"chapo\">\n",
       "            Merci à vous, (un million six cent quatre vingt mille) auditeurs fidèles \n",
       "Portez-vous bien ainsi que tous les vôtres\n",
       "        </p>\n",
       "<figure class=\"rich-visual\"><picture><source class=\"dejavu\" data-dejavu-srcset=\"https://cdn.radiofrance.fr/s3/cruiser-production/2020/04/997ff263-9655-4a2d-9504-3b5ca104b734/640_gettyimages-960923834.webp\" srcset=\"data:image/jpeg;base64,/9j/2wBDACgcHiMeGSgjISMtKygwPGRBPDc3PHtYXUlkkYCZlo+AjIqgtObDoKrarYqMyP/L2u71////m8H////6/+b9//j/2wBDASstLTw1PHZBQXb4pYyl+Pj4+Pj4+Pj4+Pj4+Pj4+Pj4+Pj4+Pj4+Pj4+Pj4+Pj4+Pj4+Pj4+Pj4+Pj4+Pj4+Pj/wAARCAAZACoDASIAAhEBAxEB/8QAFwAAAwEAAAAAAAAAAAAAAAAAAQIEA//EACIQAAICAQMFAQEAAAAAAAAAAAECAAMREiExBBMyQWEiYv/EABYBAQEBAAAAAAAAAAAAAAAAAAECAP/EABYRAQEBAAAAAAAAAAAAAAAAAAARAf/aAAwDAQACEQMRAD8AddAq1MdoGdWrzXzJ7ASRv+B6ha5gAKk9ScxdO9zkDC4I5hXqRrwVyPklFli+XuapYrDGMZjBVidq3g7j1D21+SWrp7Es1hwZVq/mTpTilLEyTvMtFgfCrtN6+I45mpiV6W3A3P2ZIdJ0uCPsvMmt8o5ojddlGOCIhrOfIwjxWNAv/9k=\" type=\"image/webp\"/><img alt=\"le chocolat\" class=\"dejavu\" data-dejavu-src=\"https://cdn.radiofrance.fr/s3/cruiser-production/2020/04/997ff263-9655-4a2d-9504-3b5ca104b734/640_gettyimages-960923834.jpg\" height=\"391\" src=\"data:image/jpeg;base64, /9j/2wBDACgcHiMeGSgjISMtKygwPGRBPDc3PHtYXUlkkYCZlo+AjIqgtObDoKrarYqMyP/L2u71////m8H////6/+b9//j/2wBDASstLTw1PHZBQXb4pYyl+Pj4+Pj4+Pj4+Pj4+Pj4+Pj4+Pj4+Pj4+Pj4+Pj4+Pj4+Pj4+Pj4+Pj4+Pj4+Pj4+Pj/wAARCAAZACoDASIAAhEBAxEB/8QAFwAAAwEAAAAAAAAAAAAAAAAAAQIEA//EACIQAAICAQMFAQEAAAAAAAAAAAECAAMREiExBBMyQWEiYv/EABYBAQEBAAAAAAAAAAAAAAAAAAECAP/EABYRAQEBAAAAAAAAAAAAAAAAAAARAf/aAAwDAQACEQMRAD8AddAq1MdoGdWrzXzJ7ASRv+B6ha5gAKk9ScxdO9zkDC4I5hXqRrwVyPklFli+XuapYrDGMZjBVidq3g7j1D21+SWrp7Es1hwZVq/mTpTilLEyTvMtFgfCrtN6+I45mpiV6W3A3P2ZIdJ0uCPsvMmt8o5ojddlGOCIhrOfIwjxWNAv/9k=\" width=\"640\"/></picture><figcaption>le chocolat © Getty /  kolderal</figcaption></figure>\n",
       "<h2>Une rediffusion de l'émission du 19 janvier 2019</h2>\n",
       "<h2>Jean Claude Ameisen, en écoutant l'émission, nous signale qu'il a fait un lapsus à la fin de la deuxième partie. Il voulait dire \"3 siècles\" (et non \"3 ans\" !) avant le règne du grand roi Hammourabi\".</h2>\n",
       "<h2>Articles scientifiques :</h2>\n",
       "<ul>\n",
       "<li><em>Zarrillo S, Gaikwad N, Lanaud C, et coll.</em> _<strong>The use and domestication of Theobroma cacao during the mid-Holocene in the upper Amazon</strong>_<em>. Nature Ecology and Evolution 2018, 2:1879-88.</em></li>\n",
       "<li><em>Powis T, Cyphers A, Gaikwad N, et coll.</em> _<strong>Cacao use and the San Lorenzo Olmec</strong>_<em>. Proceedings of the National Academy of Sciences USA 2011, 108:8595-600. </em></li>\n",
       "<li><em>Powis T, Hurst J, del Carmen Rodríguez, et coll.</em> _<strong>Oldest chocolate in the New World</strong>_<em>. Antiquity 2007, 81:314.</em></li>\n",
       "<li><em>Valdez F, Guffroy J, de Saulieu G, et coll.</em> _<strong>Découverte d’un site cérémoniel formatif sur le versant oriental des Andes</strong>_<em>. Comptes Rendus Palevol 2005, 4:39-74.</em></li>\n",
       "</ul>\n",
       "<h2>Livres : </h2>\n",
       "<ul>\n",
       "<li>John Keats. <em><strong>Poèmes</strong></em><strong>.</strong>[Edition Bilingue]. Imprimerie Nationale Editions, 2000.</li>\n",
       "<li>John Keats. _<strong>Seul dans la splendeur</strong>_<em>.</em> [Edition Bilingue]<em>.</em> Points, 2009.</li>\n",
       "<li>César Itier. _<strong>Les Incas</strong>_<em>.</em> Guides Belles Lettres des Civilisations, Les Belles Lettres, 2010.</li>\n",
       "<li>John Hemming. _<strong>The conquest of the Incas</strong>_<em>.</em> Mariner Books, 2012.</li>\n",
       "<li>Walter Isaacson. _<strong>Leonardo da Vinci. The Biography</strong>_<em>.</em> Simon and Schuster, 2017.</li>\n",
       "<li>Tommy Orange. _<strong>There There</strong>_<em>.</em> Alfred A. Knopf, 2018.</li>\n",
       "<li>Federico Garcia Lorca. _<strong>Oeuvres complètes</strong>_<em>.</em> [Tome 1. Poésie]. Gallimard, Bibliothèque de la Pléiade, 1981.</li>\n",
       "<li>Emily Jungmin Yoon._<strong>A cruelty special to our species. Poems</strong>_<em>.</em> Ecco, 2018.</li>\n",
       "<li>Sophie Coe, Michael Coe. _<strong>The true history of chocolate</strong>_<em>.</em> Thames and Hudson Ltd, 2013.</li>\n",
       "</ul>\n",
       "<h2>Chansons diffusées :</h2>\n",
       "<ul>\n",
       "<li>Malik Djoudi - <em><strong>Tempérament</strong></em> - Cinq 7</li>\n",
       "<li>William Z Villain - <em><strong>Something beautiful</strong></em> - Miliani Editions</li>\n",
       "<li>Aldous Harding / John Parish / Enrico Gabrielli - <em><strong>Horizon</strong></em> - 4 AD</li>\n",
       "</ul>\n",
       "</article>"
      ]
     },
     "execution_count": 74,
     "metadata": {},
     "output_type": "execute_result"
    }
   ],
   "source": [
    "def clean(soup, tags_to_clean=['script']):\n",
    "    \"\"\"Nettoie le HTML de l'émission en enlevant les balises inutiles.\"\"\"\n",
    "    for tag in tags_to_clean:\n",
    "        for item in soup.find_all(tag):\n",
    "            item.decompose()\n",
    "    return soup.article\n",
    "\n",
    "clean(soup)"
   ]
  },
  {
   "cell_type": "markdown",
   "metadata": {},
   "source": [
    "On peut afficher un aperçu de notre description :"
   ]
  },
  {
   "cell_type": "code",
   "execution_count": 77,
   "metadata": {},
   "outputs": [
    {
     "data": {
      "text/html": [
       "<article class=\"content-body\">\n",
       "<p class=\"chapo\">\n",
       "            Merci à vous, (un million six cent quatre vingt mille) auditeurs fidèles \r\n",
       "Portez-vous bien ainsi que tous les vôtres\n",
       "        </p>\n",
       "<figure class=\"rich-visual\"><picture><source class=\"dejavu\" data-dejavu-srcset=\"https://cdn.radiofrance.fr/s3/cruiser-production/2020/04/997ff263-9655-4a2d-9504-3b5ca104b734/640_gettyimages-960923834.webp\" srcset=\"data:image/jpeg;base64,/9j/2wBDACgcHiMeGSgjISMtKygwPGRBPDc3PHtYXUlkkYCZlo+AjIqgtObDoKrarYqMyP/L2u71////m8H////6/+b9//j/2wBDASstLTw1PHZBQXb4pYyl+Pj4+Pj4+Pj4+Pj4+Pj4+Pj4+Pj4+Pj4+Pj4+Pj4+Pj4+Pj4+Pj4+Pj4+Pj4+Pj4+Pj/wAARCAAZACoDASIAAhEBAxEB/8QAFwAAAwEAAAAAAAAAAAAAAAAAAQIEA//EACIQAAICAQMFAQEAAAAAAAAAAAECAAMREiExBBMyQWEiYv/EABYBAQEBAAAAAAAAAAAAAAAAAAECAP/EABYRAQEBAAAAAAAAAAAAAAAAAAARAf/aAAwDAQACEQMRAD8AddAq1MdoGdWrzXzJ7ASRv+B6ha5gAKk9ScxdO9zkDC4I5hXqRrwVyPklFli+XuapYrDGMZjBVidq3g7j1D21+SWrp7Es1hwZVq/mTpTilLEyTvMtFgfCrtN6+I45mpiV6W3A3P2ZIdJ0uCPsvMmt8o5ojddlGOCIhrOfIwjxWNAv/9k=\" type=\"image/webp\"/><img alt=\"le chocolat\" class=\"dejavu\" data-dejavu-src=\"https://cdn.radiofrance.fr/s3/cruiser-production/2020/04/997ff263-9655-4a2d-9504-3b5ca104b734/640_gettyimages-960923834.jpg\" height=\"391\" src=\"data:image/jpeg;base64, /9j/2wBDACgcHiMeGSgjISMtKygwPGRBPDc3PHtYXUlkkYCZlo+AjIqgtObDoKrarYqMyP/L2u71////m8H////6/+b9//j/2wBDASstLTw1PHZBQXb4pYyl+Pj4+Pj4+Pj4+Pj4+Pj4+Pj4+Pj4+Pj4+Pj4+Pj4+Pj4+Pj4+Pj4+Pj4+Pj4+Pj4+Pj/wAARCAAZACoDASIAAhEBAxEB/8QAFwAAAwEAAAAAAAAAAAAAAAAAAQIEA//EACIQAAICAQMFAQEAAAAAAAAAAAECAAMREiExBBMyQWEiYv/EABYBAQEBAAAAAAAAAAAAAAAAAAECAP/EABYRAQEBAAAAAAAAAAAAAAAAAAARAf/aAAwDAQACEQMRAD8AddAq1MdoGdWrzXzJ7ASRv+B6ha5gAKk9ScxdO9zkDC4I5hXqRrwVyPklFli+XuapYrDGMZjBVidq3g7j1D21+SWrp7Es1hwZVq/mTpTilLEyTvMtFgfCrtN6+I45mpiV6W3A3P2ZIdJ0uCPsvMmt8o5ojddlGOCIhrOfIwjxWNAv/9k=\" width=\"640\"/></picture><figcaption>le chocolat © Getty /  kolderal</figcaption></figure>\n",
       "<h2>Une rediffusion de l'émission du 19 janvier 2019</h2>\n",
       "<h2>Jean Claude Ameisen, en écoutant l'émission, nous signale qu'il a fait un lapsus à la fin de la deuxième partie. Il voulait dire \"3 siècles\" (et non \"3 ans\" !) avant le règne du grand roi Hammourabi\".</h2>\n",
       "<h2>Articles scientifiques :</h2>\n",
       "<ul>\n",
       "<li><em>Zarrillo S, Gaikwad N, Lanaud C, et coll.</em> _<strong>The use and domestication of Theobroma cacao during the mid-Holocene in the upper Amazon</strong>_<em>. Nature Ecology and Evolution 2018, 2:1879-88.</em></li>\n",
       "<li><em>Powis T, Cyphers A, Gaikwad N, et coll.</em> _<strong>Cacao use and the San Lorenzo Olmec</strong>_<em>. Proceedings of the National Academy of Sciences USA 2011, 108:8595-600. </em></li>\n",
       "<li><em>Powis T, Hurst J, del Carmen Rodríguez, et coll.</em> _<strong>Oldest chocolate in the New World</strong>_<em>. Antiquity 2007, 81:314.</em></li>\n",
       "<li><em>Valdez F, Guffroy J, de Saulieu G, et coll.</em> _<strong>Découverte d’un site cérémoniel formatif sur le versant oriental des Andes</strong>_<em>. Comptes Rendus Palevol 2005, 4:39-74.</em></li>\n",
       "</ul>\n",
       "<h2>Livres : </h2>\n",
       "<ul>\n",
       "<li>John Keats. <em><strong>Poèmes</strong></em><strong>.</strong>[Edition Bilingue]. Imprimerie Nationale Editions, 2000.</li>\n",
       "<li>John Keats. _<strong>Seul dans la splendeur</strong>_<em>.</em> [Edition Bilingue]<em>.</em> Points, 2009.</li>\n",
       "<li>César Itier. _<strong>Les Incas</strong>_<em>.</em> Guides Belles Lettres des Civilisations, Les Belles Lettres, 2010.</li>\n",
       "<li>John Hemming. _<strong>The conquest of the Incas</strong>_<em>.</em> Mariner Books, 2012.</li>\n",
       "<li>Walter Isaacson. _<strong>Leonardo da Vinci. The Biography</strong>_<em>.</em> Simon and Schuster, 2017.</li>\n",
       "<li>Tommy Orange. _<strong>There There</strong>_<em>.</em> Alfred A. Knopf, 2018.</li>\n",
       "<li>Federico Garcia Lorca. _<strong>Oeuvres complètes</strong>_<em>.</em> [Tome 1. Poésie]. Gallimard, Bibliothèque de la Pléiade, 1981.</li>\n",
       "<li>Emily Jungmin Yoon._<strong>A cruelty special to our species. Poems</strong>_<em>.</em> Ecco, 2018.</li>\n",
       "<li>Sophie Coe, Michael Coe. _<strong>The true history of chocolate</strong>_<em>.</em> Thames and Hudson Ltd, 2013.</li>\n",
       "</ul>\n",
       "<h2>Chansons diffusées :</h2>\n",
       "<ul>\n",
       "<li>Malik Djoudi - <em><strong>Tempérament</strong></em> - Cinq 7</li>\n",
       "<li>William Z Villain - <em><strong>Something beautiful</strong></em> - Miliani Editions</li>\n",
       "<li>Aldous Harding / John Parish / Enrico Gabrielli - <em><strong>Horizon</strong></em> - 4 AD</li>\n",
       "</ul>\n",
       "</article>"
      ],
      "text/plain": [
       "<IPython.core.display.HTML object>"
      ]
     },
     "execution_count": 77,
     "metadata": {},
     "output_type": "execute_result"
    }
   ],
   "source": [
    "from IPython.display import HTML\n",
    "\n",
    "HTML(str(clean(soup)))"
   ]
  },
  {
   "cell_type": "markdown",
   "metadata": {},
   "source": [
    "Ceci étant fait, on peut écrire une boucle pour extraire toutes les descriptions d'épisode :"
   ]
  },
  {
   "cell_type": "code",
   "execution_count": 78,
   "metadata": {},
   "outputs": [],
   "source": [
    "from functools import lru_cache\n",
    "\n",
    "@lru_cache(maxsize=None)\n",
    "def link_getter(description_link):\n",
    "    \"\"\"Récupère la page de l'émission en question, stocke le résultat pour un accès ultérieur plus rapide.\"\"\"\n",
    "    return requests.get(description_link)"
   ]
  },
  {
   "cell_type": "code",
   "execution_count": 101,
   "metadata": {},
   "outputs": [
    {
     "name": "stderr",
     "output_type": "stream",
     "text": [
      "100%|██████████| 497/497 [00:50<00:00,  9.87it/s]\n"
     ]
    }
   ],
   "source": [
    "import tqdm\n",
    "\n",
    "descriptions = []\n",
    "for description_link in tqdm.tqdm(df['lien description']):\n",
    "    soup = BeautifulSoup(link_getter(description_link).text, 'html.parser')\n",
    "    descriptions.append(clean(soup))"
   ]
  },
  {
   "cell_type": "markdown",
   "metadata": {},
   "source": [
    "On peut compléter notre `dataframe` avec les descriptions obtenues :"
   ]
  },
  {
   "cell_type": "code",
   "execution_count": 102,
   "metadata": {},
   "outputs": [],
   "source": [
    "df['description'] = descriptions\n",
    "\n",
    "df['description_text'] = [d.text for d in descriptions]"
   ]
  },
  {
   "cell_type": "markdown",
   "metadata": {},
   "source": [
    "Afin de vérifier que tout va bien, nous allons faire un pré-affichage rapide avec `ipywidgets`."
   ]
  },
  {
   "cell_type": "code",
   "execution_count": 104,
   "metadata": {},
   "outputs": [
    {
     "data": {
      "application/vnd.jupyter.widget-view+json": {
       "model_id": "",
       "version_major": 2,
       "version_minor": 0
      },
      "text/plain": [
       "interactive(children=(IntSlider(value=248, description='n', max=496), Output()), _dom_classes=('widget-interac…"
      ]
     },
     "metadata": {},
     "output_type": "display_data"
    }
   ],
   "source": [
    "from ipywidgets import interact\n",
    "\n",
    "@interact\n",
    "def preview_html(n=(0, df.shape[0] - 1)):\n",
    "    return HTML(f\"<a href='{df['lien description'].iloc[n]}' target='_blank'>lien</a>\" + str(df.description.iloc[n]))"
   ]
  },
  {
   "cell_type": "markdown",
   "metadata": {},
   "source": [
    "# Rajouter d'autres sections "
   ]
  },
  {
   "cell_type": "markdown",
   "metadata": {},
   "source": [
    "Comme on peut le voir sur cet épisode [https://www.franceinter.fr/emissions/sur-les-epaules-de-darwin/sur-les-epaules-de-darwin-16-mai-2015], parfois les références sont cachées dans un tag `section`, avec le nom de l'équipe de production. Comptons le nombre de tag `section` :"
   ]
  },
  {
   "cell_type": "code",
   "execution_count": 135,
   "metadata": {},
   "outputs": [
    {
     "name": "stderr",
     "output_type": "stream",
     "text": [
      "100%|██████████| 497/497 [00:40<00:00, 12.24it/s]\n"
     ]
    }
   ],
   "source": [
    "sections = []\n",
    "for description_link in tqdm.tqdm(df['lien description']):\n",
    "    soup = BeautifulSoup(link_getter(description_link).text, 'html.parser')\n",
    "    sections.append(len(soup.find('div', class_='main-content').find_all('section')))"
   ]
  },
  {
   "cell_type": "markdown",
   "metadata": {},
   "source": [
    "Et regardons le comptage :"
   ]
  },
  {
   "cell_type": "code",
   "execution_count": 138,
   "metadata": {},
   "outputs": [
    {
     "data": {
      "text/plain": [
       "2    295\n",
       "1    189\n",
       "3     10\n",
       "0      3\n",
       "dtype: int64"
      ]
     },
     "execution_count": 138,
     "metadata": {},
     "output_type": "execute_result"
    }
   ],
   "source": [
    "pd.Series(sections).value_counts()"
   ]
  },
  {
   "cell_type": "markdown",
   "metadata": {},
   "source": [
    "On peut donc proposer un deuxième algorithme : on va chercher les sections supplémentaires en-dessous de `main-content` et on les nettoie elles-aussi."
   ]
  },
  {
   "cell_type": "code",
   "execution_count": 182,
   "metadata": {},
   "outputs": [],
   "source": [
    "def clean2(soup, tags_to_clean=['script']):\n",
    "    \"\"\"Nettoie le HTML de l'émission en enlevant les balises inutiles.\"\"\"\n",
    "    for tag in tags_to_clean:\n",
    "        for item in soup.find_all(tag):\n",
    "            item.decompose()\n",
    "    return str(soup.find('div', class_='main-content').article) + \"\\n\".join([str(item) for item in soup.find('div', class_='main-content').find_all('section', class_='content-body-more-details')])\n"
   ]
  },
  {
   "cell_type": "code",
   "execution_count": 185,
   "metadata": {},
   "outputs": [
    {
     "data": {
      "text/html": [
       "<article class=\"content-body\">\n",
       "<p class=\"chapo\">\n",
       "            Des animaux pharmaciens et médecins (2)\n",
       "        </p>\n",
       "<h3>Articles scientifiques :</h3>\n",
       "<p>Luncz LV, Boesch C. The extent of cultural variation between adjacent chimpanzee (<em>Pan troglodytes verus</em> ) communities; a microecological approach. <em>American Journal of Physical Anthropology</em>  2015, 156:67-75.</p>\n",
       "<p>Gendron CM, Kuo TH, Harvanek ZM, <em>et coll</em> . Drosophila life span and physiology are modulated by sexual perception and reward. <em>Science</em>  2014, 343:544-8.</p>\n",
       "<div class=\"dva_ad inread\" data-adunit=\"128139881/RF_france_inter/divers/divers/rg/inread\" id=\"inread\"></div>\n",
       "\n",
       "<p>Shurkin J. News feature: Animals that self-medicate. <em>Proceedings of the National Academy of Sciences of the USA</em> 2014, 111:17339-41.</p>\n",
       "<p>Underwood E. The taste of things to come. <em>Science</em>  2014, 345:750-1.</p>\n",
       "<p>Kacsoh BZ, Lynch ZR, Mortimer NT, <em>et coll</em> . Fruit flies medicate offspring after seeing parasites. <em>Science</em>  2013, 339:947-50.</p>\n",
       "<p>de Roode J, Lefèvre T, Hunter M. Self-medication in animals. <em>Science</em> 2013, 340:150-1.</p>\n",
       "<p>Boesch C. Christophe Boesch. <em>Current Biology</em>  2012, 22:R936-7.</p>\n",
       "<p>Milan NF, Kacsoh BZ, Schlenke TA. Alcohol consumption as self-medication against blood-borne parasites in the fruit fly. <em>Current Biology</em>  2012, 22:488-93.</p>\n",
       "<p>Shohat-Ophir G, Kaun KR, Azanchi R, <em>et coll</em> . Sexual deprivation increases ethanol intake in Drosophila. <em>Science</em>  2012, 335:1351-5.</p>\n",
       "<p>Zars T. Physiology. She said no, pass me a beer. <em>Science</em>  2012, 335:1309-10.</p>\n",
       "<p>Luncz LV, Mundry R, Boesch C. Evidence for cultural differences between neighboring chimpanzee communities. <em>Current Biology</em>  2012, 22:922-6.</p>\n",
       "<p>Kaun KR, Azanchi R, Maung Z, <em>et coll</em> . A Drosophila model for alcohol reward. <em>Nature Neuroscience</em>  2011, 14:612-9.</p>\n",
       "<p>Morell V. Called ‘trimates’, three bold women shaped their field. <em>Science</em> 1993, 260:420-5.</p>\n",
       "<p>Morell V. Seeing nature through the lens of gender. <em>Science</em>  1993, 260:428-9.</p>\n",
       "<h3>Autres publications :</h3>\n",
       "<p>Dossier n°86 <em>Pour la Science</em> , janvier - mars 2015. Nos cousins les grands singes.</p>\n",
       "<p>Christophe Boesch. Les chimpanzés : des grands singes pétris de culture. Dossier n°86 <em>Pour la Science</em> , janvier - mars 2015. Nos cousins les grands singes, pp50-5.</p>\n",
       "<p>Letter from Charles Darwin to Asa Grey, 22 May 1860: <a href=\"http://www%5C.darwinproject%5C.ac%5C.uk/letter/entry%5C-2814\" target=\"_blank\">http://www\\.darwinproject\\.ac\\.uk/letter/entry\\-2814</a></p>\n",
       "<h3>Agenda :</h3>\n",
       "<p>Exposition <strong>« Sur la piste des Grands Singes »</strong> , à la Grande Galerie de l’Évolution du Muséum national d’Histoire naturelle, Jardin des Plantes, Paris, du 11 février au 21 mars 2015. <a href=\"http://www.mnhn.fr/fr/visitez/agenda/exposition/piste-grands-singes\" target=\"_blank\">http://www.mnhn.fr/fr/visitez/agenda/exposition/piste-grands-singes</a></p>\n",
       "<p>Tout le programme de <strong>« La saison des Grands Singes » :</strong>  <a href=\"http://www%5C.mnhn%5C.fr/fr/visitez/agenda/saison/saison%5C-grands%5C-singes\" target=\"_blank\">http://www\\.mnhn\\.fr/fr/visitez/agenda/saison/saison\\-grands\\-singes</a></p>\n",
       "</article><section class=\"content-body-more-details\"><div class=\"section-title title-alone no-margin\"><div class=\"h1\">\n",
       "        \n",
       "            Les références\n",
       "\n",
       "                        \n",
       "            </div><div class=\"side-content hidden\"></div></div><ul class=\"content-body-more-details-list\"><li><a href=\"/oeuvres/cliche-cosmique\" title=\"Cliché cosmique\">Cliché cosmique<span> par Mathieu Saïkaly</span></a><span>(Polydor)</span></li><li><a href=\"/oeuvres/nemesis-0\" title=\"Nemesis\">Nemesis<span> par Benjamin Clementine</span></a><span>(Behind)</span></li><li><a href=\"/oeuvres/les-chimpanzes-des-monts-de-la-lune-0\" title=\"Les Chimpanzés des Monts de la Lune\">Les Chimpanzés des Monts de la Lune<span> écrit par Sabrina Krief</span></a><span>(Belin)</span></li><li><a href=\"/oeuvres/i-m-thru-love\" title=\"I'm thru with love\">I'm thru with love<span> par Ella Fitzgerald</span></a></li><li><a href=\"/oeuvres/dans-la-lumiere-et-les-ombres-darwin-et-le-bouleversement-du-monde\" title=\"Dans la lumière et les ombres. Darwin et le bouleversement du monde\">Dans la lumière et les ombres. Darwin et le bouleversement du monde<span> écrit par Jean Claude Ameisen</span></a><span>(points seuil)</span></li></ul></section>\n",
       "<section class=\"content-body-more-details\"><div class=\"section-title title-alone no-margin\"><div class=\"h1\">\n",
       "        \n",
       "            L'équipe\n",
       "\n",
       "                        \n",
       "            </div><div class=\"side-content hidden\"></div></div><ul class=\"content-body-more-details-list\"><li><a href=\"/personnes/jean-claude-ameisen-0\" title=\"Jean Claude Ameisen\">Jean Claude Ameisen</a><span>Auteur</span></li><li><a href=\"/personnes/christophe-imbert\" title=\"Christophe Imbert\">Christophe Imbert</a><span>Réalisateur (trice)</span></li><li><a href=\"/personnes/jean-baptiste-audibert\" title=\"Jean-Baptiste Audibert\">Jean-Baptiste Audibert</a><span>Programmateur (trice) musical (e)</span></li><li><a href=\"/personnes/christophe-mager\" title=\"Christophe Mager\">Christophe Mager</a><span>Attaché(e) de production</span></li></ul></section>"
      ],
      "text/plain": [
       "<IPython.core.display.HTML object>"
      ]
     },
     "execution_count": 185,
     "metadata": {},
     "output_type": "execute_result"
    }
   ],
   "source": [
    "HTML(clean2(soup))"
   ]
  },
  {
   "cell_type": "markdown",
   "metadata": {},
   "source": [
    "On met à jour les descriptions."
   ]
  },
  {
   "cell_type": "code",
   "execution_count": 186,
   "metadata": {},
   "outputs": [
    {
     "name": "stderr",
     "output_type": "stream",
     "text": [
      "100%|██████████| 497/497 [00:48<00:00, 10.21it/s]\n"
     ]
    }
   ],
   "source": [
    "descriptions = []\n",
    "for description_link in tqdm.tqdm(df['lien description']):\n",
    "    soup = BeautifulSoup(link_getter(description_link).text, 'html.parser')\n",
    "    descriptions.append(clean2(soup))"
   ]
  },
  {
   "cell_type": "code",
   "execution_count": 187,
   "metadata": {},
   "outputs": [],
   "source": [
    "df['description'] = descriptions\n",
    "\n",
    "df['description_text'] = [str(d) for d in descriptions]"
   ]
  },
  {
   "cell_type": "markdown",
   "metadata": {},
   "source": [
    "Et on vérifie qu'on a le résultat attendu."
   ]
  },
  {
   "cell_type": "code",
   "execution_count": 188,
   "metadata": {},
   "outputs": [
    {
     "data": {
      "application/vnd.jupyter.widget-view+json": {
       "model_id": "09ce283bd564477dac0df491e83c349d",
       "version_major": 2,
       "version_minor": 0
      },
      "text/plain": [
       "interactive(children=(IntSlider(value=248, description='n', max=496), Output()), _dom_classes=('widget-interac…"
      ]
     },
     "metadata": {},
     "output_type": "display_data"
    }
   ],
   "source": [
    "@interact\n",
    "def preview_html(n=(0, df.shape[0] - 1)):\n",
    "    return HTML(f\"<a href='{df['lien description'].iloc[n]}' target='_blank'>lien</a>\" + str(df.description.iloc[n]))"
   ]
  },
  {
   "cell_type": "markdown",
   "metadata": {},
   "source": [
    "Un dernier test :"
   ]
  },
  {
   "cell_type": "code",
   "execution_count": 191,
   "metadata": {},
   "outputs": [
    {
     "data": {
      "text/html": [
       "<article class=\"content-body\">\n",
       "<p class=\"chapo\">\n",
       "            Des animaux pharmaciens et médecins (2)\n",
       "        </p>\n",
       "<h3>Articles scientifiques :</h3>\n",
       "<p>Luncz LV, Boesch C. The extent of cultural variation between adjacent chimpanzee (<em>Pan troglodytes verus</em> ) communities; a microecological approach. <em>American Journal of Physical Anthropology</em>  2015, 156:67-75.</p>\n",
       "<p>Gendron CM, Kuo TH, Harvanek ZM, <em>et coll</em> . Drosophila life span and physiology are modulated by sexual perception and reward. <em>Science</em>  2014, 343:544-8.</p>\n",
       "<div class=\"dva_ad inread\" data-adunit=\"128139881/RF_france_inter/divers/divers/rg/inread\" id=\"inread\"></div>\n",
       "\n",
       "<p>Shurkin J. News feature: Animals that self-medicate. <em>Proceedings of the National Academy of Sciences of the USA</em> 2014, 111:17339-41.</p>\n",
       "<p>Underwood E. The taste of things to come. <em>Science</em>  2014, 345:750-1.</p>\n",
       "<p>Kacsoh BZ, Lynch ZR, Mortimer NT, <em>et coll</em> . Fruit flies medicate offspring after seeing parasites. <em>Science</em>  2013, 339:947-50.</p>\n",
       "<p>de Roode J, Lefèvre T, Hunter M. Self-medication in animals. <em>Science</em> 2013, 340:150-1.</p>\n",
       "<p>Boesch C. Christophe Boesch. <em>Current Biology</em>  2012, 22:R936-7.</p>\n",
       "<p>Milan NF, Kacsoh BZ, Schlenke TA. Alcohol consumption as self-medication against blood-borne parasites in the fruit fly. <em>Current Biology</em>  2012, 22:488-93.</p>\n",
       "<p>Shohat-Ophir G, Kaun KR, Azanchi R, <em>et coll</em> . Sexual deprivation increases ethanol intake in Drosophila. <em>Science</em>  2012, 335:1351-5.</p>\n",
       "<p>Zars T. Physiology. She said no, pass me a beer. <em>Science</em>  2012, 335:1309-10.</p>\n",
       "<p>Luncz LV, Mundry R, Boesch C. Evidence for cultural differences between neighboring chimpanzee communities. <em>Current Biology</em>  2012, 22:922-6.</p>\n",
       "<p>Kaun KR, Azanchi R, Maung Z, <em>et coll</em> . A Drosophila model for alcohol reward. <em>Nature Neuroscience</em>  2011, 14:612-9.</p>\n",
       "<p>Morell V. Called ‘trimates’, three bold women shaped their field. <em>Science</em> 1993, 260:420-5.</p>\n",
       "<p>Morell V. Seeing nature through the lens of gender. <em>Science</em>  1993, 260:428-9.</p>\n",
       "<h3>Autres publications :</h3>\n",
       "<p>Dossier n°86 <em>Pour la Science</em> , janvier - mars 2015. Nos cousins les grands singes.</p>\n",
       "<p>Christophe Boesch. Les chimpanzés : des grands singes pétris de culture. Dossier n°86 <em>Pour la Science</em> , janvier - mars 2015. Nos cousins les grands singes, pp50-5.</p>\n",
       "<p>Letter from Charles Darwin to Asa Grey, 22 May 1860: <a href=\"http://www%5C.darwinproject%5C.ac%5C.uk/letter/entry%5C-2814\" target=\"_blank\">http://www\\.darwinproject\\.ac\\.uk/letter/entry\\-2814</a></p>\n",
       "<h3>Agenda :</h3>\n",
       "<p>Exposition <strong>« Sur la piste des Grands Singes »</strong> , à la Grande Galerie de l’Évolution du Muséum national d’Histoire naturelle, Jardin des Plantes, Paris, du 11 février au 21 mars 2015. <a href=\"http://www.mnhn.fr/fr/visitez/agenda/exposition/piste-grands-singes\" target=\"_blank\">http://www.mnhn.fr/fr/visitez/agenda/exposition/piste-grands-singes</a></p>\n",
       "<p>Tout le programme de <strong>« La saison des Grands Singes » :</strong>  <a href=\"http://www%5C.mnhn%5C.fr/fr/visitez/agenda/saison/saison%5C-grands%5C-singes\" target=\"_blank\">http://www\\.mnhn\\.fr/fr/visitez/agenda/saison/saison\\-grands\\-singes</a></p>\n",
       "</article><section class=\"content-body-more-details\"><div class=\"section-title title-alone no-margin\"><div class=\"h1\">\n",
       "        \n",
       "            Les références\n",
       "\n",
       "                        \n",
       "            </div><div class=\"side-content hidden\"></div></div><ul class=\"content-body-more-details-list\"><li><a href=\"/oeuvres/cliche-cosmique\" title=\"Cliché cosmique\">Cliché cosmique<span> par Mathieu Saïkaly</span></a><span>(Polydor)</span></li><li><a href=\"/oeuvres/nemesis-0\" title=\"Nemesis\">Nemesis<span> par Benjamin Clementine</span></a><span>(Behind)</span></li><li><a href=\"/oeuvres/les-chimpanzes-des-monts-de-la-lune-0\" title=\"Les Chimpanzés des Monts de la Lune\">Les Chimpanzés des Monts de la Lune<span> écrit par Sabrina Krief</span></a><span>(Belin)</span></li><li><a href=\"/oeuvres/i-m-thru-love\" title=\"I'm thru with love\">I'm thru with love<span> par Ella Fitzgerald</span></a></li><li><a href=\"/oeuvres/dans-la-lumiere-et-les-ombres-darwin-et-le-bouleversement-du-monde\" title=\"Dans la lumière et les ombres. Darwin et le bouleversement du monde\">Dans la lumière et les ombres. Darwin et le bouleversement du monde<span> écrit par Jean Claude Ameisen</span></a><span>(points seuil)</span></li></ul></section>\n",
       "<section class=\"content-body-more-details\"><div class=\"section-title title-alone no-margin\"><div class=\"h1\">\n",
       "        \n",
       "            L'équipe\n",
       "\n",
       "                        \n",
       "            </div><div class=\"side-content hidden\"></div></div><ul class=\"content-body-more-details-list\"><li><a href=\"/personnes/jean-claude-ameisen-0\" title=\"Jean Claude Ameisen\">Jean Claude Ameisen</a><span>Auteur</span></li><li><a href=\"/personnes/christophe-imbert\" title=\"Christophe Imbert\">Christophe Imbert</a><span>Réalisateur (trice)</span></li><li><a href=\"/personnes/jean-baptiste-audibert\" title=\"Jean-Baptiste Audibert\">Jean-Baptiste Audibert</a><span>Programmateur (trice) musical (e)</span></li><li><a href=\"/personnes/christophe-mager\" title=\"Christophe Mager\">Christophe Mager</a><span>Attaché(e) de production</span></li></ul></section>"
      ],
      "text/plain": [
       "<IPython.core.display.HTML object>"
      ]
     },
     "execution_count": 191,
     "metadata": {},
     "output_type": "execute_result"
    }
   ],
   "source": [
    "soup = BeautifulSoup(link_getter(df['lien description'].iloc[230]).text, 'html.parser')\n",
    "\n",
    "HTML(clean2(soup))"
   ]
  },
  {
   "cell_type": "markdown",
   "metadata": {},
   "source": [
    "Il nous manque encore la récupération des tailles de fichier mp3, qui sera inscrite dans le flux RSS :"
   ]
  },
  {
   "cell_type": "markdown",
   "metadata": {},
   "source": [
    "# Taille des fichiers mp3 "
   ]
  },
  {
   "cell_type": "code",
   "execution_count": 115,
   "metadata": {},
   "outputs": [
    {
     "name": "stderr",
     "output_type": "stream",
     "text": [
      "100%|██████████| 497/497 [00:32<00:00, 15.20it/s]\n"
     ]
    }
   ],
   "source": [
    "byte_lengths = []\n",
    "for mp3_link in tqdm.tqdm(df['lien mp3']):\n",
    "    r = requests.head(mp3_link)\n",
    "    byte_lengths.append(r.headers['content-length'])"
   ]
  },
  {
   "cell_type": "code",
   "execution_count": 116,
   "metadata": {},
   "outputs": [
    {
     "data": {
      "text/html": [
       "<div>\n",
       "<style scoped>\n",
       "    .dataframe tbody tr th:only-of-type {\n",
       "        vertical-align: middle;\n",
       "    }\n",
       "\n",
       "    .dataframe tbody tr th {\n",
       "        vertical-align: top;\n",
       "    }\n",
       "\n",
       "    .dataframe thead th {\n",
       "        text-align: right;\n",
       "    }\n",
       "</style>\n",
       "<table border=\"1\" class=\"dataframe\">\n",
       "  <thead>\n",
       "    <tr style=\"text-align: right;\">\n",
       "      <th></th>\n",
       "      <th>lien mp3</th>\n",
       "      <th>lien description</th>\n",
       "      <th>titre</th>\n",
       "      <th>date</th>\n",
       "      <th>description</th>\n",
       "      <th>description_text</th>\n",
       "      <th>byte_length</th>\n",
       "    </tr>\n",
       "  </thead>\n",
       "  <tbody>\n",
       "    <tr>\n",
       "      <th>0</th>\n",
       "      <td>http://prevost.pascal.free.fr/public/podcast/s...</td>\n",
       "      <td>http://www.franceinter.fr/em/sur-les-epaules-d...</td>\n",
       "      <td>La théorie de l'évolution de Charles Darwin</td>\n",
       "      <td>4 Septembre 2010</td>\n",
       "      <td>[\\n, [[Bibliographie:]], \\n, [[L'origine des e...</td>\n",
       "      <td>\\nBibliographie:\\nL'origine des espèces de Cha...</td>\n",
       "      <td>51120256</td>\n",
       "    </tr>\n",
       "    <tr>\n",
       "      <th>1</th>\n",
       "      <td>http://prevost.pascal.free.fr/public/podcast/s...</td>\n",
       "      <td>http://www.franceinter.fr/em/sur-les-epaules-d...</td>\n",
       "      <td>Le propre de l'homme?</td>\n",
       "      <td>11 Septembre 2010</td>\n",
       "      <td>[\\n, [[programmation musicale]], \\n, [STAFF BE...</td>\n",
       "      <td>\\nprogrammation musicale\\nSTAFF BENDA BILILI\\n...</td>\n",
       "      <td>52287616</td>\n",
       "    </tr>\n",
       "    <tr>\n",
       "      <th>2</th>\n",
       "      <td>http://prevost.pascal.free.fr/public/podcast/s...</td>\n",
       "      <td>http://www.franceinter.fr/em/sur-les-epaules-d...</td>\n",
       "      <td>Nos mémoires</td>\n",
       "      <td>18 Septembre 2010</td>\n",
       "      <td>[\\n, [[programmation musicale]], \\n, [Iggy POP...</td>\n",
       "      <td>\\nprogrammation musicale\\nIggy POP\\nKing of th...</td>\n",
       "      <td>51320960</td>\n",
       "    </tr>\n",
       "    <tr>\n",
       "      <th>3</th>\n",
       "      <td>http://prevost.pascal.free.fr/public/podcast/s...</td>\n",
       "      <td>http://www.franceinter.fr/em/sur-les-epaules-d...</td>\n",
       "      <td>Nos émotions</td>\n",
       "      <td>25 Septembre 2010</td>\n",
       "      <td>[\\n, [[programmation musicale]], \\n, [[EMILY L...</td>\n",
       "      <td>\\nprogrammation musicale\\nEMILY LOISEAU\\nL'aut...</td>\n",
       "      <td>54608000</td>\n",
       "    </tr>\n",
       "    <tr>\n",
       "      <th>4</th>\n",
       "      <td>http://prevost.pascal.free.fr/public/podcast/s...</td>\n",
       "      <td>http://www.franceinter.fr/em/sur-les-epaules-d...</td>\n",
       "      <td>Longévité, jeunesse et vieillissement</td>\n",
       "      <td>2 Octobre 2010</td>\n",
       "      <td>[\\n, [[programmation musicale]], \\n, [[Bonga]]...</td>\n",
       "      <td>\\nprogrammation musicale\\nBonga\\nMona ki gni x...</td>\n",
       "      <td>52762752</td>\n",
       "    </tr>\n",
       "  </tbody>\n",
       "</table>\n",
       "</div>"
      ],
      "text/plain": [
       "                                            lien mp3  \\\n",
       "0  http://prevost.pascal.free.fr/public/podcast/s...   \n",
       "1  http://prevost.pascal.free.fr/public/podcast/s...   \n",
       "2  http://prevost.pascal.free.fr/public/podcast/s...   \n",
       "3  http://prevost.pascal.free.fr/public/podcast/s...   \n",
       "4  http://prevost.pascal.free.fr/public/podcast/s...   \n",
       "\n",
       "                                    lien description  \\\n",
       "0  http://www.franceinter.fr/em/sur-les-epaules-d...   \n",
       "1  http://www.franceinter.fr/em/sur-les-epaules-d...   \n",
       "2  http://www.franceinter.fr/em/sur-les-epaules-d...   \n",
       "3  http://www.franceinter.fr/em/sur-les-epaules-d...   \n",
       "4  http://www.franceinter.fr/em/sur-les-epaules-d...   \n",
       "\n",
       "                                         titre               date  \\\n",
       "0  La théorie de l'évolution de Charles Darwin   4 Septembre 2010   \n",
       "1                        Le propre de l'homme?  11 Septembre 2010   \n",
       "2                                 Nos mémoires  18 Septembre 2010   \n",
       "3                                 Nos émotions  25 Septembre 2010   \n",
       "4        Longévité, jeunesse et vieillissement     2 Octobre 2010   \n",
       "\n",
       "                                         description  \\\n",
       "0  [\\n, [[Bibliographie:]], \\n, [[L'origine des e...   \n",
       "1  [\\n, [[programmation musicale]], \\n, [STAFF BE...   \n",
       "2  [\\n, [[programmation musicale]], \\n, [Iggy POP...   \n",
       "3  [\\n, [[programmation musicale]], \\n, [[EMILY L...   \n",
       "4  [\\n, [[programmation musicale]], \\n, [[Bonga]]...   \n",
       "\n",
       "                                    description_text byte_length  \n",
       "0  \\nBibliographie:\\nL'origine des espèces de Cha...    51120256  \n",
       "1  \\nprogrammation musicale\\nSTAFF BENDA BILILI\\n...    52287616  \n",
       "2  \\nprogrammation musicale\\nIggy POP\\nKing of th...    51320960  \n",
       "3  \\nprogrammation musicale\\nEMILY LOISEAU\\nL'aut...    54608000  \n",
       "4  \\nprogrammation musicale\\nBonga\\nMona ki gni x...    52762752  "
      ]
     },
     "execution_count": 116,
     "metadata": {},
     "output_type": "execute_result"
    }
   ],
   "source": [
    "df['byte_length'] = byte_lengths\n",
    "\n",
    "df.head()"
   ]
  },
  {
   "cell_type": "markdown",
   "metadata": {},
   "source": [
    "# Ecriture du fichier RSS "
   ]
  },
  {
   "cell_type": "markdown",
   "metadata": {},
   "source": [
    "Maintenant que nous avons collecté toutes les émissions, nous pouvons écrire un ficher RSS, comme nous l'avions déjà fait [dans le cas de l'émission Rendez vous avec X](http://flothesof.github.io/podcast-rendez-vous-avec-X-fr.html)."
   ]
  },
  {
   "cell_type": "code",
   "execution_count": 201,
   "metadata": {},
   "outputs": [],
   "source": [
    "import dateparser\n",
    "import xml.etree.cElementTree as ET\n",
    "\n",
    "rss = ET.Element(\"rss\", version=\"2.0\")\n",
    "channel = ET.SubElement(rss, \"channel\")\n",
    "title = ET.SubElement(channel, \"title\")\n",
    "title.text = 'Podcast Sur les épaules de Darwin'\n",
    "description = ET.SubElement(channel, \"description\")\n",
    "description.text = \"Podcast inofficiel de l'émission Sur les épaules de Darwin, tiré du site http://clementgrimal.fr/darwin/ et https://www.franceinter.fr/emissions/sur-les-epaules-de-darwin\"\n",
    "for index, row in df.iterrows():\n",
    "    item = ET.SubElement(channel, \"item\")\n",
    "    item_title = ET.SubElement(item, \"title\")\n",
    "    item_title.text = row['titre']\n",
    "    item_description = ET.SubElement(item, \"description\")\n",
    "    item_description.text = f\"<![CDATA[{row['description'].strip()}\"\n",
    "    item_pubdate = ET.SubElement(item, \"pubDate\")\n",
    "    item_pubdate.text = dateparser.parse(row.date).date().strftime('%a, %d %b %Y 11:00:00')\n",
    "    item_enclosure = ET.SubElement(item, \"enclosure\", url='{}'.format(row['lien mp3']),\n",
    "                                   length=row.byte_length,\n",
    "                                  type=\"audio/mpeg\")\n",
    "tree = ET.ElementTree(rss)\n",
    "tree.write(\"files/podcast_Sur_les_epaules_de_Darwin.xml\", encoding='utf-8')"
   ]
  },
  {
   "cell_type": "markdown",
   "metadata": {},
   "source": [
    "Le lien vers le fichier généré est ici : **https://raw.githubusercontent.com/flothesof/posts/master/files/podcast_Sur_les_epaules_de_Darwin.xml**."
   ]
  },
  {
   "cell_type": "markdown",
   "metadata": {},
   "source": [
    "*Ce billet a été écrit à l'aide d'un notebook Jupyter. Son contenu est sous licence BSD. Une vue statique de ce notebook peut être consultée et téléchargée ici : [20170908_PodcastEpaulesDeDarwin.ipynb](http://nbviewer.ipython.org/urls/raw.github.com/flothesof/posts/master/20170908_PodcastEpaulesDeDarwin.ipynb).*"
   ]
  }
 ],
 "metadata": {
  "kernelspec": {
   "display_name": "Python 3",
   "language": "python",
   "name": "python3"
  },
  "language_info": {
   "codemirror_mode": {
    "name": "ipython",
    "version": 3
   },
   "file_extension": ".py",
   "mimetype": "text/x-python",
   "name": "python",
   "nbconvert_exporter": "python",
   "pygments_lexer": "ipython3",
   "version": "3.7.6"
  },
  "toc": {
   "colors": {
    "hover_highlight": "#DAA520",
    "navigate_num": "#000000",
    "navigate_text": "#333333",
    "running_highlight": "#FF0000",
    "selected_highlight": "#FFD700",
    "sidebar_border": "#EEEEEE",
    "wrapper_background": "#FFFFFF"
   },
   "moveMenuLeft": true,
   "nav_menu": {
    "height": "84px",
    "width": "253px"
   },
   "navigate_menu": true,
   "number_sections": true,
   "sideBar": true,
   "threshold": 4,
   "toc_cell": false,
   "toc_section_display": "block",
   "toc_window_display": false,
   "widenNotebook": false
  }
 },
 "nbformat": 4,
 "nbformat_minor": 2
}
