{
 "cells": [
  {
   "cell_type": "markdown",
   "metadata": {},
   "source": [
    "Lien vers le sujet https://www.doc-solus.fr/prepa/sci/adc/bin/view.corrige.html?q=PSI_PHYSIQUE_CENTRALE_2_2016"
   ]
  },
  {
   "cell_type": "markdown",
   "metadata": {},
   "source": [
    "# II De la cuisson des oeufs "
   ]
  },
  {
   "cell_type": "markdown",
   "metadata": {},
   "source": [
    "## II A chauffage de l'eau "
   ]
  },
  {
   "cell_type": "markdown",
   "metadata": {},
   "source": [
    "### II A 1"
   ]
  },
  {
   "cell_type": "markdown",
   "metadata": {},
   "source": [
    "L'énergie thermique de la résistance est fournie au système qui comprend :\n",
    "\n",
    "- l'eau\n",
    "- la structure du cuiseur\n",
    "- l'oeuf ou les oeufs présents\n",
    "\n",
    "Dans la première phase de chauffage, on peut supposer que les oeufs ne sont pas chauffés du tout car ils sont au-dessus de l'eau. Le système chauffé dans la première phase est donc seulement constitué de l'eau et du cuiseur, que le sujet propose de représenter via la notion de *valeur en eau* $m_c$.\n",
    "\n",
    "On peut donc écrire :\n",
    "\n",
    "$$\n",
    "\\Delta Q_{th} = \\mathscr{P} \\Delta t_1 = \\Delta e_{int} = (m_c + m_0) c (T_{eb} - T_0)\n",
    "$$\n",
    "\n",
    "On en déduit : \n",
    "\n",
    "$$\n",
    "\\Delta t_1 = (m_c + m_0) c (T_{eb} - T_0) / \\mathscr{P}\n",
    "$$"
   ]
  },
  {
   "cell_type": "markdown",
   "metadata": {},
   "source": [
    "### II A 2 (détermination de la valeur en eau)"
   ]
  },
  {
   "cell_type": "markdown",
   "metadata": {},
   "source": [
    "La connaissance du temps de chauffage à vide $\\Delta t_0$ nous permet d'écrire la chose suivante :\n",
    "\n",
    "$$\n",
    "\\Delta t_0 = (m_c + m_0) c (T_{eb} - T_0) / \\mathscr{P}\n",
    "$$\n",
    "\n",
    "On en déduit la valeur en eau du cuiseur : \n",
    "$$\n",
    "m_c = \\frac{ \\mathscr{P} \\Delta t_0 }{ c (T_{eb} - T_0) }  -  m_0 \n",
    "$$\n",
    "\n",
    "Application numérique : "
   ]
  },
  {
   "cell_type": "code",
   "execution_count": 11,
   "metadata": {},
   "outputs": [
    {
     "name": "stdout",
     "output_type": "stream",
     "text": [
      "m_c: 7.00 g\n"
     ]
    }
   ],
   "source": [
    "P = 350 # W\n",
    "delta_t0 = 150 # s\n",
    "m_0 = 150 # g\n",
    "c = 4.18 # J / g / K\n",
    "T_eb = 100 # °C\n",
    "T_0 = 20 # °C\n",
    "\n",
    "m_c = P * delta_t0 / (c * (T_eb - T_0)) - m_0\n",
    "\n",
    "print(f\"m_c: {m_c:.2f} g\")"
   ]
  }
 ],
 "metadata": {
  "kernelspec": {
   "display_name": "Python 3",
   "language": "python",
   "name": "python3"
  },
  "language_info": {
   "codemirror_mode": {
    "name": "ipython",
    "version": 3
   },
   "file_extension": ".py",
   "mimetype": "text/x-python",
   "name": "python",
   "nbconvert_exporter": "python",
   "pygments_lexer": "ipython3",
   "version": "3.7.6"
  }
 },
 "nbformat": 4,
 "nbformat_minor": 4
}
