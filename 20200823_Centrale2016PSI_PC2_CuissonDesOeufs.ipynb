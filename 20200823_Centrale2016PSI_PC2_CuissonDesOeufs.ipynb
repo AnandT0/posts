{
 "cells": [
  {
   "cell_type": "markdown",
   "metadata": {},
   "source": [
    "Lien vers le sujet https://www.doc-solus.fr/prepa/sci/adc/bin/view.corrige.html?q=PSI_PHYSIQUE_CENTRALE_2_2016"
   ]
  },
  {
   "cell_type": "markdown",
   "metadata": {},
   "source": [
    "Bibliographie sur la loi de refroidissement de Newton : \n",
    "\n",
    "- Besson, Ugo. « The History of the Cooling Law: When the Search for Simplicity Can Be an Obstacle ». Science & Education 21, nᵒ 8 (août 2012): 1085‑1110. https://doi.org/10.1007/s11191-010-9324-1.\n"
   ]
  },
  {
   "cell_type": "markdown",
   "metadata": {},
   "source": [
    "# II De la cuisson des oeufs "
   ]
  },
  {
   "cell_type": "markdown",
   "metadata": {},
   "source": [
    "## II A chauffage de l'eau "
   ]
  },
  {
   "cell_type": "markdown",
   "metadata": {},
   "source": [
    "### II A 1"
   ]
  },
  {
   "cell_type": "markdown",
   "metadata": {},
   "source": [
    "L'énergie thermique de la résistance est fournie au système qui comprend :\n",
    "\n",
    "- l'eau\n",
    "- la structure du cuiseur\n",
    "- l'oeuf ou les oeufs présents\n",
    "\n",
    "Dans la première phase de chauffage, on peut supposer que les oeufs ne sont pas chauffés du tout car ils sont au-dessus de l'eau. Le système chauffé dans la première phase est donc seulement constitué de l'eau et du cuiseur, que le sujet propose de représenter via la notion de *valeur en eau* $m_c$.\n",
    "\n",
    "On peut donc écrire que la puissance électrique devient chaleur et est intégralement transférée au système (car les échanges sont considérés adiabatiques, donc pas de pertes externes) :\n",
    "\n",
    "$$\n",
    "\\Delta Q_{th} = \\mathscr{P} \\Delta t_1 = \\Delta e_{int} = (m_c + m_0) c (T_{eb} - T_0)\n",
    "$$\n",
    "\n",
    "On en déduit : \n",
    "\n",
    "$$\n",
    "\\Delta t_1 = (m_c + m_0) c (T_{eb} - T_0) / \\mathscr{P}\n",
    "$$"
   ]
  },
  {
   "cell_type": "markdown",
   "metadata": {},
   "source": [
    "### II A 2 (détermination de la valeur en eau)"
   ]
  },
  {
   "cell_type": "markdown",
   "metadata": {},
   "source": [
    "La connaissance du temps de chauffage à vide $\\Delta t_0$ nous permet d'écrire la chose suivante :\n",
    "\n",
    "$$\n",
    "\\Delta t_0 = (m_c + m_0) c (T_{eb} - T_0) / \\mathscr{P}\n",
    "$$\n",
    "\n",
    "On en déduit la valeur en eau du cuiseur : \n",
    "$$\n",
    "m_c = \\frac{ \\mathscr{P} \\Delta t_0 }{ c (T_{eb} - T_0) }  -  m_0 \n",
    "$$\n",
    "\n",
    "Application numérique : "
   ]
  },
  {
   "cell_type": "code",
   "execution_count": 11,
   "metadata": {},
   "outputs": [
    {
     "name": "stdout",
     "output_type": "stream",
     "text": [
      "m_c: 7.00 g\n"
     ]
    }
   ],
   "source": [
    "P = 350 # W\n",
    "delta_t0 = 150 # s\n",
    "m_0 = 150 # g\n",
    "c = 4.18 # J / g / K\n",
    "T_eb = 100 # °C\n",
    "T_0 = 20 # °C\n",
    "\n",
    "m_c = P * delta_t0 / (c * (T_eb - T_0)) - m_0\n",
    "\n",
    "print(f\"m_c: {m_c:.2f} g\")"
   ]
  },
  {
   "cell_type": "markdown",
   "metadata": {},
   "source": [
    "## II B détermination de la durée de cuisson $\\Delta t_2$"
   ]
  },
  {
   "cell_type": "markdown",
   "metadata": {},
   "source": [
    "### II B 1 (fonction de la pique)"
   ]
  },
  {
   "cell_type": "markdown",
   "metadata": {},
   "source": [
    "Je ne comprends pas bien les explications sur la pique. Le raisonnement pourrait être qu'on perce les coquilles pour permettre aux oeufs de cuire le plus lentement possible dans le but de perdre le moins d'eau possible. \n",
    "\n",
    "Ou alors de permettre à la vapeur d'eau d'aller au plus proche de l'intérieur de la coquille (on fait des trous après avoir mis les oeufs dans le récipient).\n",
    "\n",
    "Ou alors d'éviter que les oeufs explosent à cause de la surpression d'air chauffé à l'intérieur ? "
   ]
  },
  {
   "cell_type": "markdown",
   "metadata": {},
   "source": [
    "### II B 2 (équation de la chaleur pour l'oeuf sphérique)"
   ]
  },
  {
   "cell_type": "markdown",
   "metadata": {},
   "source": [
    "Hypothèses : l'oeuf est sphérique de rayon $r_2$, entièrement constitué d'eau. "
   ]
  },
  {
   "cell_type": "markdown",
   "metadata": {},
   "source": [
    "**(a) bilan énergétique sur une couche sphérique**"
   ]
  },
  {
   "cell_type": "markdown",
   "metadata": {},
   "source": [
    "Volume d'une couche sphérique de rayon $r$ et d'épaisseur $dr$ (développement limité) : \n",
    "\n",
    "$$\n",
    "V \\approx 4 \\pi r^2 dr\n",
    "$$\n",
    "\n",
    "La variation d'énergie interne dans la couche pendant un instant $dt$ est \n",
    "\n",
    "$$\n",
    "\\Delta e|_t^{t+dt} = \\mu V c \\frac{ \\partial T }{ \\partial t } dt\n",
    "$$\n",
    "\n",
    "Cette variation d'énergie interne vient de la chaleur qui a été transférée par conduction entre les deux couches au-dessus et en dessous. On peut donc écrire ceci, en notant $j(r, t) \\vec{e}_r$ le vecteur flux surfacique de chaleur :\n",
    "\n",
    "$$\n",
    "\\Delta e|_t^{t+dt} = -\\frac{\\partial}{\\partial r}\\left ( 4 \\pi r^2 j(r, t) \\right ) dr dt\n",
    "$$\n",
    "\n",
    "\n",
    "**Note :** on a fait l'hypothèse que le champ de température ne dépendait que de $r$, mais des angles sphériques, dans la mesure où on considère que la chaleur diffuse de l'extérieur vers l'intérieur de l'oeuf de manière isotrope.\n",
    "\n",
    "En égalisant les deux termes et en simplifiant, on obtient :\n",
    "\n",
    "$$\n",
    "\\mu r^2 c \\frac{ \\partial T }{ \\partial t } = - \\frac{\\partial r^2 j(r, t)}{\\partial r}\n",
    "$$\n",
    "\n",
    "En introduisant le loi de Fourier $j_{th}(r,t) = - \\lambda \\partial T(r, t) / \\partial r$, on obtient \n",
    "\n",
    "$$\n",
    "\\mu r^2 c \\frac{ \\partial T }{ \\partial t } = \\lambda \\frac{\\partial}{\\partial r} \\left ( r^2 \\frac{\\partial T}{\\partial r} \\right )\n",
    "$$"
   ]
  },
  {
   "cell_type": "markdown",
   "metadata": {},
   "source": [
    "**(b) introduction de variables réduites**"
   ]
  },
  {
   "cell_type": "markdown",
   "metadata": {},
   "source": [
    "En introduisant les variables réduites $\\rho= r / r_2$ et $\\tau = t / \\theta$ l'équation précédente devient : \n",
    "\n",
    "$$\n",
    "\\frac{r_2^2 \\mu c }{\\lambda \\theta} \\frac{\\partial T}{\\partial \\tau} = \\frac{1}{\\rho^2} \\frac{\\partial}{\\partial \\rho} \\left ( \\rho^2 \\frac{ \\partial T }{ \\partial \\rho }\\right )\n",
    "$$"
   ]
  },
  {
   "cell_type": "markdown",
   "metadata": {},
   "source": [
    "On en déduit\n",
    "\n",
    "$$\n",
    "\\theta = \\frac{ r_2^2 \\mu c }{\\lambda }\n",
    "$$\n",
    "\n",
    "ce qui nous permet d'obtenir la forme voulue par l'énoncé de l'équation de la chaleur\n",
    "\n",
    "\n",
    "$$\n",
    " \\frac{\\partial T}{\\partial \\tau} = \\frac{1}{\\rho^2} \\frac{\\partial}{\\partial \\rho} \\left ( \\rho^2 \\frac{ \\partial T }{ \\partial \\rho }\\right )\n",
    "$$"
   ]
  },
  {
   "cell_type": "markdown",
   "metadata": {},
   "source": [
    "Commentaire sur la dépendance en $r^2$ de $\\theta$ : on retrouve le fait que la diffusion thermique ralentit de plus en plus au fur et à mesure de la distance parcourue (je pense à $t = L^2 / (4 D)$, dont la formule ci-dessus est l'analogue). Si on le dit à l'envers : le fait d'avoir un temps de diffusion proportionnel à la distance au carré montre que la longueur diffusée croît en racine de t, ce qui est l'une des solutions classiques de l'équation de la chaleur."
   ]
  },
  {
   "cell_type": "markdown",
   "metadata": {},
   "source": [
    "### II B 3 (résolution de l'équation de la chaleur avec dépendance en temps)"
   ]
  },
  {
   "cell_type": "markdown",
   "metadata": {},
   "source": [
    "**(a) partie temporelle**"
   ]
  },
  {
   "cell_type": "markdown",
   "metadata": {},
   "source": [
    "En injectant la forme de solution à variables séparées dans l'équation de la chaleur, on obtient :\n",
    "\n",
    "$$\n",
    "\\frac{g'}{g} = \\frac{1}{f} (\\frac{2}{\\rho} f' + f'')\n",
    "$$"
   ]
  },
  {
   "cell_type": "markdown",
   "metadata": {},
   "source": [
    "Le terme de gauche ne dépend que du temps $\\tau$ alors que le terme de droite ne dépend que de l'espace $\\rho$. On peut donc dire que c'est une constante. \n",
    "\n",
    "Concernant la partie temporelle, si la constante est positive, alors on a une solution en exponentielle croissante. Etant donné que ce n'est pas physique, la constante doit être négative. Et donc on peut écrire :\n",
    "\n",
    "$$\n",
    "\\frac{1}{g(\\tau)} \\frac{d g(\\tau)}{d\\tau} = - A^2\n",
    "$$"
   ]
  },
  {
   "cell_type": "markdown",
   "metadata": {},
   "source": [
    "On en déduit que $g(\\tau)$ s'écrit \n",
    "\n",
    "$$\n",
    "g(\\tau) = C_\\tau \\exp(-A^2 \\tau)\n",
    "$$"
   ]
  },
  {
   "cell_type": "markdown",
   "metadata": {},
   "source": [
    "**(b) partie spatiale**"
   ]
  },
  {
   "cell_type": "markdown",
   "metadata": {},
   "source": [
    "Après avoir remplacé $f(\\rho) = \\frac{F(\\rho)}{\\rho}$ dans l'équation différentielle, on obtient :\n",
    "\n",
    "$$\n",
    "\\frac{ d^2 F(\\rho) }{ d^2 \\rho } + A^2 F(\\rho) = 0\n",
    "$$\n"
   ]
  },
  {
   "cell_type": "markdown",
   "metadata": {},
   "source": [
    "C'est une équation différentielle linéaire à coefficients réels constants d'ordre 2 mais que l'on connaît bien : l'équation de l'oscillateur harmonique.\n",
    "\n",
    "(pour le cas général voir https://fr.wikipedia.org/wiki/%C3%89quation_diff%C3%A9rentielle_lin%C3%A9aire_d'ordre_deux#Cas_r%C3%A9el)\n",
    "\n",
    "La solution s'écrit \n",
    "\n",
    "$$\n",
    "F(\\rho)=C_1\\cos(A\\rho)+C_2\\sin(A\\rho)\n",
    "$$\n",
    "\n",
    "On en déduit \n",
    "\n",
    "\n",
    "$$\n",
    "f(\\rho) = \\frac{F(\\rho)}{\\rho} = C_1 / \\rho \\cos(A\\rho)+C_2 / \\rho \\sin(A\\rho)\n",
    "$$"
   ]
  },
  {
   "cell_type": "markdown",
   "metadata": {},
   "source": [
    "On peut noter que l'on cherche une solution valable pour $\\rho$ entre 0 et 1. Du coup, étant donné que $\\cos(A \\rho) / \\rho \\underset{\\rho\\rightarrow 0}{\\rightarrow} +\\infty$"
   ]
  },
  {
   "cell_type": "markdown",
   "metadata": {},
   "source": [
    "**(c) solution générale**"
   ]
  },
  {
   "cell_type": "markdown",
   "metadata": {},
   "source": [
    "Finalement, on obtient la solution générale $T(\\rho, \\tau) = T_{eb} + f(\\rho) g(\\tau)$ :\n",
    "\n",
    "$$\n",
    "T(\\rho, \\tau) = T_{eb} + \\frac{1}{\\rho}  \\left ( C_1 \\cos(A\\rho) + C_2 \\sin(A\\rho)\\right ) C_\\tau \\exp(-A^2 \\tau)\n",
    "$$\n",
    "\n",
    "ou encore \n",
    "$$\n",
    "T(\\rho, \\tau) = T_{eb} + \\frac{1}{\\rho}  \\left ( C'_1 \\cos(A\\rho) + C'_2 \\sin(A\\rho)\\right ) \\exp(-A^2 \\tau)\n",
    "$$\n",
    "\n",
    "En transformant le cosinus en sinus, on obtient bien la formule de l'énoncé : \n",
    "\n",
    "$$\n",
    "T(\\rho, \\tau) = T_{eb} +  \\sum_i \\frac{\\beta_i \\sin(A_i\\rho)}{\\rho}   \\exp(-A_i^2 \\tau)\n",
    "$$\n"
   ]
  },
  {
   "cell_type": "markdown",
   "metadata": {},
   "source": [
    "Par contre, d'après ma solution, la somme ne porte que sur deux indices...\n",
    "\n",
    "En fait, c'est sans doute que pleins de coefficients $A_i$ sont possibles, par superposition."
   ]
  },
  {
   "cell_type": "markdown",
   "metadata": {},
   "source": [
    "On devrait logiquement obtenir les bons coefficients en utilisant les conditions aux limites et initiales.\n",
    "\n",
    "Ce sont : \n",
    "\n",
    "- $T(\\rho, 0) = T_0$ car l'oeuf démarre à température ambiante qui à ce moment là est la température $T_0$ dans la cloche (on suppose que jusque là il n'y a pas eu de vapeur produite et donc pas de transfert de chaleur).\n",
    "- $y(T, T', T'')(1, \\tau) = 0$ la condition aux limites sur le bord externe pour la cuisson de l'oeuf "
   ]
  },
  {
   "cell_type": "markdown",
   "metadata": {},
   "source": [
    "### II B 4 (détermination des constantes dans l'approximation de Fourier)"
   ]
  },
  {
   "cell_type": "markdown",
   "metadata": {},
   "source": [
    "Dans l'approximation de Fourier, on ne garde que cette partie là de la solution \n",
    "\n",
    "$$\n",
    "T(\\rho, \\tau) \\approx T_{eb} + \\frac{\\beta \\sin(A\\rho)}{\\rho}   \\exp(-A^2 \\tau)\n",
    "$$"
   ]
  },
  {
   "cell_type": "markdown",
   "metadata": {},
   "source": [
    "**(a) flux entrant**"
   ]
  },
  {
   "cell_type": "markdown",
   "metadata": {},
   "source": [
    "Le flux de chaleur à la surface de l'oeuf est égal à \n",
    "\n",
    "$$\n",
    "\\vec{j}_{th} \\cdot \\vec{u}_r = h \\left( T\\left(\\rho=1, \\tau\\right) - T_{eb} \\right) = h\\beta \\sin{A} \\exp(-A^2\\tau)\n",
    "$$"
   ]
  },
  {
   "cell_type": "markdown",
   "metadata": {},
   "source": [
    "Or, on peut aussi calculer ce flux de chaleur grâce à la loi de Fourier $j_{th}(r,t) = - \\lambda \\partial T(r, t) / \\partial r$"
   ]
  },
  {
   "cell_type": "markdown",
   "metadata": {},
   "source": [
    "Autrement dit, en utilisant la solution approchée du champ de température on peut évaluer cette expression et trouver \n",
    "\n",
    "$$\n",
    "\\delta Q / \\delta t = - \\lambda \\partial T(r, t) / \\partial r = - \\lambda \\frac{\\partial T(\\rho = 1, \\tau)} { \\partial \\rho} \\frac{\\partial \\rho}{\\partial r} = -\\frac{\\lambda \\beta \\exp(-A^2 \\tau)}{r_2} \\left ( A \\cos{A} - \\sin{A}\\right )\n",
    "$$"
   ]
  },
  {
   "cell_type": "markdown",
   "metadata": {},
   "source": [
    "En égalisant ces deux expressions, on obtient bien l'expression demandée :\n",
    "\n",
    "$$\n",
    "\\tan{A} = \\frac{A}{1 - \\frac{r_2 h}{\\lambda}}\n",
    "$$"
   ]
  },
  {
   "cell_type": "markdown",
   "metadata": {},
   "source": [
    "On peut traçer cette relation."
   ]
  },
  {
   "cell_type": "code",
   "execution_count": 12,
   "metadata": {},
   "outputs": [],
   "source": [
    "import numpy as np\n",
    "import matplotlib.pyplot as plt\n",
    "%matplotlib inline\n",
    "\n",
    "from ipywidgets import interact"
   ]
  },
  {
   "cell_type": "code",
   "execution_count": 13,
   "metadata": {},
   "outputs": [
    {
     "data": {
      "application/vnd.jupyter.widget-view+json": {
       "model_id": "39de87bc6cf34319aa196b3a0bccce96",
       "version_major": 2,
       "version_minor": 0
      },
      "text/plain": [
       "interactive(children=(FloatSlider(value=0.025, description='r2', max=0.05, min=0.001, step=0.001), IntSlider(v…"
      ]
     },
     "metadata": {},
     "output_type": "display_data"
    }
   ],
   "source": [
    "@interact(r2=(0.001, 0.05, 0.001), h=(0, 2400, 100), lambd=(0.01, 1.2, 0.01))\n",
    "def surface_relation(r2=0.025, h=1200, lambd=0.6):\n",
    "    A = np.linspace(0, 10, num=500)\n",
    "    fig, ax = plt.subplots()\n",
    "    ax.plot(A, np.tan(A) - A / (1 - r2 * h / lambd), label=r'$\\tan{A} - \\frac{A}{1 - \\frac{r_2 h}{\\lambda}}$')\n",
    "    ax.plot(A, A / (1 - r2 * h / lambd), label=r'$\\frac{A}{1 - \\frac{r_2 h}{\\lambda}}$')\n",
    "    ax.plot(A, np.zeros_like(A))\n",
    "    ax.set_ylim(-2, 2)\n",
    "    ax.vlines(np.pi, -10, 10, label='approx. solution')\n",
    "    ax.legend()"
   ]
  },
  {
   "cell_type": "code",
   "execution_count": 19,
   "metadata": {},
   "outputs": [
    {
     "data": {
      "image/png": "[encoded data removed]",
      "text/plain": [
       "<Figure size 432x288 with 1 Axes>"
      ]
     },
     "metadata": {
      "needs_background": "light"
     },
     "output_type": "display_data"
    }
   ],
   "source": [
    "surface_relation()"
   ]
  },
  {
   "cell_type": "markdown",
   "metadata": {},
   "source": [
    "**(b) solution approchée**"
   ]
  },
  {
   "cell_type": "markdown",
   "metadata": {},
   "source": [
    "Si $r_2 = 0.025 m$ alors on cherche une solution de $\\tan A \\approx 0^-$ car la partie droite vaut alors : "
   ]
  },
  {
   "cell_type": "code",
   "execution_count": 14,
   "metadata": {},
   "outputs": [
    {
     "data": {
      "text/plain": [
       "-0.02040816326530612"
      ]
     },
     "execution_count": 14,
     "metadata": {},
     "output_type": "execute_result"
    }
   ],
   "source": [
    "1/ (1 - 0.025 * 1200 / 0.6)"
   ]
  },
  {
   "cell_type": "markdown",
   "metadata": {},
   "source": [
    "Dans ce cas-là on peut donc prendre $A\\approx \\pi$. L'erreur commise s'obtient en posant $A = \\pi + \\varepsilon$ et en faisant un développement limité autour de $\\pi$:\n",
    "\n",
    "(x - π) + 1/3 (x - π)^3 + 2/15 (x - π)^5 + O((x - π)^7)\n",
    "(Taylor series)\n",
    "\n",
    "Autrement dit $\\tan A \\approx \\varepsilon$.\n",
    "\n",
    "Si on égalise avec l'autre côté de l'équation, on obtient finalement :\n",
    "\n",
    "$$\n",
    "\\varepsilon = \\frac{\\pi}{- r_2 h / \\lambda}\n",
    "$$"
   ]
  },
  {
   "cell_type": "markdown",
   "metadata": {},
   "source": [
    "Numériquement, "
   ]
  },
  {
   "cell_type": "code",
   "execution_count": 15,
   "metadata": {},
   "outputs": [
    {
     "data": {
      "text/plain": [
       "-0.06283185307179587"
      ]
     },
     "execution_count": 15,
     "metadata": {},
     "output_type": "execute_result"
    }
   ],
   "source": [
    "np.pi / (-0.025 * 1200 / 0.6)"
   ]
  },
  {
   "cell_type": "markdown",
   "metadata": {},
   "source": [
    "Ce qui est petit ! J'en conclus que l'approximation est valide (c'est d'ailleurs aussi ce qu'on observe graphiquement)."
   ]
  },
  {
   "cell_type": "markdown",
   "metadata": {},
   "source": [
    "**(c) solution en surface**"
   ]
  },
  {
   "cell_type": "markdown",
   "metadata": {},
   "source": [
    "On obtient à ce stade la solution suivante : "
   ]
  },
  {
   "cell_type": "markdown",
   "metadata": {},
   "source": [
    "$$\n",
    "T(\\rho, \\tau) \\approx T_{eb} + \\frac{\\beta \\sin(\\pi \\rho)}{\\rho}   \\exp(-\\pi^2 \\tau)\n",
    "$$\n",
    "\n",
    "On en déduit $T(\\rho=1, \\tau) = T_{eb}, \\forall \\tau$. Ce résultat est étrange, car cela veut dire qu'il n'y a pas de montée en température à partir de $T_0$ à la surface. "
   ]
  },
  {
   "cell_type": "markdown",
   "metadata": {},
   "source": [
    "On peut proposer (avec l'indice du sujet) que cela revient à faire tendre $r_2$ vers $+\\infty$. Dans ce cas, on aurait :\n",
    "\n",
    "$$\n",
    "\\frac{\\sin(\\pi r / r_2)}{r / r_2} \\underset{r_2 \\rightarrow + \\infty}{\\rightarrow} \\pi\n",
    "$$\n",
    "\n",
    "Et ainsi la température s'écrirait (dans le cas où $r_2$ tend vers l'infini) :\n",
    "\n",
    "$$\n",
    "T(\\rho, \\tau) = T_{eb} + \\beta \\pi   \\exp(-\\pi^2 \\tau)\n",
    "$$"
   ]
  },
  {
   "cell_type": "markdown",
   "metadata": {},
   "source": [
    "**(d) solution au centre**"
   ]
  },
  {
   "cell_type": "markdown",
   "metadata": {},
   "source": [
    "Dans la même hypothèse, la température est homogène dans le solide à chaque instant. On peut donc exprimer la température à $\\tau=0$ comme :\n",
    "\n",
    "$$\n",
    "T(\\rho, \\tau=0)= T_0 = T_{eb} + \\beta \\pi\n",
    "$$\n",
    "\n",
    "On en déduit \n",
    "\n",
    "$$\n",
    "\\beta = \\frac{T_0 - T_{eb}}{\\pi}\n",
    "$$"
   ]
  },
  {
   "cell_type": "markdown",
   "metadata": {},
   "source": [
    "Et la température au centre s'écrit donc \n",
    "\n",
    "$$\n",
    "T(\\rho = 0, \\tau) = T_{eb} + (T_0 - T_{eb})  \\exp(- \\pi^2 \\tau)\n",
    "$$"
   ]
  },
  {
   "cell_type": "markdown",
   "metadata": {},
   "source": [
    "### II B 5 (calcul de la durée de cuisson $\\Delta t_2$ pour un oeuf dur)"
   ]
  },
  {
   "cell_type": "markdown",
   "metadata": {},
   "source": [
    "On peut définir le temps de cuisson $\\Delta t_2$ comme le temps où on attend la température $T_c$ au centre.\n",
    "\n",
    "$$\n",
    "T(0, \\tau_c) = T_c \\Leftrightarrow \\tau_c = \\frac{-1}{\\pi^2} \\ln \\frac{T_c - T_{eb}}{T_0 - T_{eb}} = \\Delta t_2 / \\theta\n",
    "$$\n",
    "\n",
    "D'où \n",
    "$$\n",
    " \\Delta t_2 = -\\frac{\\theta }{\\pi^2} \\ln \\frac{T_c - T_{eb}}{T_0 - T_{eb}} \n",
    "$$"
   ]
  },
  {
   "cell_type": "markdown",
   "metadata": {},
   "source": [
    "Application numérique :"
   ]
  },
  {
   "cell_type": "code",
   "execution_count": 16,
   "metadata": {},
   "outputs": [
    {
     "data": {
      "text/plain": [
       "4354.166666666668"
      ]
     },
     "execution_count": 16,
     "metadata": {},
     "output_type": "execute_result"
    }
   ],
   "source": [
    "r2 = 0.025 # m\n",
    "mu = 1000 # kg / m^3\n",
    "c = 4180. # J / kg / K \n",
    "lambd = 0.6 # W / m / K\n",
    "theta = r2**2 * mu * c / lambd\n",
    "\n",
    "theta"
   ]
  },
  {
   "cell_type": "code",
   "execution_count": 17,
   "metadata": {},
   "outputs": [
    {
     "data": {
      "text/plain": [
       "611.5905412287802"
      ]
     },
     "execution_count": 17,
     "metadata": {},
     "output_type": "execute_result"
    }
   ],
   "source": [
    "T_Kelvin = 273.15\n",
    "\n",
    "T_c = 80 + T_Kelvin\n",
    "T_0 = 20 + T_Kelvin\n",
    "T_eb = 100 + T_Kelvin\n",
    "\n",
    "delta_t2 = - theta / np.pi ** 2 * np.log((T_c - T_eb) / (T_0 - T_eb))\n",
    "\n",
    "delta_t2"
   ]
  },
  {
   "cell_type": "markdown",
   "metadata": {},
   "source": [
    "On peut convertir en minutes :"
   ]
  },
  {
   "cell_type": "code",
   "execution_count": 18,
   "metadata": {},
   "outputs": [
    {
     "name": "stdout",
     "output_type": "stream",
     "text": [
      "delta_t2: 10.2 minutes\n"
     ]
    }
   ],
   "source": [
    "print(f\"delta_t2: {delta_t2/60:.1f} minutes\")"
   ]
  },
  {
   "cell_type": "markdown",
   "metadata": {},
   "source": [
    "10 minutes pour cuire un oeuf, cela me semble raisonnable."
   ]
  }
 ],
 "metadata": {
  "kernelspec": {
   "display_name": "Python 3",
   "language": "python",
   "name": "python3"
  },
  "language_info": {
   "codemirror_mode": {
    "name": "ipython",
    "version": 3
   },
   "file_extension": ".py",
   "mimetype": "text/x-python",
   "name": "python",
   "nbconvert_exporter": "python",
   "pygments_lexer": "ipython3",
   "version": "3.7.6"
  },
  "widgets": {
   "application/vnd.jupyter.widget-state+json": {
    "state": {
     "064ae3e4d72d4c96bdbfb88d01bd9063": {
      "model_module": "@jupyter-widgets/base",
      "model_module_version": "1.2.0",
      "model_name": "LayoutModel",
      "state": {}
     },
     "15fae45366f941d8864532d975e4dfe3": {
      "model_module": "@jupyter-widgets/base",
      "model_module_version": "1.2.0",
      "model_name": "LayoutModel",
      "state": {}
     },
     "17fa7526d77049eaab485fcffc74a5a1": {
      "model_module": "@jupyter-widgets/controls",
      "model_module_version": "1.5.0",
      "model_name": "FloatSliderModel",
      "state": {
       "description": "r2",
       "layout": "IPY_MODEL_77d324aeb5e3482f8f6b51c88d88cc76",
       "max": 0.05,
       "min": 0.001,
       "step": 0.001,
       "style": "IPY_MODEL_1c087b39b4ad4b1895547f77a867d808",
       "value": 0.037
      }
     },
     "1c087b39b4ad4b1895547f77a867d808": {
      "model_module": "@jupyter-widgets/controls",
      "model_module_version": "1.5.0",
      "model_name": "SliderStyleModel",
      "state": {
       "description_width": ""
      }
     },
     "2870c1e01d9f4785bcb05ab24947f90f": {
      "model_module": "@jupyter-widgets/base",
      "model_module_version": "1.2.0",
      "model_name": "LayoutModel",
      "state": {}
     },
     "3139f32dc76d456b8dca0f5ef0dc14cb": {
      "model_module": "@jupyter-widgets/controls",
      "model_module_version": "1.5.0",
      "model_name": "FloatSliderModel",
      "state": {
       "description": "r2",
       "layout": "IPY_MODEL_656384a5cccc4528a7996f692424a551",
       "max": 0.05,
       "min": 0.001,
       "step": 0.001,
       "style": "IPY_MODEL_f3707937ad0f470c93ad6b0b68adf032",
       "value": 0.025
      }
     },
     "34a1ad733ada4706a1e51975c20df526": {
      "model_module": "@jupyter-widgets/controls",
      "model_module_version": "1.5.0",
      "model_name": "IntSliderModel",
      "state": {
       "description": "h",
       "layout": "IPY_MODEL_6e10929bcbe04c849c4b18be47a4236b",
       "max": 2400,
       "step": 100,
       "style": "IPY_MODEL_7c0eed1de6864ea6a20e3e206772f796",
       "value": 1200
      }
     },
     "39de87bc6cf34319aa196b3a0bccce96": {
      "model_module": "@jupyter-widgets/controls",
      "model_module_version": "1.5.0",
      "model_name": "VBoxModel",
      "state": {
       "_dom_classes": [
        "widget-interact"
       ],
       "children": [
        "IPY_MODEL_17fa7526d77049eaab485fcffc74a5a1",
        "IPY_MODEL_ec27dcacc65044d882b381eca52127b9",
        "IPY_MODEL_f21cb4a265d546d9b9e3351510f2c0da",
        "IPY_MODEL_45574baefbd14e8f956fde9e168fd556"
       ],
       "layout": "IPY_MODEL_064ae3e4d72d4c96bdbfb88d01bd9063"
      }
     },
     "3d2a41e6df0e4d0bba6eadcdd4648b01": {
      "model_module": "@jupyter-widgets/controls",
      "model_module_version": "1.5.0",
      "model_name": "SliderStyleModel",
      "state": {
       "description_width": ""
      }
     },
     "45574baefbd14e8f956fde9e168fd556": {
      "model_module": "@jupyter-widgets/output",
      "model_module_version": "1.0.0",
      "model_name": "OutputModel",
      "state": {
       "layout": "IPY_MODEL_f518f81373ea4008af2ebf7a7f419226",
       "outputs": [
        {
         "data": {
          "image/png": "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\n",
          "text/plain": "<Figure size 432x288 with 1 Axes>"
         },
         "metadata": {
          "needs_background": "light"
         },
         "output_type": "display_data"
        }
       ]
      }
     },
     "49e93fe6d10f4709920a557e16409fd4": {
      "model_module": "@jupyter-widgets/base",
      "model_module_version": "1.2.0",
      "model_name": "LayoutModel",
      "state": {}
     },
     "656384a5cccc4528a7996f692424a551": {
      "model_module": "@jupyter-widgets/base",
      "model_module_version": "1.2.0",
      "model_name": "LayoutModel",
      "state": {}
     },
     "68777fec74ba48f79236ac877980e45f": {
      "model_module": "@jupyter-widgets/controls",
      "model_module_version": "1.5.0",
      "model_name": "SliderStyleModel",
      "state": {
       "description_width": ""
      }
     },
     "6e10929bcbe04c849c4b18be47a4236b": {
      "model_module": "@jupyter-widgets/base",
      "model_module_version": "1.2.0",
      "model_name": "LayoutModel",
      "state": {}
     },
     "77d324aeb5e3482f8f6b51c88d88cc76": {
      "model_module": "@jupyter-widgets/base",
      "model_module_version": "1.2.0",
      "model_name": "LayoutModel",
      "state": {}
     },
     "7a695bae07074890bcfa9e6545df9d89": {
      "model_module": "@jupyter-widgets/base",
      "model_module_version": "1.2.0",
      "model_name": "LayoutModel",
      "state": {}
     },
     "7c0eed1de6864ea6a20e3e206772f796": {
      "model_module": "@jupyter-widgets/controls",
      "model_module_version": "1.5.0",
      "model_name": "SliderStyleModel",
      "state": {
       "description_width": ""
      }
     },
     "7de374f38a494573975945853f6fb0be": {
      "model_module": "@jupyter-widgets/controls",
      "model_module_version": "1.5.0",
      "model_name": "SliderStyleModel",
      "state": {
       "description_width": ""
      }
     },
     "9a4d401405634a398c7e2d8dc5a086c5": {
      "model_module": "@jupyter-widgets/output",
      "model_module_version": "1.0.0",
      "model_name": "OutputModel",
      "state": {
       "layout": "IPY_MODEL_2870c1e01d9f4785bcb05ab24947f90f"
      }
     },
     "b254f6c3129649578dbd6f013c98c4d9": {
      "model_module": "@jupyter-widgets/base",
      "model_module_version": "1.2.0",
      "model_name": "LayoutModel",
      "state": {}
     },
     "d0809cf1e5c14dbea6af20341b8c596b": {
      "model_module": "@jupyter-widgets/controls",
      "model_module_version": "1.5.0",
      "model_name": "VBoxModel",
      "state": {
       "_dom_classes": [
        "widget-interact"
       ],
       "children": [
        "IPY_MODEL_3139f32dc76d456b8dca0f5ef0dc14cb",
        "IPY_MODEL_34a1ad733ada4706a1e51975c20df526",
        "IPY_MODEL_ed4b20d4701f4b04a9f6266fcb959948",
        "IPY_MODEL_9a4d401405634a398c7e2d8dc5a086c5"
       ],
       "layout": "IPY_MODEL_b254f6c3129649578dbd6f013c98c4d9"
      }
     },
     "ec27dcacc65044d882b381eca52127b9": {
      "model_module": "@jupyter-widgets/controls",
      "model_module_version": "1.5.0",
      "model_name": "IntSliderModel",
      "state": {
       "description": "h",
       "layout": "IPY_MODEL_7a695bae07074890bcfa9e6545df9d89",
       "max": 2400,
       "step": 100,
       "style": "IPY_MODEL_68777fec74ba48f79236ac877980e45f",
       "value": 500
      }
     },
     "ed4b20d4701f4b04a9f6266fcb959948": {
      "model_module": "@jupyter-widgets/controls",
      "model_module_version": "1.5.0",
      "model_name": "FloatSliderModel",
      "state": {
       "description": "lambd",
       "layout": "IPY_MODEL_49e93fe6d10f4709920a557e16409fd4",
       "max": 1.2,
       "min": 0.01,
       "step": 0.01,
       "style": "IPY_MODEL_7de374f38a494573975945853f6fb0be",
       "value": 0.6
      }
     },
     "f21cb4a265d546d9b9e3351510f2c0da": {
      "model_module": "@jupyter-widgets/controls",
      "model_module_version": "1.5.0",
      "model_name": "FloatSliderModel",
      "state": {
       "description": "lambd",
       "layout": "IPY_MODEL_15fae45366f941d8864532d975e4dfe3",
       "max": 1.2,
       "min": 0.01,
       "step": 0.01,
       "style": "IPY_MODEL_3d2a41e6df0e4d0bba6eadcdd4648b01",
       "value": 0.85
      }
     },
     "f3707937ad0f470c93ad6b0b68adf032": {
      "model_module": "@jupyter-widgets/controls",
      "model_module_version": "1.5.0",
      "model_name": "SliderStyleModel",
      "state": {
       "description_width": ""
      }
     },
     "f518f81373ea4008af2ebf7a7f419226": {
      "model_module": "@jupyter-widgets/base",
      "model_module_version": "1.2.0",
      "model_name": "LayoutModel",
      "state": {}
     }
    },
    "version_major": 2,
    "version_minor": 0
   }
  }
 },
 "nbformat": 4,
 "nbformat_minor": 4
}
