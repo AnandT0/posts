{
 "cells": [
  {
   "cell_type": "markdown",
   "metadata": {},
   "source": [
    "Lien vers le sujet https://www.doc-solus.fr/prepa/sci/adc/bin/view.corrige.html?q=PSI_PHYSIQUE_CENTRALE_2_2016"
   ]
  },
  {
   "cell_type": "markdown",
   "metadata": {},
   "source": [
    "# II De la cuisson des oeufs "
   ]
  },
  {
   "cell_type": "markdown",
   "metadata": {},
   "source": [
    "## II A chauffage de l'eau "
   ]
  },
  {
   "cell_type": "markdown",
   "metadata": {},
   "source": [
    "### II A 1"
   ]
  },
  {
   "cell_type": "markdown",
   "metadata": {},
   "source": [
    "L'énergie thermique de la résistance est fournie au système qui comprend :\n",
    "\n",
    "- l'eau\n",
    "- la structure du cuiseur\n",
    "- l'oeuf ou les oeufs présents\n",
    "\n",
    "Dans la première phase de chauffage, on peut supposer que les oeufs ne sont pas chauffés du tout car ils sont au-dessus de l'eau. Le système chauffé dans la première phase est donc seulement constitué de l'eau et du cuiseur, que le sujet propose de représenter via la notion de *valeur en eau* $m_c$.\n",
    "\n",
    "On peut donc écrire :\n",
    "\n",
    "$$\n",
    "\\Delta Q_{th} = \\mathscr{P} \\Delta t_1 = \\Delta e_{int} = (m_c + m_0) c (T_{eb} - T_0)\n",
    "$$\n",
    "\n",
    "On en déduit : \n",
    "\n",
    "$$\n",
    "\\Delta t_1 = (m_c + m_0) c (T_{eb} - T_0) / \\mathscr{P}\n",
    "$$"
   ]
  },
  {
   "cell_type": "markdown",
   "metadata": {},
   "source": [
    "### II A 2 (détermination de la valeur en eau)"
   ]
  },
  {
   "cell_type": "markdown",
   "metadata": {},
   "source": [
    "La connaissance du temps de chauffage à vide $\\Delta t_0$ nous permet d'écrire la chose suivante :\n",
    "\n",
    "$$\n",
    "\\Delta t_0 = (m_c + m_0) c (T_{eb} - T_0) / \\mathscr{P}\n",
    "$$\n",
    "\n",
    "On en déduit la valeur en eau du cuiseur : \n",
    "$$\n",
    "m_c = \\frac{ \\mathscr{P} \\Delta t_0 }{ c (T_{eb} - T_0) }  -  m_0 \n",
    "$$\n",
    "\n",
    "Application numérique : "
   ]
  },
  {
   "cell_type": "code",
   "execution_count": 1,
   "metadata": {},
   "outputs": [
    {
     "name": "stdout",
     "output_type": "stream",
     "text": [
      "m_c: 7.00 g\n"
     ]
    }
   ],
   "source": [
    "P = 350 # W\n",
    "delta_t0 = 150 # s\n",
    "m_0 = 150 # g\n",
    "c = 4.18 # J / g / K\n",
    "T_eb = 100 # °C\n",
    "T_0 = 20 # °C\n",
    "\n",
    "m_c = P * delta_t0 / (c * (T_eb - T_0)) - m_0\n",
    "\n",
    "print(f\"m_c: {m_c:.2f} g\")"
   ]
  },
  {
   "cell_type": "markdown",
   "metadata": {},
   "source": [
    "## II B détermination de la durée de cuisson $\\Delta t_2$"
   ]
  },
  {
   "cell_type": "markdown",
   "metadata": {},
   "source": [
    "### II B 1 (fonction de la pique)"
   ]
  },
  {
   "cell_type": "markdown",
   "metadata": {},
   "source": [
    "Je ne comprends pas bien les explications sur la pique. Le raisonnement pourrait être qu'on perce les coquilles pour permettre aux oeufs de cuire le plus lentement possible dans le but de perdre le moins d'eau possible. "
   ]
  },
  {
   "cell_type": "markdown",
   "metadata": {},
   "source": [
    "### II B 2 (équation de la chaleur pour l'oeuf sphérique)"
   ]
  },
  {
   "cell_type": "markdown",
   "metadata": {},
   "source": [
    "Hypothèses : l'oeuf est sphérique de rayon $r_2$, entièrement constitué d'eau. "
   ]
  },
  {
   "cell_type": "markdown",
   "metadata": {},
   "source": [
    "**(a) bilan énergétique sur une couche sphérique**"
   ]
  },
  {
   "cell_type": "markdown",
   "metadata": {},
   "source": [
    "Volume d'une couche sphérique de rayon $r$ et d'épaisseur $dr$ (développement limité) : \n",
    "\n",
    "$$\n",
    "V \\approx 4 \\pi r^2 dr\n",
    "$$\n",
    "\n",
    "La d'énergie interne dans la couche pendant un instant $dt$ est \n",
    "\n",
    "$$\n",
    "\\Delta e|_t^{t+dt} = \\mu V c \\frac{ \\partial T }{ \\partial t } dt\n",
    "$$\n",
    "\n",
    "Cette variation d'énergie interne vient de la chaleur qui a été transférée par conduction entre les deux couches au-dessus et en dessous. On peut donc écrire ceci, en notant $j(r, t) \\vec{e}_r$ le vecteur flux surfacique de chaleur :\n",
    "\n",
    "$$\n",
    "\\Delta e|_t^{t+dt} = -\\frac{\\partial}{\\partial r}\\left ( 4 \\pi r^2 j(r, t) \\right ) dr dt\n",
    "$$\n",
    "\n",
    "\n",
    "En égalisant les deux termes et en simplifiant, on obtient :\n",
    "\n",
    "$$\n",
    "\\mu r^2 c \\frac{ \\partial T }{ \\partial t } = - \\frac{\\partial r^2 j(r, t)}{\\partial r}\n",
    "$$\n",
    "\n",
    "En introduisant le loi de Fourier $j_{th}(r,t) = - \\lambda \\partial T(r, t) / \\partial r$, on obtient \n",
    "\n",
    "$$\n",
    "\\mu r^2 c \\frac{ \\partial T }{ \\partial t } = \\lambda \\frac{\\partial}{\\partial r} \\left ( r^2 \\frac{\\partial T}{\\partial r} \\right )\n",
    "$$"
   ]
  },
  {
   "cell_type": "markdown",
   "metadata": {},
   "source": [
    "**(b) introduction de variables réduites**"
   ]
  },
  {
   "cell_type": "markdown",
   "metadata": {},
   "source": [
    "En introduisant les variables réduites $\\rho= r / r_2$ et $\\tau = t / \\theta$ l'équation précédente devient : \n",
    "\n",
    "$$\n",
    "\\frac{r_2^2 \\mu c }{\\lambda \\theta} \\frac{\\partial T}{\\partial \\tau} = \\frac{1}{\\rho^2} \\frac{\\partial}{\\partial \\rho} \\left ( \\rho^2 \\frac{ \\partial T }{ \\partial \\rho }\\right )\n",
    "$$"
   ]
  },
  {
   "cell_type": "markdown",
   "metadata": {},
   "source": [
    "On en déduit\n",
    "\n",
    "$$\n",
    "\\theta = \\frac{ r_2^2 \\mu c }{\\lambda }\n",
    "$$\n",
    "\n",
    "ce qui nous permet d'obtenir la forme voulue par l'énoncé de l'équation de la chaleur\n",
    "\n",
    "\n",
    "$$\n",
    " \\frac{\\partial T}{\\partial \\tau} = \\frac{1}{\\rho^2} \\frac{\\partial}{\\partial \\rho} \\left ( \\rho^2 \\frac{ \\partial T }{ \\partial \\rho }\\right )\n",
    "$$"
   ]
  },
  {
   "cell_type": "markdown",
   "metadata": {},
   "source": [
    "Commentaire sur la dépendance en $r^2$ de $\\theta$ : on retrouve le fait que la diffusion thermique ralentit de plus en plus au fur et à mesure de la distance parcourue (je pense à $t = L^2 / (4 D)$, dont la formule ci-dessus est l'analogue). Si on le dit à l'envers : le fait d'avoir un temps de diffusion proportionnel à la distance au carré montre que la longueur diffusée croît en racine de t, ce qui est l'une des solutions classiques de l'équation de la chaleur."
   ]
  },
  {
   "cell_type": "markdown",
   "metadata": {},
   "source": [
    "### II B 3 (résolution de l'équation de la chaleur avec dépendance en temps)"
   ]
  },
  {
   "cell_type": "markdown",
   "metadata": {},
   "source": [
    "**(a) partie temporelle**"
   ]
  },
  {
   "cell_type": "markdown",
   "metadata": {},
   "source": [
    "En injectant la forme de solution à variables séparées dans l'équation de la chaleur, on obtient :\n",
    "\n",
    "$$\n",
    "\\frac{g'}{g} = \\frac{1}{f} (\\frac{2}{\\rho} f' + f'')\n",
    "$$"
   ]
  },
  {
   "cell_type": "markdown",
   "metadata": {},
   "source": [
    "Le terme de gauche ne dépend que du temps $\\tau$ alors que le terme de droite ne dépend que de l'espace $\\rho$. On peut donc dire que c'est une constante. \n",
    "\n",
    "Concernant la partie temporelle, si la constante est positive, alors on a une solution en exponentielle croissante. Etant donné que ce n'est pas physique, la constante doit être négative. Et donc on peut écrire :\n",
    "\n",
    "$$\n",
    "\\frac{1}{g(\\tau)} \\frac{d g(\\tau)}{d\\tau} = - A^2\n",
    "$$"
   ]
  },
  {
   "cell_type": "markdown",
   "metadata": {},
   "source": [
    "On en déduit que $g(\\tau)$ s'écrit \n",
    "\n",
    "$$\n",
    "g(\\tau) = C_\\tau \\exp(-A^2 \\tau)\n",
    "$$"
   ]
  },
  {
   "cell_type": "markdown",
   "metadata": {},
   "source": [
    "**(b) partie spatiale**"
   ]
  },
  {
   "cell_type": "markdown",
   "metadata": {},
   "source": [
    "Après avoir remplacé $f(\\rho) = \\frac{F(\\rho)}{\\rho}$ dans l'équation différentielle, on obtient :\n",
    "\n",
    "$$\n",
    "\\frac{ d^2 F(\\rho) }{ d^2 \\rho } + A^2 F(\\rho) = 0\n",
    "$$\n"
   ]
  },
  {
   "cell_type": "markdown",
   "metadata": {},
   "source": [
    "C'est une équation différentielle linéaire à coefficients réels constants d'ordre 2. L'équation caractéristique est $\\Delta = -4 A^2$. Dans ce cas, on cherche la solution sous la forme \n",
    "\n",
    "$$\n",
    "f(x)={\\rm {e}}^{ux}(A\\cos(vx)+B\\sin(vx))\n",
    "$$\n",
    "\n",
    "(voir https://fr.wikipedia.org/wiki/%C3%89quation_diff%C3%A9rentielle_lin%C3%A9aire_d'ordre_deux#Cas_r%C3%A9el)\n",
    "\n",
    "En fait, on a pas de terme en dérivée première de $F$ donc c'est encore plus simple : la solution s'écrit \n",
    "\n",
    "$$\n",
    "F(\\rho)=C_1\\cos(A\\rho)+C_2\\sin(A\\rho)\n",
    "$$\n",
    "\n",
    "On en déduit \n",
    "\n",
    "\n",
    "$$\n",
    "f(\\rho) = \\frac{F(\\rho)}{\\rho} = C_1 / \\rho \\cos(A\\rho)+C_2 / \\rho \\sin(A\\rho)\n",
    "$$"
   ]
  },
  {
   "cell_type": "markdown",
   "metadata": {},
   "source": [
    "**(c) solution générale**"
   ]
  },
  {
   "cell_type": "markdown",
   "metadata": {},
   "source": [
    "Finalement, on obtient la solution générale $T(\\rho, \\tau) = T_{eb} + f(\\rho) g(\\tau)$ :\n",
    "\n",
    "$$\n",
    "T(\\rho, \\tau) = T_{eb} + \\frac{1}{\\rho}  \\left ( C_1 \\cos(A\\rho) + C_2 \\sin(A\\rho)\\right ) C_\\tau \\exp(-A^2 \\tau)\n",
    "$$\n",
    "\n",
    "ou encore \n",
    "$$\n",
    "T(\\rho, \\tau) = T_{eb} + \\frac{1}{\\rho}  \\left ( C'_1 \\cos(A\\rho) + C'_2 \\sin(A\\rho)\\right ) \\exp(-A^2 \\tau)\n",
    "$$\n",
    "\n",
    "En transformant le cosinus en sinus, on obtient bien la formule de l'énoncé : \n",
    "\n",
    "$$\n",
    "T(\\rho, \\tau) = T_{eb} +  \\sum_i \\frac{\\beta_i \\sin(A_i\\rho)}{\\rho}   \\exp(-A_i^2 \\tau)\n",
    "$$\n"
   ]
  },
  {
   "cell_type": "markdown",
   "metadata": {},
   "source": [
    "Par contre, d'après ma solution, la somme ne porte que sur deux indices...\n",
    "\n",
    "En fait, c'est sans doute que pleins de coefficients $A_i$ sont possibles, par superposition."
   ]
  },
  {
   "cell_type": "markdown",
   "metadata": {},
   "source": [
    "On devrait logiquement obtenir les bons coefficients en utilisant les conditions aux limites et initiales.\n",
    "\n",
    "Ce sont : \n",
    "\n",
    "- $T(\\rho, 0) = T_0$ car l'oeuf démarre à température ambiante qui à ce moment là est la température $T_0$ dans la cloche (on suppose que jusque là il n'y a pas eu de vapeur produite et donc pas de transfert de chaleur).\n",
    "- $y(T, T', T'')(1, \\tau) = 0$ la condition aux limites sur le bord externe pour la cuisson de l'oeuf "
   ]
  },
  {
   "cell_type": "markdown",
   "metadata": {},
   "source": [
    "### II B 4 (détermination des constantes dans l'approximation de Fourier)"
   ]
  },
  {
   "cell_type": "markdown",
   "metadata": {},
   "source": [
    "Dans l'approximation de Fourier, on ne garde que cette partie là de la solution \n",
    "\n",
    "$$\n",
    "T(\\rho, \\tau) \\approx T_{eb} + \\frac{\\beta \\sin(A\\rho)}{\\rho}   \\exp(-A^2 \\tau)\n",
    "$$"
   ]
  },
  {
   "cell_type": "markdown",
   "metadata": {},
   "source": [
    "**(a) flux entrant**"
   ]
  },
  {
   "cell_type": "markdown",
   "metadata": {},
   "source": [
    "Le flux de chaleur à la surface de l'oeuf est égal à \n",
    "\n",
    "$$\n",
    "\\vec{j}_{th} \\cdot \\vec{u}_r = h \\left( T\\left(\\rho=1, \\tau\\right) - T_{eb} \\right) = h\\beta \\sin{A} \\exp(-A^2\\tau)\n",
    "$$"
   ]
  },
  {
   "cell_type": "markdown",
   "metadata": {},
   "source": [
    "Or, on peut aussi calculer ce flux de chaleur grâce à la loi de Fourier $j_{th}(r,t) = - \\lambda \\partial T(r, t) / \\partial r$"
   ]
  },
  {
   "cell_type": "markdown",
   "metadata": {},
   "source": [
    "Autrement dit, en utilisant la solution approchée du champ de température on peut évaluer cette expression et trouver \n",
    "\n",
    "$$\n",
    "\\delta Q / \\delta t = - \\lambda \\partial T(r, t) / \\partial r = - \\lambda \\frac{\\partial T(\\rho = 1, \\tau)} { \\partial \\rho} \\frac{\\partial \\rho}{\\partial r} = -\\frac{\\lambda \\beta \\exp(-A^2 \\tau)}{r_2} \\left ( A \\cos{A} - \\sin{A}\\right )\n",
    "$$"
   ]
  },
  {
   "cell_type": "markdown",
   "metadata": {},
   "source": [
    "En égalisant ces deux expressions, on obtient bien l'expression demandée :\n",
    "\n",
    "$$\n",
    "\\tan{A} = \\frac{A}{1 - \\frac{r_2 h}{\\lambda}}\n",
    "$$"
   ]
  },
  {
   "cell_type": "markdown",
   "metadata": {},
   "source": [
    "On peut traçer cette relation."
   ]
  },
  {
   "cell_type": "code",
   "execution_count": 3,
   "metadata": {},
   "outputs": [],
   "source": [
    "import numpy as np\n",
    "import matplotlib.pyplot as plt\n",
    "%matplotlib inline\n",
    "\n",
    "from ipywidgets import interact"
   ]
  },
  {
   "cell_type": "code",
   "execution_count": 25,
   "metadata": {},
   "outputs": [
    {
     "data": {
      "application/vnd.jupyter.widget-view+json": {
       "model_id": "07027d861713425e846bdca1aba03fbe",
       "version_major": 2,
       "version_minor": 0
      },
      "text/plain": [
       "interactive(children=(FloatSlider(value=0.025, description='r2', max=0.05, min=0.001, step=0.001), IntSlider(v…"
      ]
     },
     "metadata": {},
     "output_type": "display_data"
    }
   ],
   "source": [
    "@interact(r2=(0.001, 0.05, 0.001), h=(0, 2400, 100), lambd=(0.01, 1.2, 0.01))\n",
    "def surface_relation(r2=0.025, h=1200, lambd=0.6):\n",
    "    A = np.linspace(0, 10, num=500)\n",
    "    fig, ax = plt.subplots()\n",
    "    ax.plot(A, np.tan(A) - A / (1 - r2 * h / lambd), label=r'$\\tan{A} - \\frac{A}{1 - \\frac{r_2 h}{\\lambda}}$')\n",
    "    ax.plot(A, A / (1 - r2 * h / lambd), label=r'$\\frac{A}{1 - \\frac{r_2 h}{\\lambda}}$')\n",
    "    ax.plot(A, np.zeros_like(A))\n",
    "    ax.set_ylim(-2, 2)\n",
    "    ax.vlines(np.pi, -10, 10, label='approx. solution')\n",
    "    ax.legend()"
   ]
  },
  {
   "cell_type": "markdown",
   "metadata": {},
   "source": [
    "**(b) solution approchée**"
   ]
  },
  {
   "cell_type": "markdown",
   "metadata": {},
   "source": [
    "Si $r_2 = 0.025 m$ alors on cherche une solution de $\\tan A \\approx 0^-$ car la partie droite vaut alors : "
   ]
  },
  {
   "cell_type": "code",
   "execution_count": 26,
   "metadata": {},
   "outputs": [
    {
     "data": {
      "text/plain": [
       "-0.02040816326530612"
      ]
     },
     "execution_count": 26,
     "metadata": {},
     "output_type": "execute_result"
    }
   ],
   "source": [
    "1/ (1 - 0.025 * 1200 / 0.6)"
   ]
  },
  {
   "cell_type": "markdown",
   "metadata": {},
   "source": [
    "Dans ce cas-là on peut donc prendre $A\\approx \\pi$. L'erreur commise s'obtient en posant $A = \\pi + \\varepsilon$ et en faisant un développement limité autour de $\\pi$:\n",
    "\n",
    "(x - π) + 1/3 (x - π)^3 + 2/15 (x - π)^5 + O((x - π)^7)\n",
    "(Taylor series)\n",
    "\n",
    "Autrement dit $\\tan A \\approx \\varepsilon$.\n",
    "\n",
    "Si on égalise avec l'autre côté de l'équation, on obtient finalement :\n",
    "\n",
    "$$\n",
    "\\varepsilon = \\frac{\\pi}{- r_2 h / \\lambda}\n",
    "$$"
   ]
  },
  {
   "cell_type": "markdown",
   "metadata": {},
   "source": [
    "Numériquement, "
   ]
  },
  {
   "cell_type": "code",
   "execution_count": 28,
   "metadata": {},
   "outputs": [
    {
     "data": {
      "text/plain": [
       "-0.06283185307179587"
      ]
     },
     "execution_count": 28,
     "metadata": {},
     "output_type": "execute_result"
    }
   ],
   "source": [
    "np.pi / (-0.025 * 1200 / 0.6)"
   ]
  },
  {
   "cell_type": "markdown",
   "metadata": {},
   "source": [
    "Ce qui est petit ! J'en conclus que l'approximation est valide."
   ]
  },
  {
   "cell_type": "markdown",
   "metadata": {},
   "source": [
    "**(c) solution en surface**"
   ]
  },
  {
   "cell_type": "markdown",
   "metadata": {},
   "source": [
    "On obtient à ce stade la solution suivante : "
   ]
  },
  {
   "cell_type": "markdown",
   "metadata": {},
   "source": [
    "$$\n",
    "T(\\rho, \\tau) \\approx T_{eb} + \\frac{\\beta \\sin(\\pi \\rho)}{\\rho}   \\exp(-\\pi^2 \\tau)\n",
    "$$\n",
    "\n",
    "On en déduit $T(\\rho=1, \\tau) = T_{eb}, \\forall \\tau$. Ce résultat est étrange, car cela veut dire qu'il n'y a pas de montée en température à partir de $T_0$ à la surface. "
   ]
  },
  {
   "cell_type": "markdown",
   "metadata": {},
   "source": [
    "On peut proposer (avec l'indice du sujet) que cela revient à faire tendre $r_2$ vers $+\\infty$. Dans ce cas, on aurait :\n",
    "\n",
    "$$\n",
    "\\frac{\\sin(\\pi r / r_2)}{r / r_2} \\underset{r_2 \\rightarrow + \\infty}{\\rightarrow} \\pi\n",
    "$$\n",
    "\n",
    "Et ainsi la température s'écrirait (dans le cas où $r_2$ tend vers l'infini) :\n",
    "\n",
    "$$\n",
    "T(\\rho, \\tau) = T_{eb} + \\beta \\pi   \\exp(-\\pi^2 \\tau)\n",
    "$$"
   ]
  },
  {
   "cell_type": "markdown",
   "metadata": {},
   "source": [
    "**(d) solution au centre**"
   ]
  },
  {
   "cell_type": "markdown",
   "metadata": {},
   "source": [
    "Dans la même hypothèse, la température est homogène dans le solide à chaque instant. On peut donc exprimer la température à $\\tau=0$ comme :\n",
    "\n",
    "$$\n",
    "T(\\rho, \\tau=0)= T_0 = T_{eb} + \\beta \\pi\n",
    "$$\n",
    "\n",
    "On en déduit \n",
    "\n",
    "$$\n",
    "\\beta = \\frac{T_0 - T_{eb}}{\\pi}\n",
    "$$"
   ]
  },
  {
   "cell_type": "markdown",
   "metadata": {},
   "source": [
    "Et la température au centre s'écrit donc \n",
    "\n",
    "$$\n",
    "T(\\rho = 0, \\tau) = T_{eb} + (T_0 - T_{eb})  \\exp(- \\pi^2 \\tau)\n",
    "$$"
   ]
  },
  {
   "cell_type": "markdown",
   "metadata": {},
   "source": [
    "### II B 5 (calcul de la durée de cuisson $\\Delta t_2$ pour un oeuf dur)"
   ]
  },
  {
   "cell_type": "markdown",
   "metadata": {},
   "source": [
    "On peut définir le temps de cuisson $\\Delta t_2$ comme le temps où on attend la température $T_c$ au centre.\n",
    "\n",
    "$$\n",
    "T(0, \\tau_c) = T_c \\Leftrightarrow \\tau_c = \\frac{-1}{\\pi^2} \\ln \\frac{T_c - T_{eb}}{T_0 - T_{eb}} = \\Delta t_2 / \\theta\n",
    "$$\n",
    "\n",
    "D'où \n",
    "$$\n",
    " \\Delta t_2 = -\\frac{\\theta }{\\pi^2} \\ln \\frac{T_c - T_{eb}}{T_0 - T_{eb}} \n",
    "$$"
   ]
  },
  {
   "cell_type": "markdown",
   "metadata": {},
   "source": [
    "Application numérique :"
   ]
  },
  {
   "cell_type": "code",
   "execution_count": 41,
   "metadata": {},
   "outputs": [
    {
     "data": {
      "text/plain": [
       "4354.166666666668"
      ]
     },
     "execution_count": 41,
     "metadata": {},
     "output_type": "execute_result"
    }
   ],
   "source": [
    "r2 = 0.025 # m\n",
    "mu = 1000 # kg / m^3\n",
    "c = 4180. # J / kg / K \n",
    "lambd = 0.6 # W / m / K\n",
    "theta = r2**2 * mu * c / lambd\n",
    "\n",
    "theta"
   ]
  },
  {
   "cell_type": "code",
   "execution_count": 45,
   "metadata": {},
   "outputs": [
    {
     "data": {
      "text/plain": [
       "611.5905412287802"
      ]
     },
     "execution_count": 45,
     "metadata": {},
     "output_type": "execute_result"
    }
   ],
   "source": [
    "T_Kelvin = 273.15\n",
    "\n",
    "T_c = 80 + T_Kelvin\n",
    "T_0 = 20 + T_Kelvin\n",
    "T_eb = 100 + T_Kelvin\n",
    "\n",
    "delta_t2 = - theta / np.pi ** 2 * np.log((T_c - T_eb) / (T_0 - T_eb))\n",
    "\n",
    "delta_t2"
   ]
  },
  {
   "cell_type": "markdown",
   "metadata": {},
   "source": [
    "On peut convertir en minutes :"
   ]
  },
  {
   "cell_type": "code",
   "execution_count": 46,
   "metadata": {},
   "outputs": [
    {
     "data": {
      "text/plain": [
       "10.193166666666666"
      ]
     },
     "execution_count": 46,
     "metadata": {},
     "output_type": "execute_result"
    }
   ],
   "source": [
    "611.59 / 60"
   ]
  },
  {
   "cell_type": "markdown",
   "metadata": {},
   "source": [
    "C'est pas mal comme résultat."
   ]
  }
 ],
 "metadata": {
  "kernelspec": {
   "display_name": "Python 3",
   "language": "python",
   "name": "python3"
  },
  "language_info": {
   "codemirror_mode": {
    "name": "ipython",
    "version": 3
   },
   "file_extension": ".py",
   "mimetype": "text/x-python",
   "name": "python",
   "nbconvert_exporter": "python",
   "pygments_lexer": "ipython3",
   "version": "3.7.6"
  }
 },
 "nbformat": 4,
 "nbformat_minor": 4
}
