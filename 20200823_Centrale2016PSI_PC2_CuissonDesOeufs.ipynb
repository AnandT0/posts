{
 "cells": [
  {
   "cell_type": "markdown",
   "metadata": {},
   "source": [
    "Lien vers le sujet https://www.doc-solus.fr/prepa/sci/adc/bin/view.corrige.html?q=PSI_PHYSIQUE_CENTRALE_2_2016"
   ]
  },
  {
   "cell_type": "markdown",
   "metadata": {},
   "source": [
    "Bibliographie sur la loi de refroidissement de Newton : \n",
    "\n",
    "- Besson, Ugo. « The History of the Cooling Law: When the Search for Simplicity Can Be an Obstacle ». Science & Education 21, nᵒ 8 (août 2012): 1085‑1110. https://doi.org/10.1007/s11191-010-9324-1.\n"
   ]
  },
  {
   "cell_type": "markdown",
   "metadata": {},
   "source": [
    "# II De la cuisson des oeufs "
   ]
  },
  {
   "cell_type": "markdown",
   "metadata": {},
   "source": [
    "## II A chauffage de l'eau "
   ]
  },
  {
   "cell_type": "markdown",
   "metadata": {},
   "source": [
    "### II A 1"
   ]
  },
  {
   "cell_type": "markdown",
   "metadata": {},
   "source": [
    "L'énergie thermique de la résistance est fournie au système qui comprend :\n",
    "\n",
    "- l'eau\n",
    "- la structure du cuiseur\n",
    "- l'oeuf ou les oeufs présents\n",
    "\n",
    "Dans la première phase de chauffage, on peut supposer que les oeufs ne sont pas chauffés du tout car ils sont au-dessus de l'eau. Le système chauffé dans la première phase est donc seulement constitué de l'eau et du cuiseur, que le sujet propose de représenter via la notion de *valeur en eau* $m_c$.\n",
    "\n",
    "On peut donc écrire que la puissance électrique devient chaleur et est intégralement transférée au système (car les échanges sont considérés adiabatiques, donc pas de pertes externes) :\n",
    "\n",
    "$$\n",
    "\\Delta Q_{th} = \\mathscr{P} \\Delta t_1 = \\Delta e_{int} = (m_c + m_0) c (T_{eb} - T_0)\n",
    "$$\n",
    "\n",
    "On en déduit : \n",
    "\n",
    "$$\n",
    "\\Delta t_1 = (m_c + m_0) c (T_{eb} - T_0) / \\mathscr{P}\n",
    "$$"
   ]
  },
  {
   "cell_type": "markdown",
   "metadata": {},
   "source": [
    "### II A 2 (détermination de la valeur en eau)"
   ]
  },
  {
   "cell_type": "markdown",
   "metadata": {},
   "source": [
    "La connaissance du temps de chauffage à vide $\\Delta t_0$ nous permet d'écrire la chose suivante :\n",
    "\n",
    "$$\n",
    "\\Delta t_0 = (m_c + m_0) c (T_{eb} - T_0) / \\mathscr{P}\n",
    "$$\n",
    "\n",
    "On en déduit la valeur en eau du cuiseur : \n",
    "$$\n",
    "m_c = \\frac{ \\mathscr{P} \\Delta t_0 }{ c (T_{eb} - T_0) }  -  m_0 \n",
    "$$\n",
    "\n",
    "Application numérique : "
   ]
  },
  {
   "cell_type": "code",
   "execution_count": 1,
   "metadata": {},
   "outputs": [],
   "source": [
    "P = 350 # W\n",
    "delta_t0 = 150 # s\n",
    "m_0 = 150 # g\n",
    "c = 4.18 # J / g / K\n",
    "T_eb = 100 # °C\n",
    "T_0 = 20 # °C\n",
    "\n",
    "m_c = P * delta_t0 / (c * (T_eb - T_0)) - m_0\n",
    "\n",
    "print(f\"m_c: {m_c:.2f} g\")"
   ]
  },
  {
   "cell_type": "markdown",
   "metadata": {},
   "source": [
    "## II B détermination de la durée de cuisson $\\Delta t_2$"
   ]
  },
  {
   "cell_type": "markdown",
   "metadata": {},
   "source": [
    "### II B 1 (fonction de la pique)"
   ]
  },
  {
   "cell_type": "markdown",
   "metadata": {},
   "source": [
    "Je ne comprends pas bien les explications sur la pique. Le raisonnement pourrait être qu'on perce les coquilles pour permettre aux oeufs de cuire le plus lentement possible dans le but de perdre le moins d'eau possible. \n",
    "\n",
    "Ou alors de permettre à la vapeur d'eau d'aller au plus proche de l'intérieur de la coquille (on fait des trous après avoir mis les oeufs dans le récipient).\n",
    "\n",
    "Ou alors d'éviter que les oeufs explosent à cause de la surpression d'air chauffé à l'intérieur ? "
   ]
  },
  {
   "cell_type": "markdown",
   "metadata": {},
   "source": [
    "### II B 2 (équation de la chaleur pour l'oeuf sphérique)"
   ]
  },
  {
   "cell_type": "markdown",
   "metadata": {},
   "source": [
    "Hypothèses : l'oeuf est sphérique de rayon $r_2$, entièrement constitué d'eau. "
   ]
  },
  {
   "cell_type": "markdown",
   "metadata": {},
   "source": [
    "**(a) bilan énergétique sur une couche sphérique**"
   ]
  },
  {
   "cell_type": "markdown",
   "metadata": {},
   "source": [
    "Volume d'une couche sphérique de rayon $r$ et d'épaisseur $dr$ (développement limité) : \n",
    "\n",
    "$$\n",
    "V \\approx 4 \\pi r^2 dr\n",
    "$$\n",
    "\n",
    "La variation d'énergie interne dans la couche pendant un instant $dt$ est \n",
    "\n",
    "$$\n",
    "\\Delta e|_t^{t+dt} = \\mu V c \\frac{ \\partial T }{ \\partial t } dt\n",
    "$$\n",
    "\n",
    "Cette variation d'énergie interne vient de la chaleur qui a été transférée par conduction entre les deux couches au-dessus et en dessous. On peut donc écrire ceci, en notant $j(r, t) \\vec{e}_r$ le vecteur flux surfacique de chaleur :\n",
    "\n",
    "$$\n",
    "\\Delta e|_t^{t+dt} = -\\frac{\\partial}{\\partial r}\\left ( 4 \\pi r^2 j(r, t) \\right ) dr dt\n",
    "$$\n",
    "\n",
    "\n",
    "**Note :** on a fait l'hypothèse que le champ de température ne dépendait que de $r$, mais des angles sphériques, dans la mesure où on considère que la chaleur diffuse de l'extérieur vers l'intérieur de l'oeuf de manière isotrope.\n",
    "\n",
    "En égalisant les deux termes et en simplifiant, on obtient :\n",
    "\n",
    "$$\n",
    "\\mu r^2 c \\frac{ \\partial T }{ \\partial t } = - \\frac{\\partial r^2 j(r, t)}{\\partial r}\n",
    "$$\n",
    "\n",
    "En introduisant le loi de Fourier $j_{th}(r,t) = - \\lambda \\partial T(r, t) / \\partial r$, on obtient \n",
    "\n",
    "$$\n",
    "\\mu r^2 c \\frac{ \\partial T }{ \\partial t } = \\lambda \\frac{\\partial}{\\partial r} \\left ( r^2 \\frac{\\partial T}{\\partial r} \\right )\n",
    "$$"
   ]
  },
  {
   "cell_type": "markdown",
   "metadata": {},
   "source": [
    "**(b) introduction de variables réduites**"
   ]
  },
  {
   "cell_type": "markdown",
   "metadata": {},
   "source": [
    "En introduisant les variables réduites $\\rho= r / r_2$ et $\\tau = t / \\theta$ l'équation précédente devient : \n",
    "\n",
    "$$\n",
    "\\frac{r_2^2 \\mu c }{\\lambda \\theta} \\frac{\\partial T}{\\partial \\tau} = \\frac{1}{\\rho^2} \\frac{\\partial}{\\partial \\rho} \\left ( \\rho^2 \\frac{ \\partial T }{ \\partial \\rho }\\right )\n",
    "$$"
   ]
  },
  {
   "cell_type": "markdown",
   "metadata": {},
   "source": [
    "On en déduit\n",
    "\n",
    "$$\n",
    "\\theta = \\frac{ r_2^2 \\mu c }{\\lambda }\n",
    "$$\n",
    "\n",
    "ce qui nous permet d'obtenir la forme voulue par l'énoncé de l'équation de la chaleur\n",
    "\n",
    "\n",
    "$$\n",
    " \\frac{\\partial T}{\\partial \\tau} = \\frac{1}{\\rho^2} \\frac{\\partial}{\\partial \\rho} \\left ( \\rho^2 \\frac{ \\partial T }{ \\partial \\rho }\\right )\n",
    "$$"
   ]
  },
  {
   "cell_type": "markdown",
   "metadata": {},
   "source": [
    "Commentaire sur la dépendance en $r^2$ de $\\theta$ : on retrouve le fait que la diffusion thermique ralentit de plus en plus au fur et à mesure de la distance parcourue (je pense à $t = L^2 / (4 D)$, dont la formule ci-dessus est l'analogue). Si on le dit à l'envers : le fait d'avoir un temps de diffusion proportionnel à la distance au carré montre que la longueur diffusée croît en racine de t, ce qui est l'une des solutions classiques de l'équation de la chaleur."
   ]
  },
  {
   "cell_type": "markdown",
   "metadata": {},
   "source": [
    "### II B 3 (résolution de l'équation de la chaleur avec dépendance en temps)"
   ]
  },
  {
   "cell_type": "markdown",
   "metadata": {},
   "source": [
    "**(a) partie temporelle**"
   ]
  },
  {
   "cell_type": "markdown",
   "metadata": {},
   "source": [
    "En injectant la forme de solution à variables séparées dans l'équation de la chaleur, on obtient :\n",
    "\n",
    "$$\n",
    "\\frac{g'}{g} = \\frac{1}{f} (\\frac{2}{\\rho} f' + f'')\n",
    "$$"
   ]
  },
  {
   "cell_type": "markdown",
   "metadata": {},
   "source": [
    "Le terme de gauche ne dépend que du temps $\\tau$ alors que le terme de droite ne dépend que de l'espace $\\rho$. On peut donc dire que c'est une constante. \n",
    "\n",
    "Concernant la partie temporelle, si la constante est positive, alors on a une solution en exponentielle croissante. Etant donné que ce n'est pas physique, la constante doit être négative. Et donc on peut écrire :\n",
    "\n",
    "$$\n",
    "\\frac{1}{g(\\tau)} \\frac{d g(\\tau)}{d\\tau} = - A^2,\n",
    "$$\n",
    "\n",
    "avec $A > 0$."
   ]
  },
  {
   "cell_type": "markdown",
   "metadata": {},
   "source": [
    "On en déduit que $g(\\tau)$ s'écrit \n",
    "\n",
    "$$\n",
    "g(\\tau) = C_\\tau \\exp(-A^2 \\tau)\n",
    "$$"
   ]
  },
  {
   "cell_type": "markdown",
   "metadata": {},
   "source": [
    "**(b) partie spatiale**"
   ]
  },
  {
   "cell_type": "markdown",
   "metadata": {},
   "source": [
    "Après avoir remplacé $f(\\rho) = \\frac{F(\\rho)}{\\rho}$ dans l'équation différentielle, on obtient :\n",
    "\n",
    "$$\n",
    "\\frac{ d^2 F(\\rho) }{ d^2 \\rho } + A^2 F(\\rho) = 0\n",
    "$$\n"
   ]
  },
  {
   "cell_type": "markdown",
   "metadata": {},
   "source": [
    "C'est une équation différentielle linéaire à coefficients réels constants d'ordre 2 mais que l'on connaît bien : l'équation de l'oscillateur harmonique.\n",
    "\n",
    "(pour le cas général voir https://fr.wikipedia.org/wiki/%C3%89quation_diff%C3%A9rentielle_lin%C3%A9aire_d'ordre_deux#Cas_r%C3%A9el)\n",
    "\n",
    "La solution s'écrit \n",
    "\n",
    "$$\n",
    "F(\\rho)=C_1\\cos(A\\rho)+C_2\\sin(A\\rho)\n",
    "$$\n",
    "\n",
    "On en déduit \n",
    "\n",
    "\n",
    "$$\n",
    "f(\\rho) = \\frac{F(\\rho)}{\\rho} = C_1 / \\rho \\cos(A\\rho)+C_2 / \\rho \\sin(A\\rho)\n",
    "$$"
   ]
  },
  {
   "cell_type": "markdown",
   "metadata": {},
   "source": [
    "On peut noter que l'on cherche une solution valable pour $\\rho$ entre 0 et 1. \n",
    "\n",
    "Etant donné que \n",
    "\n",
    "$$\\lim_{\\rho\\rightarrow 0} \\frac{ \\cos(A \\rho)} { \\rho }=  +\\infty,$$\n",
    "\n",
    "on en déduit que $C_1 = 0$."
   ]
  },
  {
   "cell_type": "markdown",
   "metadata": {},
   "source": [
    "**(c) solution générale**"
   ]
  },
  {
   "cell_type": "markdown",
   "metadata": {},
   "source": [
    "Finalement, on obtient la solution générale $T(\\rho, \\tau) = T_{eb} + f(\\rho) g(\\tau)$ :\n",
    "\n",
    "$$\n",
    "T(\\rho, \\tau) = T_{eb} + \\frac{C_2 }{\\rho}  \\sin(A\\rho) C_\\tau \\exp(-A^2 \\tau)\n",
    "$$\n",
    "\n",
    "ou encore \n",
    "$$\n",
    "T(\\rho, \\tau) = T_{eb} + \\frac{C_2' }{\\rho}  \\sin(A\\rho) \\exp(-A^2 \\tau)\n",
    "$$\n",
    "\n",
    "Cette solution est valable pour n'importe quelle valeur de $A$ strictement positive. On en déduit, par le théorème de superposition que les solutions de la forme suivante sont valables :\n",
    "$$\n",
    "T(\\rho, \\tau) = T_{eb} +  \\sum_i \\frac{\\beta_i \\sin(A_i\\rho)}{\\rho}   \\exp(-A_i^2 \\tau).\n",
    "$$\n"
   ]
  },
  {
   "cell_type": "markdown",
   "metadata": {},
   "source": [
    "On devrait logiquement obtenir les bons coefficients $\\beta_i$ en utilisant les conditions aux limites et initiales.\n",
    "\n",
    "Ce sont : \n",
    "\n",
    "- $T(\\rho, 0) = T_0$ car l'oeuf démarre à température ambiante qui à ce moment là est la température $T_0$ dans la cloche (on suppose que jusque là il n'y a pas eu de vapeur produite et donc pas de transfert de chaleur).\n",
    "- $y(T, T', T'')(1, \\tau) = 0$ la condition aux limites sur le bord externe pour la cuisson de l'oeuf "
   ]
  },
  {
   "cell_type": "markdown",
   "metadata": {},
   "source": [
    "### II B 4 (détermination des constantes dans l'approximation de Fourier)"
   ]
  },
  {
   "cell_type": "markdown",
   "metadata": {},
   "source": [
    "Dans l'approximation de Fourier, on ne garde qu'une seule \"harmonique\" de la solution complète, celle avec le plus petit $A$ (et qui décroît donc le moins vite).\n",
    "\n",
    "$$\n",
    "T(\\rho, \\tau) \\approx T_{eb} + \\frac{\\beta \\sin(A\\rho)}{\\rho}   \\exp(-A^2 \\tau)\n",
    "$$"
   ]
  },
  {
   "cell_type": "markdown",
   "metadata": {},
   "source": [
    "**(a) flux entrant**"
   ]
  },
  {
   "cell_type": "markdown",
   "metadata": {},
   "source": [
    "Le flux de chaleur à la surface de l'oeuf est égal à \n",
    "\n",
    "$$\n",
    "\\vec{j}_{th} \\cdot \\vec{u}_r = h \\left( T\\left(\\rho=1, \\tau\\right) - T_{eb} \\right) = h\\beta \\sin{A} \\exp(-A^2\\tau)\n",
    "$$"
   ]
  },
  {
   "cell_type": "markdown",
   "metadata": {},
   "source": [
    "Or, on peut aussi calculer ce flux de chaleur grâce à la loi de Fourier $j_{th}(r,t) = - \\lambda \\partial T(r, t) / \\partial r$"
   ]
  },
  {
   "cell_type": "markdown",
   "metadata": {},
   "source": [
    "Autrement dit, en utilisant la solution approchée du champ de température on peut évaluer cette expression et trouver \n",
    "\n",
    "$$\n",
    "\\delta Q / \\delta t = - \\lambda \\partial T(r, t) / \\partial r = - \\lambda \\frac{\\partial T(\\rho = 1, \\tau)} { \\partial \\rho} \\frac{\\partial \\rho}{\\partial r} = -\\frac{\\lambda \\beta \\exp(-A^2 \\tau)}{r_2} \\left ( A \\cos{A} - \\sin{A}\\right )\n",
    "$$"
   ]
  },
  {
   "cell_type": "markdown",
   "metadata": {},
   "source": [
    "En égalisant ces deux expressions, on obtient bien l'expression demandée :\n",
    "\n",
    "$$\n",
    "\\tan{A} = \\frac{A}{1 - \\frac{r_2 h}{\\lambda}}\n",
    "$$"
   ]
  },
  {
   "cell_type": "markdown",
   "metadata": {},
   "source": [
    "On peut traçer cette \"relation de dispersion\" qui fixe les valeurs possibles de A."
   ]
  },
  {
   "cell_type": "code",
   "execution_count": 2,
   "metadata": {},
   "outputs": [],
   "source": [
    "import numpy as np\n",
    "import matplotlib.pyplot as plt\n",
    "plt.style.use('bmh')\n",
    "%matplotlib inline\n",
    "\n",
    "from ipywidgets import interact"
   ]
  },
  {
   "cell_type": "code",
   "execution_count": 3,
   "metadata": {},
   "outputs": [
    {
     "data": {
      "application/vnd.jupyter.widget-view+json": {
       "model_id": "d24465de515b426c9d2da696b533d12c",
       "version_major": 2,
       "version_minor": 0
      },
      "text/plain": [
       "interactive(children=(FloatSlider(value=0.025, description='r2', max=0.05, min=0.001, step=0.001), IntSlider(v…"
      ]
     },
     "metadata": {},
     "output_type": "display_data"
    }
   ],
   "source": [
    "@interact(r2=(0.001, 0.05, 0.001), h=(0, 2400, 100), lambd=(0.01, 1.2, 0.01))\n",
    "def surface_relation(r2=0.025, h=1200, lambd=0.6):\n",
    "    A = np.linspace(0, 10, num=500)\n",
    "    fig, ax = plt.subplots()\n",
    "    ax.plot(A, np.tan(A) - A / (1 - r2 * h / lambd), label=r'$\\tan{A} - \\frac{A}{1 - \\frac{r_2 h}{\\lambda}}$')\n",
    "    ax.plot(A, A / (1 - r2 * h / lambd), label=r'$\\frac{A}{1 - \\frac{r_2 h}{\\lambda}}$')\n",
    "    ax.plot(A, np.zeros_like(A))\n",
    "    ax.set_ylim(-2, 2)\n",
    "    ax.vlines(np.pi, -10, 10, label='approx. solution')\n",
    "    ax.set_xlabel('$A$')\n",
    "    ax.legend()"
   ]
  },
  {
   "cell_type": "code",
   "execution_count": 4,
   "metadata": {},
   "outputs": [
    {
     "data": {
      "image/png": "[encoded data removed]",
      "text/plain": [
       "<Figure size 432x288 with 1 Axes>"
      ]
     },
     "metadata": {
      "needs_background": "light"
     },
     "output_type": "display_data"
    }
   ],
   "source": [
    "surface_relation()"
   ]
  },
  {
   "cell_type": "markdown",
   "metadata": {},
   "source": [
    "**(b) solution approchée**"
   ]
  },
  {
   "cell_type": "markdown",
   "metadata": {},
   "source": [
    "Si $r_2 = 0.025 m$ alors on cherche une solution de $\\tan A \\approx 0^-$ car la partie droite vaut alors : "
   ]
  },
  {
   "cell_type": "code",
   "execution_count": 5,
   "metadata": {},
   "outputs": [
    {
     "data": {
      "text/plain": [
       "-0.02040816326530612"
      ]
     },
     "execution_count": 5,
     "metadata": {},
     "output_type": "execute_result"
    }
   ],
   "source": [
    "1/ (1 - 0.025 * 1200 / 0.6)"
   ]
  },
  {
   "cell_type": "markdown",
   "metadata": {},
   "source": [
    "Dans ce cas-là on peut donc prendre $A\\approx \\pi$. L'erreur commise s'obtient en posant $A = \\pi + \\varepsilon$ et en faisant un développement limité autour de $\\pi$:\n",
    "\n",
    "\n",
    "\n",
    "$$\n",
    "\\tan(x) \\approx (x - π) + 1/3 (x - π)^3 + 2/15 (x - π)^5 + O((x - π)^7)\n",
    "$$\n",
    "\n",
    "Autrement dit $\\tan A \\approx \\varepsilon$.\n",
    "\n",
    "Si on égalise avec l'autre côté de l'équation, on obtient finalement :\n",
    "\n",
    "$$\n",
    "\\varepsilon = \\frac{\\pi}{- r_2 h / \\lambda}\n",
    "$$"
   ]
  },
  {
   "cell_type": "markdown",
   "metadata": {},
   "source": [
    "Numériquement, "
   ]
  },
  {
   "cell_type": "code",
   "execution_count": 6,
   "metadata": {},
   "outputs": [
    {
     "name": "stdout",
     "output_type": "stream",
     "text": [
      "erreur: -0.06283185307179587, erreur relative 2.0 %\n"
     ]
    }
   ],
   "source": [
    "eps = np.pi / (-0.025 * 1200 / 0.6)\n",
    "print(f\"erreur: {eps}, erreur relative {abs(eps / np.pi) * 100:.1f} %\")"
   ]
  },
  {
   "cell_type": "markdown",
   "metadata": {},
   "source": [
    "Ce qui est petit ! J'en conclus que l'approximation est valide (c'est d'ailleurs aussi ce qu'on observe graphiquement)."
   ]
  },
  {
   "cell_type": "markdown",
   "metadata": {},
   "source": [
    "**(c) solution en surface**"
   ]
  },
  {
   "cell_type": "markdown",
   "metadata": {},
   "source": [
    "On obtient à ce stade la solution suivante : "
   ]
  },
  {
   "cell_type": "markdown",
   "metadata": {},
   "source": [
    "$$\n",
    "T(\\rho, \\tau) \\approx T_{eb} + \\frac{\\beta \\sin(\\pi \\rho)}{\\rho}   \\exp(-\\pi^2 \\tau)\n",
    "$$\n",
    "\n",
    "On en déduit $T(\\rho=1, \\tau) = T_{eb}, \\forall \\tau$. \n",
    "\n",
    "Ce résultat est un peu paradoxal, car cela veut dire qu'il n'y a pas de montée en température à partir de $T_0$ à la surface. Il s'explique par le fait que l'on a fait une approximation sur $A$. Si $A$ n'avait pas été pris égal à $\\pi$, on aurait pu avoir une température différente de la température d'ébullition à la paroi en choisissant bien $\\beta$."
   ]
  },
  {
   "cell_type": "markdown",
   "metadata": {},
   "source": [
    "On peut proposer (avec l'indice du sujet) que cela revient à faire tendre $r_2$ vers $+\\infty$. Dans ce cas, on aurait :\n",
    "\n",
    "$$\n",
    "\\frac{\\sin(\\pi r / r_2)}{r / r_2} \\underset{r_2 \\rightarrow + \\infty}{\\rightarrow} \\pi\n",
    "$$\n",
    "\n",
    "Et ainsi la température s'écrirait (dans le cas où $r_2$ tend vers l'infini) :\n",
    "\n",
    "$$\n",
    "T(\\rho, \\tau) = T_{eb} + \\beta \\pi   \\exp(-\\pi^2 \\tau)\n",
    "$$"
   ]
  },
  {
   "cell_type": "markdown",
   "metadata": {},
   "source": [
    "**(d) solution au centre**"
   ]
  },
  {
   "cell_type": "markdown",
   "metadata": {},
   "source": [
    "Dans la même hypothèse, la température est homogène dans le solide à chaque instant. On peut donc exprimer la température à $\\tau=0$ comme :\n",
    "\n",
    "$$\n",
    "T(\\rho, \\tau=0)= T_0 = T_{eb} + \\beta \\pi\n",
    "$$\n",
    "\n",
    "On en déduit \n",
    "\n",
    "$$\n",
    "\\beta = \\frac{T_0 - T_{eb}}{\\pi}\n",
    "$$"
   ]
  },
  {
   "cell_type": "markdown",
   "metadata": {},
   "source": [
    "Et la température au centre s'écrit donc \n",
    "\n",
    "$$\n",
    "T(\\rho = 0, \\tau) = T_{eb} + (T_0 - T_{eb})  \\exp(- \\pi^2 \\tau)\n",
    "$$"
   ]
  },
  {
   "cell_type": "markdown",
   "metadata": {},
   "source": [
    "On peut représenter ceci :"
   ]
  },
  {
   "cell_type": "code",
   "execution_count": 7,
   "metadata": {},
   "outputs": [
    {
     "data": {
      "text/plain": [
       "Text(0, 0.5, '$T(\\\\rho=0)$')"
      ]
     },
     "execution_count": 7,
     "metadata": {},
     "output_type": "execute_result"
    },
    {
     "data": {
      "image/png": "[encoded data removed]",
      "text/plain": [
       "<Figure size 432x288 with 1 Axes>"
      ]
     },
     "metadata": {
      "needs_background": "light"
     },
     "output_type": "display_data"
    }
   ],
   "source": [
    "taus = np.linspace(0, 1, num=200)\n",
    "T_rho_0 = T_eb + (T_0 - T_eb) * np.exp(-np.pi**2 * taus)\n",
    "\n",
    "fig, ax = plt.subplots()\n",
    "ax.plot(taus, T_rho_0)\n",
    "ax.set_xlabel(r'$\\tau$')\n",
    "ax.set_ylabel(r'$T(\\rho=0)$')"
   ]
  },
  {
   "cell_type": "markdown",
   "metadata": {},
   "source": [
    "### II B 5 (calcul de la durée de cuisson $\\Delta t_2$ pour un oeuf dur)"
   ]
  },
  {
   "cell_type": "markdown",
   "metadata": {},
   "source": [
    "On peut définir le temps de cuisson $\\Delta t_2$ comme le temps où on attend la température $T_c$ au centre.\n",
    "\n",
    "$$\n",
    "T(0, \\tau_c) = T_c \\Leftrightarrow \\tau_c = \\frac{-1}{\\pi^2} \\ln \\frac{T_c - T_{eb}}{T_0 - T_{eb}} = \\Delta t_2 / \\theta\n",
    "$$\n",
    "\n",
    "D'où \n",
    "$$\n",
    " \\Delta t_2 = -\\frac{\\theta }{\\pi^2} \\ln \\frac{T_c - T_{eb}}{T_0 - T_{eb}} \n",
    "$$"
   ]
  },
  {
   "cell_type": "markdown",
   "metadata": {},
   "source": [
    "Application numérique :"
   ]
  },
  {
   "cell_type": "code",
   "execution_count": 8,
   "metadata": {},
   "outputs": [
    {
     "data": {
      "text/plain": [
       "4354.166666666668"
      ]
     },
     "execution_count": 8,
     "metadata": {},
     "output_type": "execute_result"
    }
   ],
   "source": [
    "r2 = 0.025 # m\n",
    "mu = 1000 # kg / m^3\n",
    "c = 4180. # J / kg / K \n",
    "lambd = 0.6 # W / m / K\n",
    "theta = r2**2 * mu * c / lambd\n",
    "\n",
    "theta"
   ]
  },
  {
   "cell_type": "code",
   "execution_count": 9,
   "metadata": {},
   "outputs": [
    {
     "data": {
      "text/plain": [
       "611.5905412287802"
      ]
     },
     "execution_count": 9,
     "metadata": {},
     "output_type": "execute_result"
    }
   ],
   "source": [
    "T_Kelvin = 273.15\n",
    "\n",
    "T_c = 80 + T_Kelvin\n",
    "T_0 = 20 + T_Kelvin\n",
    "T_eb = 100 + T_Kelvin\n",
    "\n",
    "delta_t2 = - theta / np.pi ** 2 * np.log((T_c - T_eb) / (T_0 - T_eb))\n",
    "\n",
    "delta_t2"
   ]
  },
  {
   "cell_type": "markdown",
   "metadata": {},
   "source": [
    "On peut convertir en minutes :"
   ]
  },
  {
   "cell_type": "code",
   "execution_count": 10,
   "metadata": {},
   "outputs": [
    {
     "name": "stdout",
     "output_type": "stream",
     "text": [
      "delta_t2: 10.2 minutes\n"
     ]
    }
   ],
   "source": [
    "print(f\"delta_t2: {delta_t2/60:.1f} minutes\")"
   ]
  },
  {
   "cell_type": "markdown",
   "metadata": {},
   "source": [
    "10 minutes pour cuire un oeuf, cela me semble raisonnable."
   ]
  },
  {
   "cell_type": "code",
   "execution_count": 11,
   "metadata": {},
   "outputs": [
    {
     "data": {
      "image/png": "[encoded data removed]",
      "text/plain": [
       "<Figure size 432x288 with 2 Axes>"
      ]
     },
     "metadata": {
      "needs_background": "light"
     },
     "output_type": "display_data"
    }
   ],
   "source": [
    "taus = np.linspace(0, 1, num=200)\n",
    "T_rho_0 = T_eb + (T_0 - T_eb) * np.exp(-np.pi**2 * taus) - T_Kelvin\n",
    "\n",
    "fig, (ax1, ax2) = plt.subplots(nrows=2)\n",
    "ax1.plot(taus, T_rho_0)\n",
    "ax1.set_xlabel(r'$\\tau$')\n",
    "ax1.set_ylabel(r'$T(\\rho=0)$')\n",
    "ax1.vlines(delta_t2 / theta, T_0 - T_Kelvin, T_eb - T_Kelvin)\n",
    "\n",
    "ax2.plot(taus * theta / 60, T_rho_0)\n",
    "ax2.set_xlabel(r'$t \\, (min.)$')\n",
    "ax2.set_ylabel(r'$T(\\rho=0)$')\n",
    "ax2.vlines(delta_t2 / 60, T_0 - T_Kelvin, T_eb - T_Kelvin)\n",
    "\n",
    "plt.tight_layout()"
   ]
  }
 ],
 "metadata": {
  "kernelspec": {
   "display_name": "Python 3",
   "language": "python",
   "name": "python3"
  },
  "language_info": {
   "codemirror_mode": {
    "name": "ipython",
    "version": 3
   },
   "file_extension": ".py",
   "mimetype": "text/x-python",
   "name": "python",
   "nbconvert_exporter": "python",
   "pygments_lexer": "ipython3",
   "version": "3.7.6"
  },
  "widgets": {
   "application/vnd.jupyter.widget-state+json": {
    "state": {
     "0ac138d709e242108e5dfb0c21a7db73": {
      "model_module": "@jupyter-widgets/controls",
      "model_module_version": "1.5.0",
      "model_name": "SliderStyleModel",
      "state": {
       "description_width": ""
      }
     },
     "0b34f6d89d514e8e8143090a1da0e0e4": {
      "model_module": "@jupyter-widgets/output",
      "model_module_version": "1.0.0",
      "model_name": "OutputModel",
      "state": {
       "layout": "IPY_MODEL_5857b8a2442c4d09814177181d5bac65",
       "outputs": [
        {
         "data": {
          "image/png": "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\n",
          "text/plain": "<Figure size 432x288 with 1 Axes>"
         },
         "metadata": {
          "needs_background": "light"
         },
         "output_type": "display_data"
        }
       ]
      }
     },
     "1c22eeeb6a12463c82dba8584f216734": {
      "model_module": "@jupyter-widgets/controls",
      "model_module_version": "1.5.0",
      "model_name": "IntSliderModel",
      "state": {
       "description": "h",
       "layout": "IPY_MODEL_245489d2f296459abcc0bb542c765ad5",
       "max": 2400,
       "step": 100,
       "style": "IPY_MODEL_0ac138d709e242108e5dfb0c21a7db73",
       "value": 1200
      }
     },
     "245489d2f296459abcc0bb542c765ad5": {
      "model_module": "@jupyter-widgets/base",
      "model_module_version": "1.2.0",
      "model_name": "LayoutModel",
      "state": {}
     },
     "5857b8a2442c4d09814177181d5bac65": {
      "model_module": "@jupyter-widgets/base",
      "model_module_version": "1.2.0",
      "model_name": "LayoutModel",
      "state": {}
     },
     "6751e6988c904e8a96647becd4ffcb0e": {
      "model_module": "@jupyter-widgets/base",
      "model_module_version": "1.2.0",
      "model_name": "LayoutModel",
      "state": {}
     },
     "7b710f0f41a04ae083ab7c82ca05d7d7": {
      "model_module": "@jupyter-widgets/controls",
      "model_module_version": "1.5.0",
      "model_name": "SliderStyleModel",
      "state": {
       "description_width": ""
      }
     },
     "8f8b5c77729e4875b56d904f22eaf0f4": {
      "model_module": "@jupyter-widgets/controls",
      "model_module_version": "1.5.0",
      "model_name": "FloatSliderModel",
      "state": {
       "description": "r2",
       "layout": "IPY_MODEL_6751e6988c904e8a96647becd4ffcb0e",
       "max": 0.05,
       "min": 0.001,
       "step": 0.001,
       "style": "IPY_MODEL_7b710f0f41a04ae083ab7c82ca05d7d7",
       "value": 0.025
      }
     },
     "a8227a6b310a4b7e98ca193e3b25bc36": {
      "model_module": "@jupyter-widgets/controls",
      "model_module_version": "1.5.0",
      "model_name": "SliderStyleModel",
      "state": {
       "description_width": ""
      }
     },
     "b74f383cb455491db44f7685cc881584": {
      "model_module": "@jupyter-widgets/base",
      "model_module_version": "1.2.0",
      "model_name": "LayoutModel",
      "state": {}
     },
     "bf4c0d5fdd3e414d810c56f1aa16e75f": {
      "model_module": "@jupyter-widgets/controls",
      "model_module_version": "1.5.0",
      "model_name": "FloatSliderModel",
      "state": {
       "description": "lambd",
       "layout": "IPY_MODEL_db363f6549e644daa4c391128bf5ea51",
       "max": 1.2,
       "min": 0.01,
       "step": 0.01,
       "style": "IPY_MODEL_a8227a6b310a4b7e98ca193e3b25bc36",
       "value": 0.6
      }
     },
     "d24465de515b426c9d2da696b533d12c": {
      "model_module": "@jupyter-widgets/controls",
      "model_module_version": "1.5.0",
      "model_name": "VBoxModel",
      "state": {
       "_dom_classes": [
        "widget-interact"
       ],
       "children": [
        "IPY_MODEL_8f8b5c77729e4875b56d904f22eaf0f4",
        "IPY_MODEL_1c22eeeb6a12463c82dba8584f216734",
        "IPY_MODEL_bf4c0d5fdd3e414d810c56f1aa16e75f",
        "IPY_MODEL_0b34f6d89d514e8e8143090a1da0e0e4"
       ],
       "layout": "IPY_MODEL_b74f383cb455491db44f7685cc881584"
      }
     },
     "db363f6549e644daa4c391128bf5ea51": {
      "model_module": "@jupyter-widgets/base",
      "model_module_version": "1.2.0",
      "model_name": "LayoutModel",
      "state": {}
     }
    },
    "version_major": 2,
    "version_minor": 0
   }
  }
 },
 "nbformat": 4,
 "nbformat_minor": 4
}
