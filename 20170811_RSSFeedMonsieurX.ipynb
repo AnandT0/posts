{
 "cells": [
  {
   "cell_type": "markdown",
   "metadata": {},
   "source": [
    "Pendant les vacances d'été, j'ai pris l'habitude de réécouter des épisodes du podcast [Rendez-vous avec X](https://fr.wikipedia.org/wiki/Rendez-vous_avec_X), tous archivés sur le site d'un passionné, <http://rendezvousavecmrx.free.fr>. Le site propose une liste alphabétique des différents épisodes sur une page web. Il se trouve que je préfère utiliser une application de podcast, et que pour pouvoir relire tous ces épisodes, il me faut un flux RSS. Je propose donc dans ce billet de créer un flux RSS à partir du site que je viens de citer.\n",
    "\n",
    "**Le lien pour le gestionnaire de podcast est le suivant :** <https://raw.githubusercontent.com/flothesof/posts/master/files/podcast_mr_x.xml>"
   ]
  },
  {
   "cell_type": "markdown",
   "metadata": {},
   "source": [
    "# Un flux RSS ?"
   ]
  },
  {
   "cell_type": "markdown",
   "metadata": {},
   "source": [
    "Un flux RSS est un fichier qui permet de déclarer les épisodes d'un podcast ainsi que de diffuser les liens vers les médias (mp3). La [page wikipédia](https://fr.wikipedia.org/wiki/RSS) propose l'exemple suivant :\n",
    "\n",
    "```\n",
    "<?xml version=\"1.0\" encoding=\"UTF-8\"?>\n",
    "<rss version=\"2.0\">\n",
    "    <channel>\n",
    "        <title>Mon site</title>\n",
    "        <description>Ceci est un exemple de flux RSS 2.0</description>\n",
    "        <lastBuildDate>Sat, 07 Sep 2002 00:00:01 GMT</lastBuildDate>\n",
    "        <link>http://www.example.org</link>\n",
    "        <item>\n",
    "            <title>Actualité N°1</title>\n",
    "            <description>Ceci est ma première actualité</description>\n",
    "            <pubDate>Sat, 07 Sep 2002 00:00:01 GMT</pubDate>\n",
    "            <link>http://www.example.org/actu1</link>\n",
    "        </item>\n",
    "        <item>\n",
    "            <title>Actualité N°2</title>\n",
    "            <description>Ceci est ma seconde actualité</description>\n",
    "            <pubDate>Sat, 07 Sep 2002 00:00:01 GMT</pubDate>\n",
    "            <link>http://www.example.org/actu2</link>\n",
    "        </item>\n",
    "    </channel>\n",
    "</rss>\n",
    "```"
   ]
  },
  {
   "cell_type": "markdown",
   "metadata": {},
   "source": [
    "Pour écrire un fichier RSS, nous allons donc tout d'abord récupérer les épisodes disponibles sur le site <http://rendezvousavecmrx.free.fr>."
   ]
  },
  {
   "cell_type": "markdown",
   "metadata": {},
   "source": [
    "# Téléchargement des liens vers les épisodes"
   ]
  },
  {
   "cell_type": "markdown",
   "metadata": {},
   "source": [
    "Nous allons partir de la page qui recense tous les épisodes par liste alphabétique : <http://rendezvousavecmrx.free.fr/page/liste.php>. Nous allons utiliser BeautifulSoup pour ceci."
   ]
  },
  {
   "cell_type": "code",
   "execution_count": 1,
   "metadata": {},
   "outputs": [],
   "source": [
    "from bs4 import BeautifulSoup"
   ]
  },
  {
   "cell_type": "code",
   "execution_count": 2,
   "metadata": {},
   "outputs": [],
   "source": [
    "import requests"
   ]
  },
  {
   "cell_type": "markdown",
   "metadata": {},
   "source": [
    "Dans un premier temps, nous téléchargeons la page :"
   ]
  },
  {
   "cell_type": "code",
   "execution_count": 3,
   "metadata": {},
   "outputs": [],
   "source": [
    "r = requests.get('http://rendezvousavecmrx.free.fr/page/liste.php')\n",
    "r.encoding = 'utf-8'"
   ]
  },
  {
   "cell_type": "code",
   "execution_count": 4,
   "metadata": {},
   "outputs": [],
   "source": [
    "soup = BeautifulSoup(r.text, 'html.parser')"
   ]
  },
  {
   "cell_type": "markdown",
   "metadata": {},
   "source": [
    "Puis nous en extrayons les lignes qui contiennent chacun une émission :"
   ]
  },
  {
   "cell_type": "code",
   "execution_count": 5,
   "metadata": {},
   "outputs": [],
   "source": [
    "rows = soup.find('table').find_all('tr')"
   ]
  },
  {
   "cell_type": "markdown",
   "metadata": {},
   "source": [
    "Enfin, nous extrayons de chaque ligne l'adresse vers la page dédiée :"
   ]
  },
  {
   "cell_type": "code",
   "execution_count": 6,
   "metadata": {},
   "outputs": [],
   "source": [
    "links = ['http://rendezvousavecmrx.free.fr/page/' + row.find_all('td')[1].find('a').attrs['href'] for row in rows]"
   ]
  },
  {
   "cell_type": "markdown",
   "metadata": {},
   "source": [
    "Combien d'émissions trouvons nous ? "
   ]
  },
  {
   "cell_type": "code",
   "execution_count": 7,
   "metadata": {},
   "outputs": [
    {
     "data": {
      "text/plain": [
       "769"
      ]
     },
     "execution_count": 7,
     "metadata": {},
     "output_type": "execute_result"
    }
   ],
   "source": [
    "len(links)"
   ]
  },
  {
   "cell_type": "markdown",
   "metadata": {},
   "source": [
    "# Extraction des propriétés de chaque épisode"
   ]
  },
  {
   "cell_type": "markdown",
   "metadata": {},
   "source": [
    "A partir de ces liens individuels, nous pouvons télécharger chacune des pages et en extraire les informations que nous cherchons. Prenons pour exemple le premier lien de la liste."
   ]
  },
  {
   "cell_type": "code",
   "execution_count": 8,
   "metadata": {},
   "outputs": [
    {
     "data": {
      "text/plain": [
       "'http://rendezvousavecmrx.free.fr/page/detail_emission.php?cle_emission=411'"
      ]
     },
     "execution_count": 8,
     "metadata": {},
     "output_type": "execute_result"
    }
   ],
   "source": [
    "link = links[6]\n",
    "link"
   ]
  },
  {
   "cell_type": "markdown",
   "metadata": {},
   "source": [
    "On télécharge la page :"
   ]
  },
  {
   "cell_type": "code",
   "execution_count": 9,
   "metadata": {},
   "outputs": [],
   "source": [
    "r = requests.get(link)\n",
    "r.encoding = 'utf-8'"
   ]
  },
  {
   "cell_type": "code",
   "execution_count": 10,
   "metadata": {},
   "outputs": [],
   "source": [
    "soup = BeautifulSoup(r.text, 'html.parser')"
   ]
  },
  {
   "cell_type": "code",
   "execution_count": 11,
   "metadata": {},
   "outputs": [],
   "source": [
    "centre = soup.find(id='centre')"
   ]
  },
  {
   "cell_type": "markdown",
   "metadata": {},
   "source": [
    "On en extrait la date de l'émission :"
   ]
  },
  {
   "cell_type": "code",
   "execution_count": 12,
   "metadata": {},
   "outputs": [
    {
     "data": {
      "text/plain": [
       "['07 juillet 2007', '06 janvier 2007']"
      ]
     },
     "execution_count": 12,
     "metadata": {},
     "output_type": "execute_result"
    }
   ],
   "source": [
    "[tag.next_sibling.strip() for tag in centre.find('strong').select('br')[:-1]]"
   ]
  },
  {
   "cell_type": "markdown",
   "metadata": {},
   "source": [
    "Le lien de téléchargement : "
   ]
  },
  {
   "cell_type": "code",
   "execution_count": 13,
   "metadata": {},
   "outputs": [
    {
     "data": {
      "text/plain": [
       "'../audio/mr_x_2007_01_06.mp3'"
      ]
     },
     "execution_count": 13,
     "metadata": {},
     "output_type": "execute_result"
    }
   ],
   "source": [
    "centre.find(id='telechargement').find('a').attrs['href']"
   ]
  },
  {
   "cell_type": "code",
   "execution_count": 14,
   "metadata": {},
   "outputs": [
    {
     "data": {
      "text/plain": [
       "'http://rendezvousavecmrx.free.fr/audio/mr_x_2007_01_06.mp3'"
      ]
     },
     "execution_count": 14,
     "metadata": {},
     "output_type": "execute_result"
    }
   ],
   "source": [
    "centre.find(id='telechargement').find('a').attrs['href'].replace('..', 'http://rendezvousavecmrx.free.fr')"
   ]
  },
  {
   "cell_type": "markdown",
   "metadata": {},
   "source": [
    "Ainsi que le titre : "
   ]
  },
  {
   "cell_type": "code",
   "execution_count": 15,
   "metadata": {},
   "outputs": [
    {
     "data": {
      "text/plain": [
       "'17 octobre 1961'"
      ]
     },
     "execution_count": 15,
     "metadata": {},
     "output_type": "execute_result"
    }
   ],
   "source": [
    "centre.find(id='titre').text.strip()"
   ]
  },
  {
   "cell_type": "markdown",
   "metadata": {},
   "source": [
    "Et la description :"
   ]
  },
  {
   "cell_type": "code",
   "execution_count": 16,
   "metadata": {},
   "outputs": [
    {
     "data": {
      "text/plain": [
       "\"Il s'agit de l'une des pages les plus noires de notre histoire contemporaine : la répression de la manifestation algérienne du 17 octobre 1961. Ce jour-là, ou plutôt cette nuit-là, les forces de l'ordre, policiers, gendarmes, CRS confondus ont fait preuve d'une violence inouïe, rarement vue sur le territoire français. Un véritable déchaînement au coeur de Paris qui a sans doute fait au moins 200 morts parmi les manifestants. Et pendant plusieurs jours on repêchera régulièrement des cadavres dans la Seine.Pourtant, ces événements sanglants passeront presque inaperçus. Il est clair que la France n'a pas voulu voir. Et d'abord parce que les victimes étaient des indigènes, comme on disait à l'époque. C'est à dire des Français de seconde zone. Cet aveuglement sera tel que les autorités, à commencer par le préfet de police Maurice Papon, pourront longtemps prétendre que seuls trois hommes ont trouvé la mort ce 17 octobre 1961. Et encore l'un d'entre eux, un européen, n'aurait-il été victime que d'une crise cardiaque.Censure, indifférence, mensonges, amnistie précipitée se seront donc conjugués afin que ce massacre soit rejeté dans les oubliettes de l'Histoire. Et il faudra presque 30 ans et l'ouverture du procès de Maurice Papon pour crimes contre l'Humanité pour que la vérité, accablante, émerge peu à peu.Mais le plus étonnant n'est peut-être pas là. Pourquoi, alors que la paix en Algérie semblait pratiquement acquise en cette fin 1961, une manifestation pacifique a-t-elle été réprimée de façon aussi meurtrière ? Quels étaient les mobiles des uns et des autres ? Qui avait intérêt à noyer dans le sang ce sursaut de fierté des Algériens de France ?Monsieur X essaie de démêler les fils d'une affaire qui demeure une tache indélébile sur l'histoire de notre pays.\""
      ]
     },
     "execution_count": 16,
     "metadata": {},
     "output_type": "execute_result"
    }
   ],
   "source": [
    "centre.find(id='emission').text.strip()"
   ]
  },
  {
   "cell_type": "markdown",
   "metadata": {},
   "source": [
    "Nous sommes prêts à écrire une fonction qui va nous permettre de générer les données dont nous avons besoin."
   ]
  },
  {
   "cell_type": "code",
   "execution_count": 17,
   "metadata": {},
   "outputs": [],
   "source": [
    "from collections import OrderedDict"
   ]
  },
  {
   "cell_type": "code",
   "execution_count": 18,
   "metadata": {},
   "outputs": [],
   "source": [
    "def extract_props(r):\n",
    "    \"\"\"Extracts properties from request r.\"\"\"\n",
    "    soup = BeautifulSoup(r.text, 'html.parser')\n",
    "    centre = soup.find(id='centre')\n",
    "    props = OrderedDict()\n",
    "    props['date'] = [tag.next_sibling.strip() for tag in centre.find('strong').select('br')[:-1]]\n",
    "    props['titre'] = centre.find(id='titre').text.strip()\n",
    "    props['media'] = centre.find(id='telechargement').find('a').attrs['href'].replace('..', 'http://rendezvousavecmrx.free.fr')\n",
    "    props['contenu'] = centre.find(id='emission').text.strip()\n",
    "    return props"
   ]
  },
  {
   "cell_type": "markdown",
   "metadata": {},
   "source": [
    "On vérifie que la fonction donne le résultat attendu :"
   ]
  },
  {
   "cell_type": "code",
   "execution_count": 19,
   "metadata": {},
   "outputs": [
    {
     "data": {
      "text/plain": [
       "OrderedDict([('date', ['07 juillet 2007', '06 janvier 2007']),\n",
       "             ('titre', '17 octobre 1961'),\n",
       "             ('media',\n",
       "              'http://rendezvousavecmrx.free.fr/audio/mr_x_2007_01_06.mp3'),\n",
       "             ('contenu',\n",
       "              \"Il s'agit de l'une des pages les plus noires de notre histoire contemporaine : la répression de la manifestation algérienne du 17 octobre 1961. Ce jour-là, ou plutôt cette nuit-là, les forces de l'ordre, policiers, gendarmes, CRS confondus ont fait preuve d'une violence inouïe, rarement vue sur le territoire français. Un véritable déchaînement au coeur de Paris qui a sans doute fait au moins 200 morts parmi les manifestants. Et pendant plusieurs jours on repêchera régulièrement des cadavres dans la Seine.Pourtant, ces événements sanglants passeront presque inaperçus. Il est clair que la France n'a pas voulu voir. Et d'abord parce que les victimes étaient des indigènes, comme on disait à l'époque. C'est à dire des Français de seconde zone. Cet aveuglement sera tel que les autorités, à commencer par le préfet de police Maurice Papon, pourront longtemps prétendre que seuls trois hommes ont trouvé la mort ce 17 octobre 1961. Et encore l'un d'entre eux, un européen, n'aurait-il été victime que d'une crise cardiaque.Censure, indifférence, mensonges, amnistie précipitée se seront donc conjugués afin que ce massacre soit rejeté dans les oubliettes de l'Histoire. Et il faudra presque 30 ans et l'ouverture du procès de Maurice Papon pour crimes contre l'Humanité pour que la vérité, accablante, émerge peu à peu.Mais le plus étonnant n'est peut-être pas là. Pourquoi, alors que la paix en Algérie semblait pratiquement acquise en cette fin 1961, une manifestation pacifique a-t-elle été réprimée de façon aussi meurtrière ? Quels étaient les mobiles des uns et des autres ? Qui avait intérêt à noyer dans le sang ce sursaut de fierté des Algériens de France ?Monsieur X essaie de démêler les fils d'une affaire qui demeure une tache indélébile sur l'histoire de notre pays.\")])"
      ]
     },
     "execution_count": 19,
     "metadata": {},
     "output_type": "execute_result"
    }
   ],
   "source": [
    "extract_props(r)"
   ]
  },
  {
   "cell_type": "markdown",
   "metadata": {},
   "source": [
    "On peut maintenant faire une boucle sur chacune des émissions :"
   ]
  },
  {
   "cell_type": "code",
   "execution_count": 20,
   "metadata": {},
   "outputs": [],
   "source": [
    "import tqdm"
   ]
  },
  {
   "cell_type": "code",
   "execution_count": 21,
   "metadata": {},
   "outputs": [
    {
     "name": "stderr",
     "output_type": "stream",
     "text": [
      "100%|██████████| 769/769 [00:50<00:00, 15.27it/s]\n"
     ]
    }
   ],
   "source": [
    "allprops = []\n",
    "for link in tqdm.tqdm(links):\n",
    "    r = requests.get(link)\n",
    "    r.encoding = 'utf-8'\n",
    "    allprops.append(extract_props(r))"
   ]
  },
  {
   "cell_type": "markdown",
   "metadata": {},
   "source": [
    "# Construction d'une table des épisodes classée par date"
   ]
  },
  {
   "cell_type": "markdown",
   "metadata": {},
   "source": [
    "Avec les données précédentes, nous pouvons maintenant créer un grand tableau de toutes les émissions :"
   ]
  },
  {
   "cell_type": "code",
   "execution_count": 24,
   "metadata": {},
   "outputs": [],
   "source": [
    "import pandas as pd\n",
    "import dateparser"
   ]
  },
  {
   "cell_type": "code",
   "execution_count": 25,
   "metadata": {},
   "outputs": [],
   "source": [
    "df = pd.DataFrame(allprops)\n",
    "df['date'] = [items[0] for items in df['date']]\n",
    "df[df.titre == ''] = pd.np.nan\n",
    "df[df.media == 'http://rendezvousavecmrx.free.fr/audio/'] = pd.np.nan\n",
    "df = df.dropna()\n",
    "df['date'] = pd.to_datetime([dateparser.parse(date).date() for date in df.date])\n",
    "df = df.sort_values(by='date')"
   ]
  },
  {
   "cell_type": "code",
   "execution_count": 26,
   "metadata": {},
   "outputs": [
    {
     "data": {
      "text/html": [
       "<div>\n",
       "<style scoped>\n",
       "    .dataframe tbody tr th:only-of-type {\n",
       "        vertical-align: middle;\n",
       "    }\n",
       "\n",
       "    .dataframe tbody tr th {\n",
       "        vertical-align: top;\n",
       "    }\n",
       "\n",
       "    .dataframe thead th {\n",
       "        text-align: right;\n",
       "    }\n",
       "</style>\n",
       "<table border=\"1\" class=\"dataframe\">\n",
       "  <thead>\n",
       "    <tr style=\"text-align: right;\">\n",
       "      <th></th>\n",
       "      <th>date</th>\n",
       "      <th>titre</th>\n",
       "      <th>media</th>\n",
       "      <th>contenu</th>\n",
       "    </tr>\n",
       "  </thead>\n",
       "  <tbody>\n",
       "    <tr>\n",
       "      <th>312</th>\n",
       "      <td>1997-01-04</td>\n",
       "      <td>La 5ème colonne</td>\n",
       "      <td>http://rendezvousavecmrx.free.fr/audio/mr_x_19...</td>\n",
       "      <td></td>\n",
       "    </tr>\n",
       "    <tr>\n",
       "      <th>687</th>\n",
       "      <td>1997-01-11</td>\n",
       "      <td>Rennes-le-Château et l'abbé Saunières</td>\n",
       "      <td>http://rendezvousavecmrx.free.fr/audio/mr_x_19...</td>\n",
       "      <td></td>\n",
       "    </tr>\n",
       "    <tr>\n",
       "      <th>639</th>\n",
       "      <td>1997-01-18</td>\n",
       "      <td>Noël Field</td>\n",
       "      <td>http://rendezvousavecmrx.free.fr/audio/mr_x_19...</td>\n",
       "      <td></td>\n",
       "    </tr>\n",
       "    <tr>\n",
       "      <th>503</th>\n",
       "      <td>1997-01-25</td>\n",
       "      <td>Le réseau Odessa</td>\n",
       "      <td>http://rendezvousavecmrx.free.fr/audio/mr_x_19...</td>\n",
       "      <td></td>\n",
       "    </tr>\n",
       "    <tr>\n",
       "      <th>469</th>\n",
       "      <td>1997-02-01</td>\n",
       "      <td>Le masque de fer</td>\n",
       "      <td>http://rendezvousavecmrx.free.fr/audio/mr_x_19...</td>\n",
       "      <td></td>\n",
       "    </tr>\n",
       "    <tr>\n",
       "      <th>...</th>\n",
       "      <td>...</td>\n",
       "      <td>...</td>\n",
       "      <td>...</td>\n",
       "      <td>...</td>\n",
       "    </tr>\n",
       "    <tr>\n",
       "      <th>638</th>\n",
       "      <td>2015-05-23</td>\n",
       "      <td>Nkrumah et Ben Barka frères de combat (2/2)</td>\n",
       "      <td>http://rendezvousavecmrx.free.fr/audio/mr_x_20...</td>\n",
       "      <td>C'était le héros du panafricanisme et il ne rê...</td>\n",
       "    </tr>\n",
       "    <tr>\n",
       "      <th>742</th>\n",
       "      <td>2015-05-30</td>\n",
       "      <td>Ukraine : le plan de Poutine</td>\n",
       "      <td>http://rendezvousavecmrx.free.fr/audio/mr_x_20...</td>\n",
       "      <td>Novorossia ! La nouvelle Russie ! Tel est le n...</td>\n",
       "    </tr>\n",
       "    <tr>\n",
       "      <th>203</th>\n",
       "      <td>2015-06-06</td>\n",
       "      <td>Kim Jong Il fait son cinéma</td>\n",
       "      <td>http://rendezvousavecmrx.free.fr/audio/mr_x_20...</td>\n",
       "      <td>L'histoire est à peine croyable : pour vivifie...</td>\n",
       "    </tr>\n",
       "    <tr>\n",
       "      <th>74</th>\n",
       "      <td>2015-06-13</td>\n",
       "      <td>Bouaké : une affaire d'Etat</td>\n",
       "      <td>http://rendezvousavecmrx.free.fr/audio/mr_x_20...</td>\n",
       "      <td>La tragédie de Bouaké, c'était une bavure mani...</td>\n",
       "    </tr>\n",
       "    <tr>\n",
       "      <th>743</th>\n",
       "      <td>2015-06-20</td>\n",
       "      <td>Un état palestinien peut-il encore exister ?</td>\n",
       "      <td>http://rendezvousavecmrx.free.fr/audio/mr_x_20...</td>\n",
       "      <td>Un Etat palestinien existera-t-il un jour ? La...</td>\n",
       "    </tr>\n",
       "  </tbody>\n",
       "</table>\n",
       "<p>765 rows × 4 columns</p>\n",
       "</div>"
      ],
      "text/plain": [
       "          date                                         titre  \\\n",
       "312 1997-01-04                               La 5ème colonne   \n",
       "687 1997-01-11         Rennes-le-Château et l'abbé Saunières   \n",
       "639 1997-01-18                                    Noël Field   \n",
       "503 1997-01-25                              Le réseau Odessa   \n",
       "469 1997-02-01                              Le masque de fer   \n",
       "..         ...                                           ...   \n",
       "638 2015-05-23   Nkrumah et Ben Barka frères de combat (2/2)   \n",
       "742 2015-05-30                  Ukraine : le plan de Poutine   \n",
       "203 2015-06-06                   Kim Jong Il fait son cinéma   \n",
       "74  2015-06-13                   Bouaké : une affaire d'Etat   \n",
       "743 2015-06-20  Un état palestinien peut-il encore exister ?   \n",
       "\n",
       "                                                 media  \\\n",
       "312  http://rendezvousavecmrx.free.fr/audio/mr_x_19...   \n",
       "687  http://rendezvousavecmrx.free.fr/audio/mr_x_19...   \n",
       "639  http://rendezvousavecmrx.free.fr/audio/mr_x_19...   \n",
       "503  http://rendezvousavecmrx.free.fr/audio/mr_x_19...   \n",
       "469  http://rendezvousavecmrx.free.fr/audio/mr_x_19...   \n",
       "..                                                 ...   \n",
       "638  http://rendezvousavecmrx.free.fr/audio/mr_x_20...   \n",
       "742  http://rendezvousavecmrx.free.fr/audio/mr_x_20...   \n",
       "203  http://rendezvousavecmrx.free.fr/audio/mr_x_20...   \n",
       "74   http://rendezvousavecmrx.free.fr/audio/mr_x_20...   \n",
       "743  http://rendezvousavecmrx.free.fr/audio/mr_x_20...   \n",
       "\n",
       "                                               contenu  \n",
       "312                                                     \n",
       "687                                                     \n",
       "639                                                     \n",
       "503                                                     \n",
       "469                                                     \n",
       "..                                                 ...  \n",
       "638  C'était le héros du panafricanisme et il ne rê...  \n",
       "742  Novorossia ! La nouvelle Russie ! Tel est le n...  \n",
       "203  L'histoire est à peine croyable : pour vivifie...  \n",
       "74   La tragédie de Bouaké, c'était une bavure mani...  \n",
       "743  Un Etat palestinien existera-t-il un jour ? La...  \n",
       "\n",
       "[765 rows x 4 columns]"
      ]
     },
     "execution_count": 26,
     "metadata": {},
     "output_type": "execute_result"
    }
   ],
   "source": [
    "df"
   ]
  },
  {
   "cell_type": "markdown",
   "metadata": {},
   "source": [
    "Pour finir, il nous faut rajouter à chaque item de la table la longueur du fichier mp3 en bytes (voir [ici](https://stackoverflow.com/questions/14270698/get-file-size-using-python-requests-while-only-getting-the-header))."
   ]
  },
  {
   "cell_type": "code",
   "execution_count": 27,
   "metadata": {},
   "outputs": [
    {
     "name": "stderr",
     "output_type": "stream",
     "text": [
      "100%|██████████| 765/765 [00:40<00:00, 18.69it/s]\n"
     ]
    },
    {
     "data": {
      "text/html": [
       "<div>\n",
       "<style scoped>\n",
       "    .dataframe tbody tr th:only-of-type {\n",
       "        vertical-align: middle;\n",
       "    }\n",
       "\n",
       "    .dataframe tbody tr th {\n",
       "        vertical-align: top;\n",
       "    }\n",
       "\n",
       "    .dataframe thead th {\n",
       "        text-align: right;\n",
       "    }\n",
       "</style>\n",
       "<table border=\"1\" class=\"dataframe\">\n",
       "  <thead>\n",
       "    <tr style=\"text-align: right;\">\n",
       "      <th></th>\n",
       "      <th>date</th>\n",
       "      <th>titre</th>\n",
       "      <th>media</th>\n",
       "      <th>contenu</th>\n",
       "      <th>bytes</th>\n",
       "    </tr>\n",
       "  </thead>\n",
       "  <tbody>\n",
       "    <tr>\n",
       "      <th>312</th>\n",
       "      <td>1997-01-04</td>\n",
       "      <td>La 5ème colonne</td>\n",
       "      <td>http://rendezvousavecmrx.free.fr/audio/mr_x_19...</td>\n",
       "      <td></td>\n",
       "      <td>71937792</td>\n",
       "    </tr>\n",
       "    <tr>\n",
       "      <th>687</th>\n",
       "      <td>1997-01-11</td>\n",
       "      <td>Rennes-le-Château et l'abbé Saunières</td>\n",
       "      <td>http://rendezvousavecmrx.free.fr/audio/mr_x_19...</td>\n",
       "      <td></td>\n",
       "      <td>74407680</td>\n",
       "    </tr>\n",
       "    <tr>\n",
       "      <th>639</th>\n",
       "      <td>1997-01-18</td>\n",
       "      <td>Noël Field</td>\n",
       "      <td>http://rendezvousavecmrx.free.fr/audio/mr_x_19...</td>\n",
       "      <td></td>\n",
       "      <td>73890048</td>\n",
       "    </tr>\n",
       "    <tr>\n",
       "      <th>503</th>\n",
       "      <td>1997-01-25</td>\n",
       "      <td>Le réseau Odessa</td>\n",
       "      <td>http://rendezvousavecmrx.free.fr/audio/mr_x_19...</td>\n",
       "      <td></td>\n",
       "      <td>74558208</td>\n",
       "    </tr>\n",
       "    <tr>\n",
       "      <th>469</th>\n",
       "      <td>1997-02-01</td>\n",
       "      <td>Le masque de fer</td>\n",
       "      <td>http://rendezvousavecmrx.free.fr/audio/mr_x_19...</td>\n",
       "      <td></td>\n",
       "      <td>73537536</td>\n",
       "    </tr>\n",
       "  </tbody>\n",
       "</table>\n",
       "</div>"
      ],
      "text/plain": [
       "          date                                  titre  \\\n",
       "312 1997-01-04                        La 5ème colonne   \n",
       "687 1997-01-11  Rennes-le-Château et l'abbé Saunières   \n",
       "639 1997-01-18                             Noël Field   \n",
       "503 1997-01-25                       Le réseau Odessa   \n",
       "469 1997-02-01                       Le masque de fer   \n",
       "\n",
       "                                                 media contenu     bytes  \n",
       "312  http://rendezvousavecmrx.free.fr/audio/mr_x_19...          71937792  \n",
       "687  http://rendezvousavecmrx.free.fr/audio/mr_x_19...          74407680  \n",
       "639  http://rendezvousavecmrx.free.fr/audio/mr_x_19...          73890048  \n",
       "503  http://rendezvousavecmrx.free.fr/audio/mr_x_19...          74558208  \n",
       "469  http://rendezvousavecmrx.free.fr/audio/mr_x_19...          73537536  "
      ]
     },
     "execution_count": 27,
     "metadata": {},
     "output_type": "execute_result"
    }
   ],
   "source": [
    "byte_lengths = {}\n",
    "for media in tqdm.tqdm(df.media):\n",
    "    r = requests.head(media)\n",
    "    if r.status_code == 200:\n",
    "        byte_lengths[media] = r.headers['content-length']\n",
    "\n",
    "df['bytes'] = [byte_lengths[media] for media in df.media]\n",
    "\n",
    "df.head()"
   ]
  },
  {
   "cell_type": "markdown",
   "metadata": {},
   "source": [
    "# Ecriture d'un fichier RSS"
   ]
  },
  {
   "cell_type": "markdown",
   "metadata": {},
   "source": [
    "Pour écrire un fichier RSS avec Python, nous allons utiliser la libraire ElementTree. Nous suivons le schéma montré en haut du billet et ajoutons ligne par ligne les épisodes."
   ]
  },
  {
   "cell_type": "code",
   "execution_count": 29,
   "metadata": {},
   "outputs": [],
   "source": [
    "import xml.etree.cElementTree as ET\n",
    "\n",
    "rss = ET.Element(\"rss\", version=\"2.0\")\n",
    "channel = ET.SubElement(rss, \"channel\")\n",
    "title = ET.SubElement(channel, \"title\")\n",
    "title.text = 'Podcast Rendez-vous avec X'\n",
    "image = ET.SubElement(channel, \"image\")\n",
    "image_url = ET.SubElement(image, \"url\")\n",
    "image_url.text = 'https://cdn.radiofrance.fr/s3/cruiser-production/2019/10/b3ceaae4-c8dc-4b1a-870a-7f24f80bdee4/1400x1400_rf_omm_0000021551_ite.jpg'\n",
    "description = ET.SubElement(channel, \"description\")\n",
    "description.text = \"Podcast inofficiel de l'émission Rendez-vous avec X, tiré du site http://rendezvousavecmrx.free.fr/\"\n",
    "for index, row in df.iterrows():\n",
    "    item = ET.SubElement(channel, \"item\")\n",
    "    item_title = ET.SubElement(item, \"title\")\n",
    "    item_title.text = row['titre']\n",
    "    item_description = ET.SubElement(item, \"description\")\n",
    "    item_description.text = row['contenu']\n",
    "    item_pubdate = ET.SubElement(item, \"pubDate\")\n",
    "    item_pubdate.text = row.date.strftime('%a, %d %b %Y 13:15:00')\n",
    "    item_enclosure = ET.SubElement(item, \"enclosure\", url='{}'.format(row.media),\n",
    "                                   length=row.bytes,\n",
    "                                  type=\"audio/mpeg\")\n",
    "tree = ET.ElementTree(rss)\n",
    "tree.write(\"files/podcast_mr_x.xml\", encoding='utf-8')"
   ]
  },
  {
   "cell_type": "markdown",
   "metadata": {},
   "source": [
    "Et voilà le travail ! Le lien à ajouter au gestionnaire de podcast est le suivant : <https://raw.githubusercontent.com/flothesof/posts/master/files/podcast_mr_x.xml>."
   ]
  },
  {
   "cell_type": "markdown",
   "metadata": {},
   "source": [
    "*Ce billet a été écrit à l'aide d'un notebook Jupyter. Son contenu est sous licence BSD. Une vue statique de ce notebook peut être consultée et téléchargée ici : [20170811_RSSFeedMonsieurX.ipynb](http://nbviewer.ipython.org/urls/raw.github.com/flothesof/posts/master/20170811_RSSFeedMonsieurX.ipynb).*"
   ]
  }
 ],
 "metadata": {
  "kernelspec": {
   "display_name": "Python 3",
   "language": "python",
   "name": "python3"
  },
  "language_info": {
   "codemirror_mode": {
    "name": "ipython",
    "version": 3
   },
   "file_extension": ".py",
   "mimetype": "text/x-python",
   "name": "python",
   "nbconvert_exporter": "python",
   "pygments_lexer": "ipython3",
   "version": "3.7.3"
  },
  "toc": {
   "colors": {
    "hover_highlight": "#DAA520",
    "navigate_num": "#000000",
    "navigate_text": "#333333",
    "running_highlight": "#FF0000",
    "selected_highlight": "#FFD700",
    "sidebar_border": "#EEEEEE",
    "wrapper_background": "#FFFFFF"
   },
   "moveMenuLeft": true,
   "nav_menu": {
    "height": "101px",
    "width": "253px"
   },
   "navigate_menu": true,
   "number_sections": true,
   "sideBar": true,
   "threshold": 4,
   "toc_cell": false,
   "toc_section_display": "block",
   "toc_window_display": false,
   "widenNotebook": false
  }
 },
 "nbformat": 4,
 "nbformat_minor": 2
}
