{
 "cells": [
  {
   "cell_type": "markdown",
   "metadata": {},
   "source": [
    "Due to this video, I need to experiment a bit."
   ]
  },
  {
   "cell_type": "code",
   "execution_count": null,
   "metadata": {},
   "outputs": [],
   "source": [
    "from IPython.display import YouTubeVideo\n",
    "\n",
    "YouTubeVideo('spUNpyF58BY')"
   ]
  },
  {
   "cell_type": "markdown",
   "metadata": {},
   "source": [
    "Let's make a sine wave, as in the video:"
   ]
  },
  {
   "cell_type": "code",
   "execution_count": null,
   "metadata": {},
   "outputs": [],
   "source": [
    "import numpy as np\n",
    "\n",
    "def make_sine(freq):\n",
    "    \"\"\"Returns (t, amp) of sine wave with input frequency.\"\"\"\n",
    "    dt = 1/(freq*20)\n",
    "    t = 1 + np.arange(0, 4.5 + dt, dt)\n",
    "    return t, (1 + np.cos(2 * np.pi * freq * t)) / 2"
   ]
  },
  {
   "cell_type": "code",
   "execution_count": null,
   "metadata": {},
   "outputs": [],
   "source": [
    "t, amp = make_sine(3)"
   ]
  },
  {
   "cell_type": "code",
   "execution_count": null,
   "metadata": {},
   "outputs": [],
   "source": [
    "import holoviews as hv\n",
    "hv.extension('bokeh')"
   ]
  },
  {
   "cell_type": "code",
   "execution_count": null,
   "metadata": {},
   "outputs": [],
   "source": [
    "hv.Curve((t, amp), kdims='t', vdims='pressure')"
   ]
  },
  {
   "cell_type": "markdown",
   "metadata": {},
   "source": [
    "Now, let's wrap this curve up in the manner suggested by the video. Each moment in time get's mapped to an angle and then the radius of that angle is the pressure from the above graph."
   ]
  },
  {
   "cell_type": "code",
   "execution_count": null,
   "metadata": {},
   "outputs": [],
   "source": [
    "def time2angle(t, cycles_per_sec):\n",
    "    \"\"\"Converts time to an angle (in rad), at cycles_per_sec rate.\"\"\"\n",
    "    return t * cycles_per_sec * 2 * np.pi\n",
    "\n",
    "time2angle(t, 0.5)[0:10]"
   ]
  },
  {
   "cell_type": "markdown",
   "metadata": {},
   "source": [
    "Let's check that the last value is roughly equal to what we expect at 0.5 turns per second (i.e. 2 seconds are one turn or 2 $\\pi$ and thus 4.5 secondes are 2.25 * $2 \\pi$)."
   ]
  },
  {
   "cell_type": "code",
   "execution_count": null,
   "metadata": {},
   "outputs": [],
   "source": [
    "time2angle(t, 0.5)[-1], 2.25 * 2 * np.pi"
   ]
  },
  {
   "cell_type": "markdown",
   "metadata": {},
   "source": [
    "Good, now let's move on to that graph."
   ]
  },
  {
   "cell_type": "code",
   "execution_count": null,
   "metadata": {},
   "outputs": [],
   "source": [
    "angles = time2angle(t, 0.5)\n",
    "r = amp\n",
    "x = r * np.cos(angles)\n",
    "y = r * np.sin(angles)\n",
    "\n",
    "hv.Curve((x, y))"
   ]
  },
  {
   "cell_type": "markdown",
   "metadata": {},
   "source": [
    "Nice! Let's see if we can make this a little bit interactive."
   ]
  },
  {
   "cell_type": "code",
   "execution_count": null,
   "metadata": {},
   "outputs": [],
   "source": [
    "mappings = {}\n",
    "for cycles_per_sec in np.linspace(0.2, 1.5, num=20):\n",
    "    angles = time2angle(t, cycles_per_sec)\n",
    "    r = amp\n",
    "    x = r * np.cos(angles)\n",
    "    y = r * np.sin(angles)\n",
    "    mappings[cycles_per_sec] = hv.Curve((x, y))\n",
    "hv.output(hv.HoloMap(mappings, kdims='cycles_per_sec'), holomap='scrubber')"
   ]
  },
  {
   "cell_type": "markdown",
   "metadata": {},
   "source": [
    "Let's make a more finely explorable diagram."
   ]
  },
  {
   "cell_type": "code",
   "execution_count": null,
   "metadata": {},
   "outputs": [],
   "source": [
    "def plot_circle_mapping(cycles_per_sec):\n",
    "    angles = time2angle(t, cycles_per_sec)\n",
    "    r = amp\n",
    "    x = r * np.cos(angles)\n",
    "    y = r * np.sin(angles)\n",
    "    center_of_mass = np.array([x.mean(), y.mean()]).reshape(1, -1)\n",
    "    mapping_curve = hv.Curve((x, y)).opts(xlim=(-1, 1), ylim=(-1, 1)) * hv.Scatter(center_of_mass).opts(size=10, color='red')\n",
    "    \n",
    "    \n",
    "    n_blocks = int(t.max() * cycles_per_sec ) \n",
    "    vlines = [hv.VLine(val).opts(color='gray') for val in np.arange(n_blocks) / cycles_per_sec if val > 0]\n",
    "    time_curve = hv.Curve((t, amp), kdims='t', vdims='pressure') * hv.Overlay(vlines)\n",
    "    return (mapping_curve + time_curve).cols(1)\n",
    "\n",
    "hv.DynamicMap(plot_circle_mapping, kdims=['cycles_per_sec']).redim.range(cycles_per_sec=(0., 10.)).redim.step(cycles_per_sec=0.01)"
   ]
  },
  {
   "cell_type": "code",
   "execution_count": null,
   "metadata": {},
   "outputs": [],
   "source": []
  }
 ],
 "metadata": {
  "kernelspec": {
   "display_name": "Python 3",
   "language": "python",
   "name": "python3"
  },
  "language_info": {
   "codemirror_mode": {
    "name": "ipython",
    "version": 3
   },
   "file_extension": ".py",
   "mimetype": "text/x-python",
   "name": "python",
   "nbconvert_exporter": "python",
   "pygments_lexer": "ipython3",
   "version": "3.7.6"
  }
 },
 "nbformat": 4,
 "nbformat_minor": 4
}
